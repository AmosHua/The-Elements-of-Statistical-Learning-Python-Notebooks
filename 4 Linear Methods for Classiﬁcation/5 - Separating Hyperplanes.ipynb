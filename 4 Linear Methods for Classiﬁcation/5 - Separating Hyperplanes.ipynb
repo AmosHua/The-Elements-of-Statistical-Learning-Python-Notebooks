{
 "cells": [
  {
   "cell_type": "code",
   "execution_count": 1,
   "metadata": {},
   "outputs": [],
   "source": [
    "import numpy as np\n",
    "from numpy.linalg import norm\n",
    "from sklearn.linear_model import LinearRegression\n",
    "from matplotlib import pyplot as plt\n",
    "%matplotlib inline"
   ]
  },
  {
   "cell_type": "code",
   "execution_count": 2,
   "metadata": {},
   "outputs": [],
   "source": [
    "# |Figure 4.14 shows 20 data points in two classes R^2. \n",
    "# |These data can be separated by a linear boundary.\n",
    "points = np.array([[ 65, 410,   1], [331, 479,   1], [483, 483,   1], \n",
    "                   [318, 410,   1], [187, 348,   1], [192, 310,   1],\n",
    "                   [223, 234,   1], [270, 241,   1], [339, 254,   1],\n",
    "                   [303, 209,   1],\n",
    "                   [168, 244,  -1], [222, 192,  -1], [168, 213,  -1],\n",
    "                   [ 16, 214,  -1], [197, 180,  -1], [ 48, 120,  -1],\n",
    "                   [ 91, 110,  -1], [192,  79,  -1], [219, 107,  -1],\n",
    "                   [223,  66,  -1]])\n",
    "X, Y = points[:,:2], points[:,2]\n",
    "colors = np.array(['red', '', 'green'])[Y+1]"
   ]
  },
  {
   "cell_type": "code",
   "execution_count": 3,
   "metadata": {},
   "outputs": [],
   "source": [
    "# |The orange line is the least squares solution to the problem, \n",
    "# |obtained by regressing the -1/1 response Y on X (with intercept); \n",
    "# |the line is given by {x: b0 + b1*x1 + b2*x2 = 0}.\n",
    "reg = LinearRegression().fit(X, Y)\n",
    "b0, b1, b2 = reg.intercept_, *reg.coef_"
   ]
  },
  {
   "cell_type": "code",
   "execution_count": 4,
   "metadata": {},
   "outputs": [
    {
     "data": {
      "text/plain": [
       "(-10, 510)"
      ]
     },
     "execution_count": 4,
     "metadata": {},
     "output_type": "execute_result"
    },
    {
     "data": {
      "image/png": "[encoded data removed]",
      "text/plain": [
       "<Figure size 368.5x341 with 1 Axes>"
      ]
     },
     "metadata": {},
     "output_type": "display_data"
    }
   ],
   "source": [
    "fig, ax1 = plt.subplots(figsize=(3.35, 3.1), dpi=110)\n",
    "ax1.tick_params(bottom=False, left=False, labelleft=False, labelbottom=False)\n",
    "fig.subplots_adjust(left=0, right=1, top=1, bottom=0)\n",
    "ax1.scatter(points[:,0], points[:,1], color=colors, s=8)\n",
    "# |This least squares solution does not do a perfect job \n",
    "# |in separating the points, and makes one error.\n",
    "ax1.plot([-10, 510], [-(b0-10*b1)/b2, -(b0+510*b1)/b2], color='#E69E00', lw=1)\n",
    "ax1.set_xlim(-10, 510)"
   ]
  },
  {
   "cell_type": "code",
   "execution_count": 5,
   "metadata": {},
   "outputs": [
    {
     "name": "stdout",
     "output_type": "stream",
     "text": [
      "epochs 1\n"
     ]
    }
   ],
   "source": [
    "# |The perceptron learning algorithm tries to find separating hyperplane\n",
    "# |by minimizing the distance of missclassified points to the decision bounary.\n",
    "p = 0.000001\n",
    "for k in range(1000):\n",
    "    has_misclassifications = False\n",
    "    for i in range(points.shape[0]):\n",
    "        if np.sign(X[i] @ np.array([b1, b2]) + b0) != Y[i]:            \n",
    "            # |The algorithm in fact uses stochastic gradient descent to minimize this \n",
    "            # |piecewise linear criterion. This means that rather that computing the \n",
    "            # |sum of the dradient contributions of each observation followed by a step\n",
    "            # |in the negative gradient direction, a step is taken after each observation\n",
    "            # |is visited\n",
    "            db = p * Y[i] * points[i] # delta b\n",
    "            b0 += p* Y[i]\n",
    "            b1 += db[0]\n",
    "            b2 += db[1]\n",
    "            has_misclassifications = True\n",
    "    if not has_misclassifications:\n",
    "        break\n",
    "print('epochs', k)"
   ]
  },
  {
   "cell_type": "code",
   "execution_count": 6,
   "metadata": {},
   "outputs": [
    {
     "data": {
      "text/plain": [
       "(-10, 510)"
      ]
     },
     "execution_count": 6,
     "metadata": {},
     "output_type": "execute_result"
    },
    {
     "data": {
      "image/png": "[encoded data removed]",
      "text/plain": [
       "<Figure size 368.5x341 with 1 Axes>"
      ]
     },
     "metadata": {},
     "output_type": "display_data"
    }
   ],
   "source": [
    "fig, ax1 = plt.subplots(figsize=(3.35, 3.1), dpi=110)\n",
    "ax1.tick_params(bottom=False, left=False, labelleft=False, labelbottom=False)\n",
    "fig.subplots_adjust(left=0, right=1, top=1, bottom=0)\n",
    "ax1.scatter(points[:,0], points[:,1], color=colors, s=8)\n",
    "ax1.plot([-10, 510], [-(b0-10*b1)/b2, -(b0+510*b1)/b2], color='#E69E00', lw=1)\n",
    "ax1.set_xlim(-10, 510)"
   ]
  },
  {
   "cell_type": "code",
   "execution_count": null,
   "metadata": {},
   "outputs": [],
   "source": []
  }
 ],
 "metadata": {
  "kernelspec": {
   "display_name": "Python 3.6 (with Tensorflow GPU)",
   "language": "python",
   "name": "tensorflow"
  },
  "language_info": {
   "codemirror_mode": {
    "name": "ipython",
    "version": 3
   },
   "file_extension": ".py",
   "mimetype": "text/x-python",
   "name": "python",
   "nbconvert_exporter": "python",
   "pygments_lexer": "ipython3",
   "version": "3.6.4"
  }
 },
 "nbformat": 4,
 "nbformat_minor": 2
}
