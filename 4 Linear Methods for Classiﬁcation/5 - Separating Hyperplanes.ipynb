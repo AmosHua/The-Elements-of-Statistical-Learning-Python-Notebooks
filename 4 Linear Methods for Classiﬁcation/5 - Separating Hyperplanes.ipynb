{
 "cells": [
  {
   "cell_type": "code",
   "execution_count": 43,
   "metadata": {},
   "outputs": [],
   "source": [
    "import numpy as np\n",
    "from matplotlib import pyplot as plt\n",
    "%matplotlib inline"
   ]
  },
  {
   "cell_type": "code",
   "execution_count": 27,
   "metadata": {},
   "outputs": [
    {
     "data": {
      "text/plain": [
       "(4.0, array([-0.5, -1. ]))"
      ]
     },
     "execution_count": 27,
     "metadata": {},
     "output_type": "execute_result"
    }
   ],
   "source": [
    "X = np.array([[1, 0], [1, 8]])\n",
    "y = np.array([4, 0])\n",
    "b = np.linalg.inv(X.T @ X) @ X.T @ y\n",
    "b0, b = b[0], np.array([b[1], -1])\n",
    "b0, b"
   ]
  },
  {
   "cell_type": "code",
   "execution_count": 29,
   "metadata": {},
   "outputs": [
    {
     "data": {
      "text/plain": [
       "0.0"
      ]
     },
     "execution_count": 29,
     "metadata": {},
     "output_type": "execute_result"
    }
   ],
   "source": [
    "# for any 2 points x1 and x2 lying in L, b.T.dot(x1 - x2) equals 0\n",
    "x1, x2 = np.array([2, 3]), np.array([4, 2])\n",
    "b @ (x1 - x2)"
   ]
  },
  {
   "cell_type": "code",
   "execution_count": 31,
   "metadata": {},
   "outputs": [
    {
     "data": {
      "text/plain": [
       "-4.0"
      ]
     },
     "execution_count": 31,
     "metadata": {},
     "output_type": "execute_result"
    }
   ],
   "source": [
    "# for any point x0 lying in L, b.T.dot(x0) equals - b0\n",
    "x0 = np.array([3, 2.5])\n",
    "b @ x0"
   ]
  },
  {
   "cell_type": "code",
   "execution_count": 33,
   "metadata": {},
   "outputs": [
    {
     "data": {
      "text/plain": [
       "array([-0.4472136 , -0.89442719])"
      ]
     },
     "execution_count": 33,
     "metadata": {},
     "output_type": "execute_result"
    }
   ],
   "source": [
    "b_norm = b / np.sqrt(b @ b)\n",
    "b_norm"
   ]
  },
  {
   "cell_type": "code",
   "execution_count": 36,
   "metadata": {},
   "outputs": [
    {
     "data": {
      "text/plain": [
       "(-2.23606797749979, 2.23606797749979)"
      ]
     },
     "execution_count": 36,
     "metadata": {},
     "output_type": "execute_result"
    }
   ],
   "source": [
    "x1, x2 = np.array([3, 5]), np.array([1, 1])\n",
    "b_norm @ (x1 - x0), b_norm @ (x2 - x0)"
   ]
  },
  {
   "cell_type": "code",
   "execution_count": 38,
   "metadata": {},
   "outputs": [
    {
     "data": {
      "text/plain": [
       "(-2.23606797749979, 2.23606797749979)"
      ]
     },
     "execution_count": 38,
     "metadata": {},
     "output_type": "execute_result"
    }
   ],
   "source": [
    "(b @ x1 + b0) / np.sqrt(b @ b), (b @ x2 + b0) / np.sqrt(b @ b)"
   ]
  },
  {
   "cell_type": "code",
   "execution_count": 117,
   "metadata": {},
   "outputs": [],
   "source": [
    "points = np.array([[65.,90],[331,21],[483,17],[318,90],[187,152],[192,190],[223,266],[270,259], [339,246],[303,291],\n",
    "                   [168,256],[222,308],[168,287],[16,286],[197,320],[48,380],[91,390],[192,421],[219,393],[223,434]])\n",
    "y = np.ones(shape=(points.shape[0]))\n",
    "y[10:] = -1\n",
    "colors = ['blue'] * 10 + ['red'] * 10\n",
    "b0, b = 0., np.array([6., -2.])"
   ]
  },
  {
   "cell_type": "code",
   "execution_count": 120,
   "metadata": {},
   "outputs": [
    {
     "data": {
      "text/plain": [
       "<matplotlib.collections.PathCollection at 0x2624cd59908>"
      ]
     },
     "execution_count": 120,
     "metadata": {},
     "output_type": "execute_result"
    },
    {
     "data": {
      "image/png": "[encoded data removed]",
      "text/plain": [
       "<matplotlib.figure.Figure at 0x2624cd06ac8>"
      ]
     },
     "metadata": {},
     "output_type": "display_data"
    }
   ],
   "source": [
    "plt.scatter(points[:,0], points[:,1], color=colors)\n",
    "x0, x1 = 0, 500\n",
    "y0, y1 = -b[0]*x0/b[1], -b[0]*x1/b[1]\n",
    "plt.plot([x0, x1], [y0, y1])\n",
    "misclassified = points[np.sign(points @ b + b0) != y,:]\n",
    "plt.scatter(misclassified[:,0], misclassified[:,1], color='black')"
   ]
  },
  {
   "cell_type": "code",
   "execution_count": 119,
   "metadata": {},
   "outputs": [
    {
     "name": "stdout",
     "output_type": "stream",
     "text": [
      "epochs 18\n"
     ]
    }
   ],
   "source": [
    "p = 0.0001\n",
    "for k in range(1000):\n",
    "    has_misclassifications = False\n",
    "    for i in range(points.shape[0]):\n",
    "        if np.sign(points[i] @ b + b0) != y[i]:\n",
    "            b += p * y[i] * points[i]\n",
    "            b0 += p* y[i]\n",
    "            has_misclassifications = True\n",
    "    if not has_misclassifications:\n",
    "        break\n",
    "print('epochs', k)"
   ]
  }
 ],
 "metadata": {
  "kernelspec": {
   "display_name": "Python [conda env:Python64]",
   "language": "python",
   "name": "conda-env-Python64-py"
  },
  "language_info": {
   "codemirror_mode": {
    "name": "ipython",
    "version": 3
   },
   "file_extension": ".py",
   "mimetype": "text/x-python",
   "name": "python",
   "nbconvert_exporter": "python",
   "pygments_lexer": "ipython3",
   "version": "3.6.3"
  }
 },
 "nbformat": 4,
 "nbformat_minor": 2
}
