{
 "cells": [
  {
   "cell_type": "code",
   "execution_count": 1,
   "metadata": {
    "collapsed": true
   },
   "outputs": [],
   "source": [
    "import numpy as np\n",
    "import pandas as pd\n",
    "np.set_printoptions(precision=3, suppress=True)"
   ]
  },
  {
   "cell_type": "code",
   "execution_count": 2,
   "metadata": {
    "collapsed": true
   },
   "outputs": [],
   "source": [
    "df = pd.read_csv(\"../data/South African Heart Disease.txt\")\n",
    "names = ['sbp', 'tobacco', 'ldl', 'famhist', 'obesity', 'alcohol', 'age']\n",
    "df['famhist'] = pd.get_dummies(df['famhist'])['Present']\n",
    "X, y = df[names].values, df[['chd']].values\n",
    "X = np.insert(X, 0, values=1, axis=1)\n",
    "N = X.shape[0]"
   ]
  },
  {
   "cell_type": "code",
   "execution_count": 3,
   "metadata": {
    "collapsed": true
   },
   "outputs": [],
   "source": [
    "b_hat = np.array([[-4.1296, 0.0058, 0.0795, 0.1848, 0.9392, -0.0345, 0.0006, 0.0425]])"
   ]
  },
  {
   "cell_type": "code",
   "execution_count": 4,
   "metadata": {},
   "outputs": [],
   "source": [
    "y_hat = np.zeros(shape=y.shape)\n",
    "for i in range(N):\n",
    "    e = np.exp(b_hat @ X[i].T)[0]\n",
    "    ps = [1 / (1 + e), e / (1 + e)]\n",
    "    y_hat[i,0] = np.argmax(ps)"
   ]
  },
  {
   "cell_type": "code",
   "execution_count": 6,
   "metadata": {},
   "outputs": [
    {
     "data": {
      "text/plain": [
       "336"
      ]
     },
     "execution_count": 6,
     "metadata": {},
     "output_type": "execute_result"
    }
   ],
   "source": [
    "np.sum(y == y_hat)"
   ]
  },
  {
   "cell_type": "code",
   "execution_count": 65,
   "metadata": {
    "collapsed": true
   },
   "outputs": [],
   "source": [
    "#b_hat = np.array([-4.1296, 0.0058, 0.0795, 0.1848, 0.9392, -0.0345, 0.0006, 0.0425])\n",
    "b_hat = np.array([0., 0., 0., 0., 0., 0., 0., 0.])"
   ]
  },
  {
   "cell_type": "code",
   "execution_count": 87,
   "metadata": {},
   "outputs": [
    {
     "name": "stdout",
     "output_type": "stream",
     "text": [
      "-241.58701618236933\n"
     ]
    }
   ],
   "source": [
    "loss = 0\n",
    "for i in range(N):\n",
    "    bt_xi = b_hat @ X[i]\n",
    "    loss += y[i][0] * bt_xi - np.log(1+np.exp(bt_xi))\n",
    "print(loss)"
   ]
  },
  {
   "cell_type": "code",
   "execution_count": 88,
   "metadata": {},
   "outputs": [],
   "source": [
    "grad = np.zeros(shape=(1, 8))\n",
    "for i in range(N):\n",
    "    ebx = np.exp(b_hat @ X[i].T)\n",
    "    grad += X[i] * (y[i, 0] - ebx/(1+ebx))"
   ]
  },
  {
   "cell_type": "code",
   "execution_count": 89,
   "metadata": {},
   "outputs": [],
   "source": [
    "hess = np.zeros(shape=(8, 8))\n",
    "for i in range(N):\n",
    "    ebx = np.exp(b_hat @ X[i].T)\n",
    "    xi = np.reshape(X[i], (1, 8))\n",
    "    pxi = ebx/(1+ebx)\n",
    "    hess += -(xi.T @ xi) * pxi * (1 - pxi)"
   ]
  },
  {
   "cell_type": "code",
   "execution_count": 90,
   "metadata": {},
   "outputs": [
    {
     "data": {
      "text/plain": [
       "array([-4.13 ,  0.006,  0.08 ,  0.185,  0.939, -0.035,  0.001,  0.043])"
      ]
     },
     "execution_count": 90,
     "metadata": {},
     "output_type": "execute_result"
    }
   ],
   "source": [
    "b_hat -= np.squeeze(np.linalg.inv(hess) @ grad.T)\n",
    "b_hat"
   ]
  },
  {
   "cell_type": "code",
   "execution_count": 98,
   "metadata": {},
   "outputs": [
    {
     "data": {
      "text/plain": [
       "array([[3, 6, 9],\n",
       "       [2, 5, 8],\n",
       "       [1, 4, 7]])"
      ]
     },
     "execution_count": 98,
     "metadata": {},
     "output_type": "execute_result"
    }
   ],
   "source": [
    "a = np.array([[1, 2, 3], [4, 5, 6], [7, 8, 9]])\n",
    "np.rot90(a)\n",
    "#a.T[:,::-1]"
   ]
  },
  {
   "cell_type": "code",
   "execution_count": null,
   "metadata": {
    "collapsed": true
   },
   "outputs": [],
   "source": []
  }
 ],
 "metadata": {
  "kernelspec": {
   "display_name": "Python [conda env:Python64]",
   "language": "python",
   "name": "conda-env-Python64-py"
  },
  "language_info": {
   "codemirror_mode": {
    "name": "ipython",
    "version": 3
   },
   "file_extension": ".py",
   "mimetype": "text/x-python",
   "name": "python",
   "nbconvert_exporter": "python",
   "pygments_lexer": "ipython3",
   "version": "3.6.3"
  }
 },
 "nbformat": 4,
 "nbformat_minor": 2
}
