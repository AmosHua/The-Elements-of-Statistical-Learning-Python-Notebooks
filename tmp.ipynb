{
 "cells": [
  {
   "cell_type": "code",
   "execution_count": 1,
   "metadata": {
    "collapsed": true
   },
   "outputs": [],
   "source": [
    "import numpy as np\n",
    "from numpy.random import multivariate_normal as mn\n",
    "from scipy.stats import multivariate_normal as smn\n",
    "from sklearn.metrics import accuracy_score\n",
    "from matplotlib import pyplot as plt\n",
    "%matplotlib inline"
   ]
  },
  {
   "cell_type": "code",
   "execution_count": 2,
   "metadata": {
    "collapsed": true
   },
   "outputs": [],
   "source": [
    "brown = np.array([[7,4    ], [39,7   ], [79,8   ], [119,8  ], [160,8  ], [212,9  ], [262,10 ], [318,11 ], [346,10 ],\n",
    "                  [292,12 ], [350,36 ], [323,38 ], [291,40 ], [262,42 ], [221,43 ], [177,44 ], [132,45 ], [103,45 ],\n",
    "                  [50,45  ], [20,45  ], [12,69  ], [13,89  ], [56,81  ], [94,81  ], [125,81 ], [175,83 ], [214,86 ],\n",
    "                  [235,87 ], [268,81 ], [302,78 ], [346,76 ], [329,81 ], [349,91 ], [351,107], [338,117], [324,108],\n",
    "                  [255,112], [254,113], [212,119], [169,120], [104,122], [63,124 ], [41,132 ], [33,152 ], [29,163 ],\n",
    "                  [75,159 ], [88,152 ], [131,151], [162,153], [191,155], [234,156], [257,156], [288,156], [321,158],\n",
    "                  [345,155], [312,133], [283,120], [348,136], [359,176], [365,192], [367,211], [373,229], [379,247],\n",
    "                  [380,267], [376,284], [360,294], [332,295], [332,295], [321,283], [314,259], [302,240], [297,220],\n",
    "                  [286,205], [286,189], [305,184], [329,183], [328,203], [322,205], [339,234], [355,255], [367,248],\n",
    "                  [269,189], [219,194], [186,197], [161,193], [125,193], [103,196], [77,197 ], [43,195 ], [22,227 ],\n",
    "                  [20,258 ], [51,236 ], [104,228], [141,224], [177,223], [35,277 ], [19,315 ], [19,335 ], [51,324 ],\n",
    "                  [77,308 ], [105,292], [138,277], [189,250], [214,224], [246,203], [108,251], [77,266 ], [63,284 ],\n",
    "                  [490,8  ], [521,9  ], [548,10 ], [565,19 ], [565,34 ], [556,44 ], [538,44 ], [520,43 ], [502,47 ],\n",
    "                  [488,53 ], [485,66 ], [487,82 ], [504,82 ], [538,82 ], [568,80 ], [567,91 ], [560,99 ], [536,107],\n",
    "                  [519,109], [504,111], [495,117], [483,140], [479,107], [479,85 ], [481,36 ], [488,24 ], [522,35 ],\n",
    "                  [505,29 ], [540,26 ], [525,68 ], [484,158], [489,176], [484,194], [492,215], [495,225], [504,252],\n",
    "                  [514,272], [519,286], [525,303], [533,319], [546,341], [561,357], [560,344], [562,311], [562,287],\n",
    "                  [560,246], [563,223], [567,181], [567,148], [561,123], [531,123], [514,131], [506,156], [508,135],\n",
    "                  [533,163], [546,137], [548,198], [548,246], [545,289], [543,259], [522,211], [522,231], [545,218],\n",
    "                  [551,164], [522,137], [500,155], [515,182]])"
   ]
  },
  {
   "cell_type": "code",
   "execution_count": 3,
   "metadata": {
    "collapsed": true
   },
   "outputs": [],
   "source": [
    "blue = np.array([[378,7  ], [388,7  ], [413,6  ], [429,6  ], [465,10 ], [461,19 ],[458,41 ],[459,59 ],[459,76 ],[459,104],[454,126],[460,154],[465,174],[466,195],[472,218],[477,239],[487,255],[494,270],[499,287],\n",
    "[505,303],[512,318],[520,328],[527,348],[534,365],[553,380],[563,394],[374,17 ],[373,39 ],[371,62 ],[374,83 ],[371,102],[373,122],[378,141],[382,164],[387,178],[392,208],[393,194],[400,219],[404,235],\n",
    "[408,252],[406,272],[402,293],[390,304],[386,310],[362,319],[376,316],[345,320],[324,319],[309,310],[300,294],[296,278],[290,261],[287,249],[279,233],[274,227],[263,219],[249,218],[244,230],[235,245],\n",
    "[222,255],[216,267],[197,277],[186,285],[174,291],[163,298],[155,303],[138,312],[113,317],[102,328],[80,330 ],[69,344 ],[57,342 ],[51,350 ],[41,352 ],[28,362 ],[16,376 ],[244,246],[266,242],[254,237],\n",
    "[226,271],[250,270],[268,264],[274,278],[274,293],[246,293],[224,293],[198,300],[170,318],[238,313],[243,313],[301,316],[270,314],[287,302],[197,325],[151,324],[107,343],[192,340],[204,340],[280,341],\n",
    "[307,342],[373,343],[396,343],[419,343],[453,344],[465,344],[393,25 ],[409,29 ],[437,24 ],[432,46 ],[407,53 ],[386,64 ],[401,81 ],[418,72 ],[429,80 ],[439,91 ],[427,129],[413,98 ],[421,104],[397,120],\n",
    "[402,150],[424,152],[449,161],[450,178],[427,172],[415,179],[420,204],[427,207],[447,218],[448,206],[443,245],[432,249],[464,273],[439,302],[416,308],[430,268],[438,280],[478,284],[477,295],[489,313],\n",
    "[456,318],[434,327],[415,327],[454,297],[458,249],[36,371 ],[91,365 ],[138,366],[225,370],[257,371],[324,373],[356,373],[420,372],[438,372],[483,374],[504,383],[541,401],[519,412],[456,410],[436,411],\n",
    "[374,413],[349,414],[302,416],[257,416],[211,416],[156,419],[110,422],[46,420 ],[45,444 ],[45,469 ],[53,473 ],[110,475],[147,475],[283,477],[321,477],[377,478],[442,479],[474,481],[509,476],[533,493],\n",
    "[508,506],[412,507],[358,508],[282,508],[222,508],[124,505],[85,509 ],[53,512 ],[80,446 ],[87,392 ],[39,406 ],[186,451],[288,451],[213,457],[246,444],[246,443],[404,442],[366,450],[477,449],[486,418],\n",
    "[524,449],[548,440],[554,484],[557,502],[493,511],[424,510],[444,507],[328,452],[270,501],[168,479],[186,499],[256,481],[224,470],[225,486],[185,400],[168,389],[183,371],[125,390]])"
   ]
  },
  {
   "cell_type": "code",
   "execution_count": 4,
   "metadata": {
    "collapsed": true
   },
   "outputs": [],
   "source": [
    "w, h = 573, 530"
   ]
  },
  {
   "cell_type": "code",
   "execution_count": 5,
   "metadata": {},
   "outputs": [],
   "source": [
    "brown = np.hstack((brown, np.zeros(shape=(brown.shape[0], 1))))\n",
    "blue = np.hstack((blue, np.ones(shape=(blue.shape[0], 1))))"
   ]
  },
  {
   "cell_type": "code",
   "execution_count": 6,
   "metadata": {
    "collapsed": true
   },
   "outputs": [],
   "source": [
    "points = np.vstack((blue, brown))\n",
    "points[:,1] = 5 * (h - points[:,1]) / h - 2\n",
    "points[:,0] = 5 * points[:,0] / w - 2"
   ]
  },
  {
   "cell_type": "code",
   "execution_count": 7,
   "metadata": {},
   "outputs": [],
   "source": [
    "#plt.scatter(points[points[:,2] == 1][:,0], points[points[:,2] == 1][:,1])\n",
    "#plt.scatter(points[points[:,2] == 0][:,0], points[points[:,2] == 0][:,1])"
   ]
  },
  {
   "cell_type": "code",
   "execution_count": 8,
   "metadata": {},
   "outputs": [
    {
     "name": "stdout",
     "output_type": "stream",
     "text": [
      "0.625\n",
      "0.6454081632653061\n",
      "0.7295918367346939\n",
      "0.7448979591836735\n",
      "0.7602040816326531\n",
      "0.7806122448979592\n",
      "0.8571428571428571\n",
      "0.8622448979591837\n",
      "0.8826530612244898\n",
      "0.8903061224489796\n",
      "0.8954081632653061\n",
      "0.9336734693877551\n"
     ]
    },
    {
     "ename": "KeyboardInterrupt",
     "evalue": "",
     "output_type": "error",
     "traceback": [
      "\u001b[1;31m---------------------------------------------------------------------------\u001b[0m",
      "\u001b[1;31mKeyboardInterrupt\u001b[0m                         Traceback (most recent call last)",
      "\u001b[1;32m<ipython-input-8-97c8f078b159>\u001b[0m in \u001b[0;36m<module>\u001b[1;34m()\u001b[0m\n\u001b[0;32m      8\u001b[0m     \u001b[0mpbrown\u001b[0m \u001b[1;33m=\u001b[0m \u001b[0mnp\u001b[0m\u001b[1;33m.\u001b[0m\u001b[0mzeros\u001b[0m\u001b[1;33m(\u001b[0m\u001b[0mpoints\u001b[0m\u001b[1;33m.\u001b[0m\u001b[0mshape\u001b[0m\u001b[1;33m[\u001b[0m\u001b[1;36m0\u001b[0m\u001b[1;33m]\u001b[0m\u001b[1;33m)\u001b[0m\u001b[1;33m\u001b[0m\u001b[0m\n\u001b[0;32m      9\u001b[0m     \u001b[1;32mfor\u001b[0m \u001b[0mi\u001b[0m \u001b[1;32min\u001b[0m \u001b[0mrange\u001b[0m\u001b[1;33m(\u001b[0m\u001b[1;36m10\u001b[0m\u001b[1;33m)\u001b[0m\u001b[1;33m:\u001b[0m\u001b[1;33m\u001b[0m\u001b[0m\n\u001b[1;32m---> 10\u001b[1;33m         \u001b[0mpblue\u001b[0m \u001b[1;33m+=\u001b[0m \u001b[0msmn\u001b[0m\u001b[1;33m.\u001b[0m\u001b[0mpdf\u001b[0m\u001b[1;33m(\u001b[0m\u001b[0mpoints\u001b[0m\u001b[1;33m[\u001b[0m\u001b[1;33m:\u001b[0m\u001b[1;33m,\u001b[0m\u001b[1;33m:\u001b[0m\u001b[1;36m2\u001b[0m\u001b[1;33m]\u001b[0m\u001b[1;33m,\u001b[0m \u001b[0mmean\u001b[0m\u001b[1;33m=\u001b[0m\u001b[0mblue_means\u001b[0m\u001b[1;33m[\u001b[0m\u001b[0mi\u001b[0m\u001b[1;33m]\u001b[0m\u001b[1;33m,\u001b[0m \u001b[0mcov\u001b[0m\u001b[1;33m=\u001b[0m\u001b[0mI\u001b[0m\u001b[1;33m/\u001b[0m\u001b[1;36m5\u001b[0m\u001b[1;33m)\u001b[0m\u001b[1;33m\u001b[0m\u001b[0m\n\u001b[0m\u001b[0;32m     11\u001b[0m         \u001b[0mpbrown\u001b[0m \u001b[1;33m+=\u001b[0m \u001b[0msmn\u001b[0m\u001b[1;33m.\u001b[0m\u001b[0mpdf\u001b[0m\u001b[1;33m(\u001b[0m\u001b[0mpoints\u001b[0m\u001b[1;33m[\u001b[0m\u001b[1;33m:\u001b[0m\u001b[1;33m,\u001b[0m\u001b[1;33m:\u001b[0m\u001b[1;36m2\u001b[0m\u001b[1;33m]\u001b[0m\u001b[1;33m,\u001b[0m \u001b[0mmean\u001b[0m\u001b[1;33m=\u001b[0m\u001b[0mbrown_means\u001b[0m\u001b[1;33m[\u001b[0m\u001b[0mi\u001b[0m\u001b[1;33m]\u001b[0m\u001b[1;33m,\u001b[0m \u001b[0mcov\u001b[0m\u001b[1;33m=\u001b[0m\u001b[0mI\u001b[0m\u001b[1;33m/\u001b[0m\u001b[1;36m5\u001b[0m\u001b[1;33m)\u001b[0m\u001b[1;33m\u001b[0m\u001b[0m\n\u001b[0;32m     12\u001b[0m     \u001b[0ma_s\u001b[0m \u001b[1;33m=\u001b[0m \u001b[0maccuracy_score\u001b[0m\u001b[1;33m(\u001b[0m\u001b[0mpoints\u001b[0m\u001b[1;33m[\u001b[0m\u001b[1;33m:\u001b[0m\u001b[1;33m,\u001b[0m\u001b[1;36m2\u001b[0m\u001b[1;33m]\u001b[0m\u001b[1;33m,\u001b[0m \u001b[1;36m0\u001b[0m\u001b[1;33m+\u001b[0m\u001b[1;33m(\u001b[0m\u001b[0mpblue\u001b[0m\u001b[1;33m>\u001b[0m\u001b[0mpbrown\u001b[0m\u001b[1;33m)\u001b[0m\u001b[1;33m)\u001b[0m\u001b[1;33m\u001b[0m\u001b[0m\n",
      "\u001b[1;32mC:\\Python64\\lib\\site-packages\\scipy\\stats\\_multivariate.py\u001b[0m in \u001b[0;36mpdf\u001b[1;34m(self, x, mean, cov, allow_singular)\u001b[0m\n\u001b[0;32m    505\u001b[0m         \u001b[0mx\u001b[0m \u001b[1;33m=\u001b[0m \u001b[0mself\u001b[0m\u001b[1;33m.\u001b[0m\u001b[0m_process_quantiles\u001b[0m\u001b[1;33m(\u001b[0m\u001b[0mx\u001b[0m\u001b[1;33m,\u001b[0m \u001b[0mdim\u001b[0m\u001b[1;33m)\u001b[0m\u001b[1;33m\u001b[0m\u001b[0m\n\u001b[0;32m    506\u001b[0m         \u001b[0mpsd\u001b[0m \u001b[1;33m=\u001b[0m \u001b[0m_PSD\u001b[0m\u001b[1;33m(\u001b[0m\u001b[0mcov\u001b[0m\u001b[1;33m,\u001b[0m \u001b[0mallow_singular\u001b[0m\u001b[1;33m=\u001b[0m\u001b[0mallow_singular\u001b[0m\u001b[1;33m)\u001b[0m\u001b[1;33m\u001b[0m\u001b[0m\n\u001b[1;32m--> 507\u001b[1;33m         \u001b[0mout\u001b[0m \u001b[1;33m=\u001b[0m \u001b[0mnp\u001b[0m\u001b[1;33m.\u001b[0m\u001b[0mexp\u001b[0m\u001b[1;33m(\u001b[0m\u001b[0mself\u001b[0m\u001b[1;33m.\u001b[0m\u001b[0m_logpdf\u001b[0m\u001b[1;33m(\u001b[0m\u001b[0mx\u001b[0m\u001b[1;33m,\u001b[0m \u001b[0mmean\u001b[0m\u001b[1;33m,\u001b[0m \u001b[0mpsd\u001b[0m\u001b[1;33m.\u001b[0m\u001b[0mU\u001b[0m\u001b[1;33m,\u001b[0m \u001b[0mpsd\u001b[0m\u001b[1;33m.\u001b[0m\u001b[0mlog_pdet\u001b[0m\u001b[1;33m,\u001b[0m \u001b[0mpsd\u001b[0m\u001b[1;33m.\u001b[0m\u001b[0mrank\u001b[0m\u001b[1;33m)\u001b[0m\u001b[1;33m)\u001b[0m\u001b[1;33m\u001b[0m\u001b[0m\n\u001b[0m\u001b[0;32m    508\u001b[0m         \u001b[1;32mreturn\u001b[0m \u001b[0m_squeeze_output\u001b[0m\u001b[1;33m(\u001b[0m\u001b[0mout\u001b[0m\u001b[1;33m)\u001b[0m\u001b[1;33m\u001b[0m\u001b[0m\n\u001b[0;32m    509\u001b[0m \u001b[1;33m\u001b[0m\u001b[0m\n",
      "\u001b[1;32mC:\\Python64\\lib\\site-packages\\scipy\\stats\\_multivariate.py\u001b[0m in \u001b[0;36m_logpdf\u001b[1;34m(self, x, mean, prec_U, log_det_cov, rank)\u001b[0m\n\u001b[0;32m    452\u001b[0m \u001b[1;33m\u001b[0m\u001b[0m\n\u001b[0;32m    453\u001b[0m         \"\"\"\n\u001b[1;32m--> 454\u001b[1;33m         \u001b[0mdev\u001b[0m \u001b[1;33m=\u001b[0m \u001b[0mx\u001b[0m \u001b[1;33m-\u001b[0m \u001b[0mmean\u001b[0m\u001b[1;33m\u001b[0m\u001b[0m\n\u001b[0m\u001b[0;32m    455\u001b[0m         \u001b[0mmaha\u001b[0m \u001b[1;33m=\u001b[0m \u001b[0mnp\u001b[0m\u001b[1;33m.\u001b[0m\u001b[0msum\u001b[0m\u001b[1;33m(\u001b[0m\u001b[0mnp\u001b[0m\u001b[1;33m.\u001b[0m\u001b[0msquare\u001b[0m\u001b[1;33m(\u001b[0m\u001b[0mnp\u001b[0m\u001b[1;33m.\u001b[0m\u001b[0mdot\u001b[0m\u001b[1;33m(\u001b[0m\u001b[0mdev\u001b[0m\u001b[1;33m,\u001b[0m \u001b[0mprec_U\u001b[0m\u001b[1;33m)\u001b[0m\u001b[1;33m)\u001b[0m\u001b[1;33m,\u001b[0m \u001b[0maxis\u001b[0m\u001b[1;33m=\u001b[0m\u001b[1;33m-\u001b[0m\u001b[1;36m1\u001b[0m\u001b[1;33m)\u001b[0m\u001b[1;33m\u001b[0m\u001b[0m\n\u001b[0;32m    456\u001b[0m         \u001b[1;32mreturn\u001b[0m \u001b[1;33m-\u001b[0m\u001b[1;36m0.5\u001b[0m \u001b[1;33m*\u001b[0m \u001b[1;33m(\u001b[0m\u001b[0mrank\u001b[0m \u001b[1;33m*\u001b[0m \u001b[0m_LOG_2PI\u001b[0m \u001b[1;33m+\u001b[0m \u001b[0mlog_det_cov\u001b[0m \u001b[1;33m+\u001b[0m \u001b[0mmaha\u001b[0m\u001b[1;33m)\u001b[0m\u001b[1;33m\u001b[0m\u001b[0m\n",
      "\u001b[1;31mKeyboardInterrupt\u001b[0m: "
     ]
    }
   ],
   "source": [
    "I = np.eye(2)\n",
    "best_blue_means, best_brown_means, best_a_s = None, None, 0\n",
    "\n",
    "while True:\n",
    "    blue_means = mn((1, 0), I, 10)\n",
    "    brown_means = mn((0, 1), I, 10)\n",
    "    pblue = np.zeros(points.shape[0])\n",
    "    pbrown = np.zeros(points.shape[0])\n",
    "    for i in range(10):\n",
    "        pblue += smn.pdf(points[:,:2], mean=blue_means[i], cov=I/5)\n",
    "        pbrown += smn.pdf(points[:,:2], mean=brown_means[i], cov=I/5)\n",
    "    a_s = accuracy_score(points[:,2], 0+(pblue>pbrown))\n",
    "    if a_s > best_a_s:\n",
    "        best_blue_means, best_brown_means, best_a_s = blue_means, brown_means, a_s\n",
    "        print(best_a_s)\n",
    "#blue_points = np.vstack([mn(blue_means[i], I/5, 10) for i in range(10)])\n",
    "#brown_points = np.vstack([mn(brown_means[i], I/5, 10) for i in range(10)])"
   ]
  },
  {
   "cell_type": "code",
   "execution_count": 14,
   "metadata": {},
   "outputs": [
    {
     "data": {
      "text/plain": [
       "<matplotlib.collections.PathCollection at 0x234a3885d30>"
      ]
     },
     "execution_count": 14,
     "metadata": {},
     "output_type": "execute_result"
    },
    {
     "data": {
      "image/png": "[encoded data removed]",
      "text/plain": [
       "<matplotlib.figure.Figure at 0x234a31cbfd0>"
      ]
     },
     "metadata": {},
     "output_type": "display_data"
    }
   ],
   "source": [
    "plt.scatter(best_blue_means[:,0], best_blue_means[:,1])\n",
    "plt.scatter(best_brown_means[:,0], best_brown_means[:,1])\n",
    "#plt.scatter(blue_points[:,0], blue_points[:,1])\n",
    "#plt.scatter(brown_points[:,0], brown_points[:,1])"
   ]
  },
  {
   "cell_type": "code",
   "execution_count": 26,
   "metadata": {},
   "outputs": [],
   "source": []
  },
  {
   "cell_type": "code",
   "execution_count": 32,
   "metadata": {},
   "outputs": [],
   "source": [
    "#plt.scatter(points[pblue>pbrown][:,0], points[pblue>pbrown][:,1])\n",
    "#plt.scatter(points[pblue<pbrown][:,0], points[pblue<pbrown][:,1])"
   ]
  },
  {
   "cell_type": "code",
   "execution_count": 31,
   "metadata": {},
   "outputs": [
    {
     "data": {
      "text/plain": [
       "0.7448979591836735"
      ]
     },
     "execution_count": 31,
     "metadata": {},
     "output_type": "execute_result"
    }
   ],
   "source": [
    "accuracy_score(points[:,2], 0+(pblue>pbrown))"
   ]
  },
  {
   "cell_type": "code",
   "execution_count": 42,
   "metadata": {},
   "outputs": [
    {
     "data": {
      "text/plain": [
       "(array([[-0.76984456,  0.68481421],\n",
       "        [ 1.31595023, -0.01524395],\n",
       "        [-0.79998303, -1.25341062],\n",
       "        [ 0.1273859 , -1.59067228],\n",
       "        [ 0.47416484,  0.46370937],\n",
       "        [ 1.44923019, -1.25015962],\n",
       "        [ 0.38579432,  1.09808155],\n",
       "        [ 0.79655758, -0.46856294],\n",
       "        [ 0.14509522, -0.21230019],\n",
       "        [ 1.63124273,  1.50124375]]), array([[-0.6227393 ,  0.7150955 ],\n",
       "        [ 0.82851254,  0.57659957],\n",
       "        [ 0.34909186,  1.38040508],\n",
       "        [ 2.73571771,  1.50710081],\n",
       "        [-1.2294235 ,  1.44724384],\n",
       "        [ 0.74378907,  1.47081486],\n",
       "        [-1.55691576,  1.17149161],\n",
       "        [ 1.01165209,  0.07333176],\n",
       "        [-1.36259986,  1.19934271],\n",
       "        [-0.81420616,  1.32166231]]), 0.9872448979591837)"
      ]
     },
     "execution_count": 42,
     "metadata": {},
     "output_type": "execute_result"
    }
   ],
   "source": [
    "best_blue_means, best_brown_means, best_a_s"
   ]
  },
  {
   "cell_type": "code",
   "execution_count": 40,
   "metadata": {
    "collapsed": true
   },
   "outputs": [],
   "source": [
    "pblue = np.zeros(points.shape[0])\n",
    "pbrown = np.zeros(points.shape[0])\n",
    "for i in range(10):\n",
    "    pblue += smn.pdf(points[:,:2], mean=best_blue_means[i], cov=I/5)\n",
    "    pbrown += smn.pdf(points[:,:2], mean=best_brown_means[i], cov=I/5)"
   ]
  },
  {
   "cell_type": "code",
   "execution_count": 41,
   "metadata": {},
   "outputs": [
    {
     "data": {
      "text/plain": [
       "<matplotlib.collections.PathCollection at 0x234a598b278>"
      ]
     },
     "execution_count": 41,
     "metadata": {},
     "output_type": "execute_result"
    },
    {
     "data": {
      "image/png": "[encoded data removed]",
      "text/plain": [
       "<matplotlib.figure.Figure at 0x234a59b5da0>"
      ]
     },
     "metadata": {},
     "output_type": "display_data"
    }
   ],
   "source": [
    "plt.scatter(points[pblue>pbrown][:,0], points[pblue>pbrown][:,1])\n",
    "plt.scatter(points[pblue<pbrown][:,0], points[pblue<pbrown][:,1])"
   ]
  },
  {
   "cell_type": "code",
   "execution_count": 38,
   "metadata": {},
   "outputs": [
    {
     "ename": "KeyboardInterrupt",
     "evalue": "",
     "output_type": "error",
     "traceback": [
      "\u001b[1;31m---------------------------------------------------------------------------\u001b[0m",
      "\u001b[1;31mKeyboardInterrupt\u001b[0m                         Traceback (most recent call last)",
      "\u001b[1;32m<ipython-input-38-418bdba690a8>\u001b[0m in \u001b[0;36m<module>\u001b[1;34m()\u001b[0m\n\u001b[0;32m      7\u001b[0m         \u001b[0mpblue\u001b[0m \u001b[1;33m+=\u001b[0m \u001b[0msmn\u001b[0m\u001b[1;33m.\u001b[0m\u001b[0mpdf\u001b[0m\u001b[1;33m(\u001b[0m\u001b[0mpoints\u001b[0m\u001b[1;33m[\u001b[0m\u001b[1;33m:\u001b[0m\u001b[1;33m,\u001b[0m\u001b[1;33m:\u001b[0m\u001b[1;36m2\u001b[0m\u001b[1;33m]\u001b[0m\u001b[1;33m,\u001b[0m \u001b[0mmean\u001b[0m\u001b[1;33m=\u001b[0m\u001b[0mblue_means\u001b[0m\u001b[1;33m[\u001b[0m\u001b[0mi\u001b[0m\u001b[1;33m]\u001b[0m\u001b[1;33m,\u001b[0m \u001b[0mcov\u001b[0m\u001b[1;33m=\u001b[0m\u001b[0mI\u001b[0m\u001b[1;33m/\u001b[0m\u001b[1;36m5\u001b[0m\u001b[1;33m)\u001b[0m\u001b[1;33m\u001b[0m\u001b[0m\n\u001b[0;32m      8\u001b[0m         \u001b[0mpbrown\u001b[0m \u001b[1;33m+=\u001b[0m \u001b[0msmn\u001b[0m\u001b[1;33m.\u001b[0m\u001b[0mpdf\u001b[0m\u001b[1;33m(\u001b[0m\u001b[0mpoints\u001b[0m\u001b[1;33m[\u001b[0m\u001b[1;33m:\u001b[0m\u001b[1;33m,\u001b[0m\u001b[1;33m:\u001b[0m\u001b[1;36m2\u001b[0m\u001b[1;33m]\u001b[0m\u001b[1;33m,\u001b[0m \u001b[0mmean\u001b[0m\u001b[1;33m=\u001b[0m\u001b[0mbrown_means\u001b[0m\u001b[1;33m[\u001b[0m\u001b[0mi\u001b[0m\u001b[1;33m]\u001b[0m\u001b[1;33m,\u001b[0m \u001b[0mcov\u001b[0m\u001b[1;33m=\u001b[0m\u001b[0mI\u001b[0m\u001b[1;33m/\u001b[0m\u001b[1;36m5\u001b[0m\u001b[1;33m)\u001b[0m\u001b[1;33m\u001b[0m\u001b[0m\n\u001b[1;32m----> 9\u001b[1;33m     \u001b[0ma_s\u001b[0m \u001b[1;33m=\u001b[0m \u001b[0maccuracy_score\u001b[0m\u001b[1;33m(\u001b[0m\u001b[0mpoints\u001b[0m\u001b[1;33m[\u001b[0m\u001b[1;33m:\u001b[0m\u001b[1;33m,\u001b[0m\u001b[1;36m2\u001b[0m\u001b[1;33m]\u001b[0m\u001b[1;33m,\u001b[0m \u001b[1;36m0\u001b[0m\u001b[1;33m+\u001b[0m\u001b[1;33m(\u001b[0m\u001b[0mpblue\u001b[0m\u001b[1;33m>\u001b[0m\u001b[0mpbrown\u001b[0m\u001b[1;33m)\u001b[0m\u001b[1;33m)\u001b[0m\u001b[1;33m\u001b[0m\u001b[0m\n\u001b[0m\u001b[0;32m     10\u001b[0m     \u001b[1;32mif\u001b[0m \u001b[0ma_s\u001b[0m \u001b[1;33m>\u001b[0m \u001b[0mbest_a_s\u001b[0m\u001b[1;33m:\u001b[0m\u001b[1;33m\u001b[0m\u001b[0m\n\u001b[0;32m     11\u001b[0m         \u001b[0mbest_blue_means\u001b[0m\u001b[1;33m,\u001b[0m \u001b[0mbest_brown_means\u001b[0m\u001b[1;33m,\u001b[0m \u001b[0mbest_a_s\u001b[0m \u001b[1;33m=\u001b[0m \u001b[0mblue_means\u001b[0m\u001b[1;33m,\u001b[0m \u001b[0mbrown_means\u001b[0m\u001b[1;33m,\u001b[0m \u001b[0ma_s\u001b[0m\u001b[1;33m\u001b[0m\u001b[0m\n",
      "\u001b[1;32mC:\\Python64\\lib\\site-packages\\sklearn\\metrics\\classification.py\u001b[0m in \u001b[0;36maccuracy_score\u001b[1;34m(y_true, y_pred, normalize, sample_weight)\u001b[0m\n\u001b[0;32m    174\u001b[0m \u001b[1;33m\u001b[0m\u001b[0m\n\u001b[0;32m    175\u001b[0m     \u001b[1;31m# Compute accuracy for each possible representation\u001b[0m\u001b[1;33m\u001b[0m\u001b[1;33m\u001b[0m\u001b[0m\n\u001b[1;32m--> 176\u001b[1;33m     \u001b[0my_type\u001b[0m\u001b[1;33m,\u001b[0m \u001b[0my_true\u001b[0m\u001b[1;33m,\u001b[0m \u001b[0my_pred\u001b[0m \u001b[1;33m=\u001b[0m \u001b[0m_check_targets\u001b[0m\u001b[1;33m(\u001b[0m\u001b[0my_true\u001b[0m\u001b[1;33m,\u001b[0m \u001b[0my_pred\u001b[0m\u001b[1;33m)\u001b[0m\u001b[1;33m\u001b[0m\u001b[0m\n\u001b[0m\u001b[0;32m    177\u001b[0m     \u001b[1;32mif\u001b[0m \u001b[0my_type\u001b[0m\u001b[1;33m.\u001b[0m\u001b[0mstartswith\u001b[0m\u001b[1;33m(\u001b[0m\u001b[1;34m'multilabel'\u001b[0m\u001b[1;33m)\u001b[0m\u001b[1;33m:\u001b[0m\u001b[1;33m\u001b[0m\u001b[0m\n\u001b[0;32m    178\u001b[0m         \u001b[0mdiffering_labels\u001b[0m \u001b[1;33m=\u001b[0m \u001b[0mcount_nonzero\u001b[0m\u001b[1;33m(\u001b[0m\u001b[0my_true\u001b[0m \u001b[1;33m-\u001b[0m \u001b[0my_pred\u001b[0m\u001b[1;33m,\u001b[0m \u001b[0maxis\u001b[0m\u001b[1;33m=\u001b[0m\u001b[1;36m1\u001b[0m\u001b[1;33m)\u001b[0m\u001b[1;33m\u001b[0m\u001b[0m\n",
      "\u001b[1;32mC:\\Python64\\lib\\site-packages\\sklearn\\metrics\\classification.py\u001b[0m in \u001b[0;36m_check_targets\u001b[1;34m(y_true, y_pred)\u001b[0m\n\u001b[0;32m     70\u001b[0m     \"\"\"\n\u001b[0;32m     71\u001b[0m     \u001b[0mcheck_consistent_length\u001b[0m\u001b[1;33m(\u001b[0m\u001b[0my_true\u001b[0m\u001b[1;33m,\u001b[0m \u001b[0my_pred\u001b[0m\u001b[1;33m)\u001b[0m\u001b[1;33m\u001b[0m\u001b[0m\n\u001b[1;32m---> 72\u001b[1;33m     \u001b[0mtype_true\u001b[0m \u001b[1;33m=\u001b[0m \u001b[0mtype_of_target\u001b[0m\u001b[1;33m(\u001b[0m\u001b[0my_true\u001b[0m\u001b[1;33m)\u001b[0m\u001b[1;33m\u001b[0m\u001b[0m\n\u001b[0m\u001b[0;32m     73\u001b[0m     \u001b[0mtype_pred\u001b[0m \u001b[1;33m=\u001b[0m \u001b[0mtype_of_target\u001b[0m\u001b[1;33m(\u001b[0m\u001b[0my_pred\u001b[0m\u001b[1;33m)\u001b[0m\u001b[1;33m\u001b[0m\u001b[0m\n\u001b[0;32m     74\u001b[0m \u001b[1;33m\u001b[0m\u001b[0m\n",
      "\u001b[1;32mC:\\Python64\\lib\\site-packages\\sklearn\\utils\\multiclass.py\u001b[0m in \u001b[0;36mtype_of_target\u001b[1;34m(y)\u001b[0m\n\u001b[0;32m    286\u001b[0m         \u001b[1;32mreturn\u001b[0m \u001b[1;34m'continuous'\u001b[0m \u001b[1;33m+\u001b[0m \u001b[0msuffix\u001b[0m\u001b[1;33m\u001b[0m\u001b[0m\n\u001b[0;32m    287\u001b[0m \u001b[1;33m\u001b[0m\u001b[0m\n\u001b[1;32m--> 288\u001b[1;33m     \u001b[1;32mif\u001b[0m \u001b[1;33m(\u001b[0m\u001b[0mlen\u001b[0m\u001b[1;33m(\u001b[0m\u001b[0mnp\u001b[0m\u001b[1;33m.\u001b[0m\u001b[0munique\u001b[0m\u001b[1;33m(\u001b[0m\u001b[0my\u001b[0m\u001b[1;33m)\u001b[0m\u001b[1;33m)\u001b[0m \u001b[1;33m>\u001b[0m \u001b[1;36m2\u001b[0m\u001b[1;33m)\u001b[0m \u001b[1;32mor\u001b[0m \u001b[1;33m(\u001b[0m\u001b[0my\u001b[0m\u001b[1;33m.\u001b[0m\u001b[0mndim\u001b[0m \u001b[1;33m>=\u001b[0m \u001b[1;36m2\u001b[0m \u001b[1;32mand\u001b[0m \u001b[0mlen\u001b[0m\u001b[1;33m(\u001b[0m\u001b[0my\u001b[0m\u001b[1;33m[\u001b[0m\u001b[1;36m0\u001b[0m\u001b[1;33m]\u001b[0m\u001b[1;33m)\u001b[0m \u001b[1;33m>\u001b[0m \u001b[1;36m1\u001b[0m\u001b[1;33m)\u001b[0m\u001b[1;33m:\u001b[0m\u001b[1;33m\u001b[0m\u001b[0m\n\u001b[0m\u001b[0;32m    289\u001b[0m         \u001b[1;32mreturn\u001b[0m \u001b[1;34m'multiclass'\u001b[0m \u001b[1;33m+\u001b[0m \u001b[0msuffix\u001b[0m  \u001b[1;31m# [1, 2, 3] or [[1., 2., 3]] or [[1, 2]]\u001b[0m\u001b[1;33m\u001b[0m\u001b[0m\n\u001b[0;32m    290\u001b[0m     \u001b[1;32melse\u001b[0m\u001b[1;33m:\u001b[0m\u001b[1;33m\u001b[0m\u001b[0m\n",
      "\u001b[1;32mC:\\Python64\\lib\\site-packages\\numpy\\lib\\arraysetops.py\u001b[0m in \u001b[0;36munique\u001b[1;34m(ar, return_index, return_inverse, return_counts, axis)\u001b[0m\n\u001b[0;32m    262\u001b[0m     \u001b[0mar\u001b[0m \u001b[1;33m=\u001b[0m \u001b[0mnp\u001b[0m\u001b[1;33m.\u001b[0m\u001b[0masanyarray\u001b[0m\u001b[1;33m(\u001b[0m\u001b[0mar\u001b[0m\u001b[1;33m)\u001b[0m\u001b[1;33m\u001b[0m\u001b[0m\n\u001b[0;32m    263\u001b[0m     \u001b[1;32mif\u001b[0m \u001b[0maxis\u001b[0m \u001b[1;32mis\u001b[0m \u001b[1;32mNone\u001b[0m\u001b[1;33m:\u001b[0m\u001b[1;33m\u001b[0m\u001b[0m\n\u001b[1;32m--> 264\u001b[1;33m         \u001b[0mret\u001b[0m \u001b[1;33m=\u001b[0m \u001b[0m_unique1d\u001b[0m\u001b[1;33m(\u001b[0m\u001b[0mar\u001b[0m\u001b[1;33m,\u001b[0m \u001b[0mreturn_index\u001b[0m\u001b[1;33m,\u001b[0m \u001b[0mreturn_inverse\u001b[0m\u001b[1;33m,\u001b[0m \u001b[0mreturn_counts\u001b[0m\u001b[1;33m)\u001b[0m\u001b[1;33m\u001b[0m\u001b[0m\n\u001b[0m\u001b[0;32m    265\u001b[0m         \u001b[1;32mreturn\u001b[0m \u001b[0m_unpack_tuple\u001b[0m\u001b[1;33m(\u001b[0m\u001b[0mret\u001b[0m\u001b[1;33m)\u001b[0m\u001b[1;33m\u001b[0m\u001b[0m\n\u001b[0;32m    266\u001b[0m \u001b[1;33m\u001b[0m\u001b[0m\n",
      "\u001b[1;32mC:\\Python64\\lib\\site-packages\\numpy\\lib\\arraysetops.py\u001b[0m in \u001b[0;36m_unique1d\u001b[1;34m(ar, return_index, return_inverse, return_counts)\u001b[0m\n\u001b[0;32m    310\u001b[0m         \u001b[0maux\u001b[0m \u001b[1;33m=\u001b[0m \u001b[0mar\u001b[0m\u001b[1;33m[\u001b[0m\u001b[0mperm\u001b[0m\u001b[1;33m]\u001b[0m\u001b[1;33m\u001b[0m\u001b[0m\n\u001b[0;32m    311\u001b[0m     \u001b[1;32melse\u001b[0m\u001b[1;33m:\u001b[0m\u001b[1;33m\u001b[0m\u001b[0m\n\u001b[1;32m--> 312\u001b[1;33m         \u001b[0mar\u001b[0m\u001b[1;33m.\u001b[0m\u001b[0msort\u001b[0m\u001b[1;33m(\u001b[0m\u001b[1;33m)\u001b[0m\u001b[1;33m\u001b[0m\u001b[0m\n\u001b[0m\u001b[0;32m    313\u001b[0m         \u001b[0maux\u001b[0m \u001b[1;33m=\u001b[0m \u001b[0mar\u001b[0m\u001b[1;33m\u001b[0m\u001b[0m\n\u001b[0;32m    314\u001b[0m     \u001b[0mmask\u001b[0m \u001b[1;33m=\u001b[0m \u001b[0mnp\u001b[0m\u001b[1;33m.\u001b[0m\u001b[0mempty\u001b[0m\u001b[1;33m(\u001b[0m\u001b[0maux\u001b[0m\u001b[1;33m.\u001b[0m\u001b[0mshape\u001b[0m\u001b[1;33m,\u001b[0m \u001b[0mdtype\u001b[0m\u001b[1;33m=\u001b[0m\u001b[0mnp\u001b[0m\u001b[1;33m.\u001b[0m\u001b[0mbool_\u001b[0m\u001b[1;33m)\u001b[0m\u001b[1;33m\u001b[0m\u001b[0m\n",
      "\u001b[1;31mKeyboardInterrupt\u001b[0m: "
     ]
    }
   ],
   "source": [
    "while True:\n",
    "    blue_means = best_blue_means + mn((0, 0), I/100000, 10)\n",
    "    brown_means = best_brown_means + mn((0, 0), I/100000, 10)\n",
    "    pblue = np.zeros(points.shape[0])\n",
    "    pbrown = np.zeros(points.shape[0])\n",
    "    for i in range(10):\n",
    "        pblue += smn.pdf(points[:,:2], mean=blue_means[i], cov=I/5)\n",
    "        pbrown += smn.pdf(points[:,:2], mean=brown_means[i], cov=I/5)\n",
    "    a_s = accuracy_score(points[:,2], 0+(pblue>pbrown))\n",
    "    if a_s > best_a_s:\n",
    "        best_blue_means, best_brown_means, best_a_s = blue_means, brown_means, a_s\n",
    "        print(best_a_s)"
   ]
  },
  {
   "cell_type": "code",
   "execution_count": 39,
   "metadata": {},
   "outputs": [
    {
     "data": {
      "text/plain": [
       "(array([[-0.76984456,  0.68481421],\n",
       "        [ 1.31595023, -0.01524395],\n",
       "        [-0.79998303, -1.25341062],\n",
       "        [ 0.1273859 , -1.59067228],\n",
       "        [ 0.47416484,  0.46370937],\n",
       "        [ 1.44923019, -1.25015962],\n",
       "        [ 0.38579432,  1.09808155],\n",
       "        [ 0.79655758, -0.46856294],\n",
       "        [ 0.14509522, -0.21230019],\n",
       "        [ 1.63124273,  1.50124375]]), array([[-0.6227393 ,  0.7150955 ],\n",
       "        [ 0.82851254,  0.57659957],\n",
       "        [ 0.34909186,  1.38040508],\n",
       "        [ 2.73571771,  1.50710081],\n",
       "        [-1.2294235 ,  1.44724384],\n",
       "        [ 0.74378907,  1.47081486],\n",
       "        [-1.55691576,  1.17149161],\n",
       "        [ 1.01165209,  0.07333176],\n",
       "        [-1.36259986,  1.19934271],\n",
       "        [-0.81420616,  1.32166231]]), 0.9872448979591837)"
      ]
     },
     "execution_count": 39,
     "metadata": {},
     "output_type": "execute_result"
    }
   ],
   "source": [
    "best_blue_means, best_brown_means, best_a_s"
   ]
  },
  {
   "cell_type": "code",
   "execution_count": null,
   "metadata": {
    "collapsed": true
   },
   "outputs": [],
   "source": []
  }
 ],
 "metadata": {
  "kernelspec": {
   "display_name": "Python [conda env:Python64]",
   "language": "python",
   "name": "conda-env-Python64-py"
  },
  "language_info": {
   "codemirror_mode": {
    "name": "ipython",
    "version": 3
   },
   "file_extension": ".py",
   "mimetype": "text/x-python",
   "name": "python",
   "nbconvert_exporter": "python",
   "pygments_lexer": "ipython3",
   "version": "3.6.3"
  }
 },
 "nbformat": 4,
 "nbformat_minor": 2
}
