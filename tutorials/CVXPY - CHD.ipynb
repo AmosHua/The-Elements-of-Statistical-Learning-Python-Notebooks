{
 "cells": [
  {
   "cell_type": "markdown",
   "metadata": {},
   "source": [
    "# South African Heart Disease"
   ]
  },
  {
   "cell_type": "code",
   "execution_count": 1,
   "metadata": {
    "collapsed": true
   },
   "outputs": [],
   "source": [
    "import cvxpy as cp\n",
    "import numpy as np\n",
    "import pandas as pd\n",
    "from sklearn.metrics import accuracy_score\n",
    "from sklearn.linear_model import LinearRegression"
   ]
  },
  {
   "cell_type": "code",
   "execution_count": 2,
   "metadata": {},
   "outputs": [
    {
     "data": {
      "text/html": [
       "<div>\n",
       "<style>\n",
       "    .dataframe thead tr:only-child th {\n",
       "        text-align: right;\n",
       "    }\n",
       "\n",
       "    .dataframe thead th {\n",
       "        text-align: left;\n",
       "    }\n",
       "\n",
       "    .dataframe tbody tr th {\n",
       "        vertical-align: top;\n",
       "    }\n",
       "</style>\n",
       "<table border=\"1\" class=\"dataframe\">\n",
       "  <thead>\n",
       "    <tr style=\"text-align: right;\">\n",
       "      <th></th>\n",
       "      <th>sbp</th>\n",
       "      <th>tobacco</th>\n",
       "      <th>ldl</th>\n",
       "      <th>famhist</th>\n",
       "      <th>obesity</th>\n",
       "      <th>alcohol</th>\n",
       "      <th>age</th>\n",
       "      <th>chd</th>\n",
       "    </tr>\n",
       "  </thead>\n",
       "  <tbody>\n",
       "    <tr>\n",
       "      <th>0</th>\n",
       "      <td>160</td>\n",
       "      <td>12.00</td>\n",
       "      <td>5.73</td>\n",
       "      <td>1</td>\n",
       "      <td>25.30</td>\n",
       "      <td>97.20</td>\n",
       "      <td>52</td>\n",
       "      <td>1</td>\n",
       "    </tr>\n",
       "    <tr>\n",
       "      <th>1</th>\n",
       "      <td>144</td>\n",
       "      <td>0.01</td>\n",
       "      <td>4.41</td>\n",
       "      <td>0</td>\n",
       "      <td>28.87</td>\n",
       "      <td>2.06</td>\n",
       "      <td>63</td>\n",
       "      <td>1</td>\n",
       "    </tr>\n",
       "    <tr>\n",
       "      <th>2</th>\n",
       "      <td>118</td>\n",
       "      <td>0.08</td>\n",
       "      <td>3.48</td>\n",
       "      <td>1</td>\n",
       "      <td>29.14</td>\n",
       "      <td>3.81</td>\n",
       "      <td>46</td>\n",
       "      <td>0</td>\n",
       "    </tr>\n",
       "    <tr>\n",
       "      <th>3</th>\n",
       "      <td>170</td>\n",
       "      <td>7.50</td>\n",
       "      <td>6.41</td>\n",
       "      <td>1</td>\n",
       "      <td>31.99</td>\n",
       "      <td>24.26</td>\n",
       "      <td>58</td>\n",
       "      <td>1</td>\n",
       "    </tr>\n",
       "    <tr>\n",
       "      <th>4</th>\n",
       "      <td>134</td>\n",
       "      <td>13.60</td>\n",
       "      <td>3.50</td>\n",
       "      <td>1</td>\n",
       "      <td>25.99</td>\n",
       "      <td>57.34</td>\n",
       "      <td>49</td>\n",
       "      <td>1</td>\n",
       "    </tr>\n",
       "  </tbody>\n",
       "</table>\n",
       "</div>"
      ],
      "text/plain": [
       "   sbp  tobacco   ldl  famhist  obesity  alcohol  age  chd\n",
       "0  160    12.00  5.73        1    25.30    97.20   52    1\n",
       "1  144     0.01  4.41        0    28.87     2.06   63    1\n",
       "2  118     0.08  3.48        1    29.14     3.81   46    0\n",
       "3  170     7.50  6.41        1    31.99    24.26   58    1\n",
       "4  134    13.60  3.50        1    25.99    57.34   49    1"
      ]
     },
     "execution_count": 2,
     "metadata": {},
     "output_type": "execute_result"
    }
   ],
   "source": [
    "df = pd.read_csv(\"../data/South African Heart Disease.txt\")\n",
    "df['famhist'] = pd.get_dummies(df['famhist'])['Present']\n",
    "target = ['chd']\n",
    "features = ['sbp', 'tobacco', 'ldl', 'famhist', 'obesity', 'alcohol', 'age']\n",
    "X, y = df[features].values, df[target].values\n",
    "y_flat = np.squeeze(y)\n",
    "df[features + target].head()"
   ]
  },
  {
   "cell_type": "markdown",
   "metadata": {},
   "source": [
    "## Baseline Accuracy Score"
   ]
  },
  {
   "cell_type": "code",
   "execution_count": 3,
   "metadata": {},
   "outputs": [
    {
     "name": "stdout",
     "output_type": "stream",
     "text": [
      "Baseline test accuracy score: 0.654\n"
     ]
    }
   ],
   "source": [
    "print(f'Baseline test accuracy score: {accuracy_score(y_flat, np.zeros(y_flat.shape[0])):0.3f}')"
   ]
  },
  {
   "cell_type": "markdown",
   "metadata": {},
   "source": [
    "## Linear Regression"
   ]
  },
  {
   "cell_type": "code",
   "execution_count": 4,
   "metadata": {},
   "outputs": [
    {
     "name": "stdout",
     "output_type": "stream",
     "text": [
      "           sbp     0.0012\n",
      "       tobacco     0.0170\n",
      "           ldl     0.0359\n",
      "       famhist     0.1806\n",
      "       obesity    -0.0074\n",
      "       alcohol    -0.0001\n",
      "           age     0.0067\n",
      "-------------------------\n",
      "accuracy score     0.7359\n"
     ]
    }
   ],
   "source": [
    "reg = LinearRegression().fit(X, y)\n",
    "for feature, coef in list(zip(features, reg.coef_[0])):\n",
    "    print(f'{feature:>14} {coef:>10.4f}')\n",
    "y_hat = (np.squeeze(reg.predict(X))>0.5)+0\n",
    "print('-------------------------')\n",
    "print(f'accuracy score {accuracy_score(y_flat, y_hat):>10.4f}')"
   ]
  },
  {
   "cell_type": "markdown",
   "metadata": {},
   "source": [
    "## Linear Constrained Regression with CVXPY"
   ]
  },
  {
   "cell_type": "code",
   "execution_count": 5,
   "metadata": {},
   "outputs": [
    {
     "data": {
      "text/plain": [
       "81.87035937688988"
      ]
     },
     "execution_count": 5,
     "metadata": {},
     "output_type": "execute_result"
    }
   ],
   "source": [
    "coef_ = cp.Variable(len(features))\n",
    "intercept_ = cp.Variable(1)\n",
    "loss = cp.sum_squares(y - intercept_ - X@coef_)\n",
    "constraints = [0 <= coef_]\n",
    "prob = cp.Problem(cp.Minimize(loss), constraints)\n",
    "prob.solve()"
   ]
  },
  {
   "cell_type": "code",
   "execution_count": 6,
   "metadata": {},
   "outputs": [
    {
     "name": "stdout",
     "output_type": "stream",
     "text": [
      "           sbp     0.0010\n",
      "       tobacco     0.0171\n",
      "           ldl     0.0321\n",
      "       famhist     0.1786\n",
      "       obesity     0.0000\n",
      "       alcohol     0.0000\n",
      "           age     0.0063\n",
      "-------------------------\n",
      "accuracy score     0.7424\n"
     ]
    }
   ],
   "source": [
    "coef_ = np.array(coef_.value)\n",
    "for feature, coef in list(zip(features, np.squeeze(coef_))):\n",
    "    print(f'{feature:>14} {coef:>10.4f}')\n",
    "y_hat = (np.squeeze(intercept_.value + X@coef_)>0.5)+0\n",
    "print('-------------------------')\n",
    "print(f'accuracy score {accuracy_score(y_flat, y_hat):>10.4f}')"
   ]
  },
  {
   "cell_type": "code",
   "execution_count": null,
   "metadata": {
    "collapsed": true
   },
   "outputs": [],
   "source": []
  }
 ],
 "metadata": {
  "kernelspec": {
   "display_name": "Python [conda env:Python64]",
   "language": "python",
   "name": "conda-env-Python64-py"
  },
  "language_info": {
   "codemirror_mode": {
    "name": "ipython",
    "version": 3
   },
   "file_extension": ".py",
   "mimetype": "text/x-python",
   "name": "python",
   "nbconvert_exporter": "python",
   "pygments_lexer": "ipython3",
   "version": "3.6.3"
  }
 },
 "nbformat": 4,
 "nbformat_minor": 2
}
