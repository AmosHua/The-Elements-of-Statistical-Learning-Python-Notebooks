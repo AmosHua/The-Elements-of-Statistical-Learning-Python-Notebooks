{
 "cells": [
  {
   "cell_type": "markdown",
   "metadata": {},
   "source": [
    "# (ZIP Code 1) A Small Digit Recognition Problem\n",
    "Reproducing Yan LeCun http://yann.lecun.com/exdb/publis/pdf/lecun-89.pdf\n",
    "\n",
    "The database is composed of 480 examples of numerals represented as 16 pixel by 16 pixel binary images. 12 example of each of the 10 digits were hand-drawn by a single person on a 16 by 13 bitmap using a mouse. Each image was then used to generate 4 examples by putting the original image in 4 consecutive horizontal positions on a 16 by 16 bitmap. The training set was then formed by choosing 32 examples of each class at random amoung the complete set of 480 images. The remaining 16 examples of each class were used as the test set. Thus the training set contained 320 images, and the test set contained 160 images.\n",
    "\n",
    "NOTE. Here we reproduce the architecture of the LeCun neural networks. The loss function and training approach are slightly different."
   ]
  },
  {
   "cell_type": "markdown",
   "metadata": {},
   "source": [
    "## Load and Prepare Data\n",
    "The images originally used by LeCun are not available now, so I've drawn them myself. It is stored in a bmp file."
   ]
  },
  {
   "cell_type": "code",
   "execution_count": 1,
   "metadata": {
    "collapsed": true
   },
   "outputs": [],
   "source": [
    "import numpy as np\n",
    "from PIL import Image\n",
    "from matplotlib import transforms, pyplot as plt\n",
    "from sklearn.preprocessing import OneHotEncoder\n",
    "from sklearn.model_selection import train_test_split\n",
    "\n",
    "%matplotlib inline\n",
    "\n",
    "# define plots common properties and color constants\n",
    "plt.rcParams['font.family'] = 'Arial'\n",
    "plt.rcParams['axes.linewidth'] = 0.5\n",
    "GRAY1, GRAY4, GRAY7 = '#231F20', '#646369', '#929497'"
   ]
  },
  {
   "cell_type": "code",
   "execution_count": 2,
   "metadata": {
    "collapsed": true
   },
   "outputs": [],
   "source": [
    "# load monochrome bmp file and convert it to int numpy array\n",
    "img = np.array(Image.open('../data/numerals.bmp')).astype(int)"
   ]
  },
  {
   "cell_type": "code",
   "execution_count": 3,
   "metadata": {
    "collapsed": true
   },
   "outputs": [],
   "source": [
    "# construct 480 16x16 examples with only one channel (usually 3 for RGB)\n",
    "X = np.zeros(shape=(480, 16, 16, 1))\n",
    "y = np.zeros(shape=(480, 1))\n",
    "example_idx = 0\n",
    "for i in range(10):\n",
    "    for j in range(12):\n",
    "        # crop 16x13 patch from the data image\n",
    "        # one pixel is between numerals, so multipy on 17 and 14\n",
    "        si, fi = i*17, i*17+16\n",
    "        sj, fj = j*14, j*14+13\n",
    "        patch = 1-img[si:fi, sj:fj]\n",
    "        # shift patch to get 4 examples from one\n",
    "        for k in range(4):\n",
    "            X[example_idx, 0:16, k:k+13, 0] = patch\n",
    "            y[example_idx, 0] = i\n",
    "            example_idx += 1"
   ]
  },
  {
   "cell_type": "code",
   "execution_count": 4,
   "metadata": {
    "collapsed": true
   },
   "outputs": [],
   "source": [
    "# perform a stratified split\n",
    "X_train, X_test, y_train, y_test = train_test_split(\n",
    "    X, y, train_size=320, random_state=10, stratify=y)\n",
    "# convert classes to one-hot vectors\n",
    "ohe = OneHotEncoder(categories='auto').fit(y)\n",
    "Y_train = ohe.transform(y_train).toarray()\n",
    "Y_test = ohe.transform(y_test).toarray()"
   ]
  },
  {
   "cell_type": "code",
   "execution_count": 5,
   "metadata": {},
   "outputs": [
    {
     "data": {
      "image/png": "[encoded data removed]",
      "text/plain": [
       "<matplotlib.figure.Figure at 0x165ec244b38>"
      ]
     },
     "metadata": {},
     "output_type": "display_data"
    }
   ],
   "source": [
    "# show some training examples\n",
    "w = 20  # pixels for one digit\n",
    "result = np.zeros(shape=(4+w*5, 4+w*10))\n",
    "for d in range(10):\n",
    "    d_idx = np.squeeze(np.argwhere(y_train == d))[:, 0]\n",
    "    d_idx = np.random.choice(d_idx, 5, replace=False)\n",
    "    for i, idx in enumerate(d_idx):\n",
    "        result[i*w+4:i*w+20, d*w+4:d*w+20] = -X_train[idx].reshape((16, 16))\n",
    "fig, ax = plt.subplots(figsize=(5.5, 3.3), dpi=110)\n",
    "ax.imshow(result, cmap=\"gray\")\n",
    "ax.set_aspect('equal', 'datalim')\n",
    "ax.tick_params(bottom=False, left=False, labelleft=False, labelbottom=False)\n",
    "for spine in ax.spines.values():\n",
    "    spine.set_visible(False)"
   ]
  },
  {
   "cell_type": "markdown",
   "metadata": {},
   "source": [
    "## Training"
   ]
  },
  {
   "cell_type": "code",
   "execution_count": 6,
   "metadata": {
    "collapsed": true
   },
   "outputs": [],
   "source": [
    "from sklearn.metrics import accuracy_score\n",
    "import os\n",
    "# don't use GPU\n",
    "os.environ[\"CUDA_VISIBLE_DEVICES\"] = '-1'\n",
    "import tensorflow as tf"
   ]
  },
  {
   "cell_type": "code",
   "execution_count": 7,
   "metadata": {
    "collapsed": true
   },
   "outputs": [],
   "source": [
    "# all nets will use the same loss function and the optimization step\n",
    "def build_optimizer_step(learning_rate, y_true, y_hat):\n",
    "    # PAGE 406. The networks all have sigmoidal output units, and\n",
    "    #           were all fit with the sum-of-squares error function.\n",
    "    # squared_error = (y_true - y_hat)**2\n",
    "    # loss = tf.reduce_mean(tf.reduce_sum(squared_error, reduction_indices=1))\n",
    "\n",
    "    # NOTE. We'll use multinominal cross-entropy loss function\n",
    "    cross_entropy = y_true*tf.log(y_hat)\n",
    "    loss = tf.reduce_mean(-tf.reduce_sum(cross_entropy, reduction_indices=1))\n",
    "    opt = tf.train.AdamOptimizer(learning_rate).minimize(loss)\n",
    "    return opt"
   ]
  },
  {
   "cell_type": "code",
   "execution_count": 8,
   "metadata": {
    "collapsed": true
   },
   "outputs": [],
   "source": [
    "# this training procedure will be used for all nets\n",
    "def train(session, x_tensor, y_tensor, y_hat_tensor, lr, n_epochs):\n",
    "    accuracy_test = []\n",
    "    optimizer_step = build_optimizer_step(lr, y_tensor, y_hat_tensor)\n",
    "    session.run(tf.global_variables_initializer())\n",
    "    for e in range(n_epochs):\n",
    "        for b in range(X_train.shape[0]):\n",
    "            # give images to the optimizer one by one\n",
    "            fd_train = {x_tensor: X_train[b:b+1], y_tensor: Y_train[b:b+1]}\n",
    "            session.run(optimizer_step, fd_train)\n",
    "        # calculate test accuracy after each epoch\n",
    "        fd_test = {x_tensor: X_test}\n",
    "        y_test_hat = np.argmax(session.run(y_hat_tensor, fd_test), axis=1)\n",
    "        accuracy_test.append(accuracy_score(y_test, y_test_hat))\n",
    "    return accuracy_test"
   ]
  },
  {
   "cell_type": "code",
   "execution_count": 9,
   "metadata": {
    "collapsed": true
   },
   "outputs": [],
   "source": [
    "# start tensorflow session\n",
    "session = tf.Session()\n",
    "\n",
    "# define placeholders for features and targets\n",
    "x = tf.placeholder(tf.float32, shape=[None, 16, 16, 1])\n",
    "y = tf.placeholder(tf.float32, shape=[None, 10])"
   ]
  },
  {
   "cell_type": "markdown",
   "metadata": {},
   "source": [
    "## Net-1\n",
    "No hidden layer, equivalent to multinomial logistic regression."
   ]
  },
  {
   "cell_type": "code",
   "execution_count": 10,
   "metadata": {
    "collapsed": true
   },
   "outputs": [],
   "source": [
    "# use xavier initializer for weights' starting values\n",
    "initializer = tf.contrib.layers.xavier_initializer(seed=1)\n",
    "\n",
    "# parameters\n",
    "A = tf.Variable(initializer([256, 10]))\n",
    "a0 = tf.Variable(initializer([1, 10]))\n",
    "# number of trainable parameters calculation\n",
    "parms = [A, a0]\n",
    "size = tf.reduce_sum([tf.size(p) for p in parms])\n",
    "\n",
    "# neural network computation graph\n",
    "x_flatten = tf.reshape(x, [-1, 256])\n",
    "y_hat = tf.nn.softmax(a0 + x_flatten@A)\n",
    "\n",
    "# train\n",
    "net1_size = session.run(size)\n",
    "net1_accuracy = train(session, x, y, y_hat, 7e-3, 30)"
   ]
  },
  {
   "cell_type": "markdown",
   "metadata": {},
   "source": [
    "## Net-2\n",
    "One hidden layer, 12 hidden units fully connected."
   ]
  },
  {
   "cell_type": "code",
   "execution_count": 11,
   "metadata": {
    "collapsed": true
   },
   "outputs": [],
   "source": [
    "# use xavier initializer for weights' starting values\n",
    "initializer = tf.contrib.layers.xavier_initializer(seed=1)\n",
    "\n",
    "# parameters\n",
    "n_hidden = 12\n",
    "A = tf.Variable(initializer([256, n_hidden]))\n",
    "a0 = tf.Variable(initializer([1, n_hidden]))\n",
    "B = tf.Variable(initializer([n_hidden, 10]))\n",
    "b0 = tf.Variable(initializer([10]))\n",
    "# number of trainable parameters calculation\n",
    "parms = [A, a0, B, b0]\n",
    "size = tf.reduce_sum([tf.size(p) for p in parms])\n",
    "\n",
    "# neural network computation graph\n",
    "x_flatten = tf.reshape(x, [-1, 256])\n",
    "Z = tf.nn.tanh(a0 + x_flatten@A)\n",
    "y_hat = tf.nn.softmax(b0 + Z@B)\n",
    "\n",
    "# train\n",
    "net2_size = session.run(size)\n",
    "net2_accuracy = train(session, x, y, y_hat, 7e-3, 30)"
   ]
  },
  {
   "cell_type": "markdown",
   "metadata": {},
   "source": [
    "## Net-3\n",
    "Two hidden layers locally connected."
   ]
  },
  {
   "cell_type": "code",
   "execution_count": 12,
   "metadata": {
    "collapsed": true
   },
   "outputs": [],
   "source": [
    "# use xavier initializer for weights' starting values\n",
    "initializer = tf.contrib.layers.xavier_initializer(seed=1)\n",
    "\n",
    "# parameters\n",
    "A = tf.Variable(initializer([1, 8, 8, 9]))\n",
    "a0 = tf.Variable(initializer([1, 8, 8]))\n",
    "B = tf.Variable(initializer([1, 4, 4, 25]))\n",
    "b0 = tf.Variable(initializer([1, 4, 4]))\n",
    "C = tf.Variable(initializer([16, 10]))\n",
    "c0 = tf.Variable(initializer([10]))\n",
    "# number of trainable parameters calculation\n",
    "parms = [A, a0, B, b0, C, c0]\n",
    "size = tf.reduce_sum([tf.size(p) for p in parms])\n",
    "\n",
    "# neural network computation graph\n",
    "patches1 = tf.extract_image_patches(\n",
    "    images=x,\n",
    "    ksizes=[1, 3, 3, 1],\n",
    "    strides=[1, 2, 2, 1],\n",
    "    rates=[1, 1, 1, 1],\n",
    "    padding='SAME'\n",
    ")\n",
    "Z1 = tf.expand_dims(tf.nn.tanh(tf.reduce_sum(patches1 * A, axis=3)+a0), -1)\n",
    "\n",
    "patches2 = tf.extract_image_patches(\n",
    "    images=Z1,\n",
    "    ksizes=[1, 5, 5, 1],\n",
    "    strides=[1, 1, 1, 1],\n",
    "    rates=[1, 1, 1, 1],\n",
    "    padding='VALID'\n",
    ")\n",
    "Z2 = tf.reshape(\n",
    "    tf.nn.tanh(tf.reduce_sum(patches2 * B, axis=3)+b0),\n",
    "    [-1, 16])\n",
    "y_hat = tf.nn.softmax(c0 + Z2@C)\n",
    "\n",
    "# train\n",
    "net3_size = session.run(size)\n",
    "net3_accuracy = train(session, x, y, y_hat, 7e-3, 30)"
   ]
  },
  {
   "cell_type": "markdown",
   "metadata": {},
   "source": [
    "## Net-4\n",
    "Two hidden layers, locally connected with weight sharing."
   ]
  },
  {
   "cell_type": "code",
   "execution_count": 13,
   "metadata": {
    "collapsed": true
   },
   "outputs": [],
   "source": [
    "# use xavier initializer for weights' starting values\n",
    "initializer = tf.contrib.layers.xavier_initializer(seed=1)\n",
    "\n",
    "# parameters\n",
    "A = tf.Variable(initializer([3, 3, 1, 2]))\n",
    "a0 = tf.Variable(initializer([1, 8, 8, 2]))\n",
    "B = tf.Variable(initializer([1, 4, 4, 50]))\n",
    "b0 = tf.Variable(initializer([1, 4, 4]))\n",
    "C = tf.Variable(initializer([16, 10]))\n",
    "c0 = tf.Variable(initializer([10]))\n",
    "# number of trainable parameters calculation\n",
    "parms = [A, a0, B, b0, C, c0]\n",
    "size = tf.reduce_sum([tf.size(p) for p in parms])\n",
    "\n",
    "# neural network computation graph\n",
    "Z1 = tf.nn.tanh(\n",
    "    tf.nn.conv2d(\n",
    "        input=x,\n",
    "        filter=A,\n",
    "        strides=[1, 2, 2, 1],\n",
    "        padding='SAME'\n",
    "    ) + a0)\n",
    "\n",
    "patches = tf.extract_image_patches(\n",
    "    images=Z1,\n",
    "    ksizes=[1, 5, 5, 1],\n",
    "    strides=[1, 1, 1, 1],\n",
    "    rates=[1, 1, 1, 1],\n",
    "    padding='VALID'\n",
    ")\n",
    "Z2 = tf.reshape(tf.nn.tanh(tf.reduce_sum(patches*B, axis=3)+b0), [-1, 16])\n",
    "y_hat = tf.nn.softmax(c0 + Z2@C)\n",
    "\n",
    "# train\n",
    "net4_size = session.run(size)\n",
    "net4_accuracy = train(session, x, y, y_hat, 7e-3, 30)"
   ]
  },
  {
   "cell_type": "markdown",
   "metadata": {},
   "source": [
    "## Net-5\n",
    "Two hidden layers, locally connected, two levels of weight sharing."
   ]
  },
  {
   "cell_type": "code",
   "execution_count": 14,
   "metadata": {
    "collapsed": true
   },
   "outputs": [],
   "source": [
    "# use xavier initializer for weights' starting values\n",
    "initializer = tf.contrib.layers.xavier_initializer(seed=20)\n",
    "\n",
    "# parameters\n",
    "A = tf.Variable(initializer([3, 3, 1, 2]))\n",
    "a0 = tf.Variable(initializer([1, 8, 8, 2]))\n",
    "B = tf.Variable(initializer([5, 5, 2, 4]))\n",
    "b0 = tf.Variable(initializer([1, 4, 4, 4]))\n",
    "C = tf.Variable(initializer([64, 10]))\n",
    "c0 = tf.Variable(initializer([10]))\n",
    "# number of trainable parameters calculation\n",
    "parms = [A, a0, B, b0, C, c0]\n",
    "size = tf.reduce_sum([tf.size(p) for p in parms])\n",
    "\n",
    "# neural network computation graph\n",
    "Z1 = tf.nn.tanh(\n",
    "    tf.nn.conv2d(\n",
    "        input=x,\n",
    "        filter=A,\n",
    "        strides=[1, 2, 2, 1],\n",
    "        padding='SAME'\n",
    "    ) + a0)\n",
    "\n",
    "Z2 = tf.reshape(\n",
    "    tf.nn.tanh(\n",
    "        tf.nn.conv2d(\n",
    "            input=Z1,\n",
    "            filter=B,\n",
    "            strides=[1, 1, 1, 1],\n",
    "            padding='VALID') + b0),\n",
    "    [-1, 64])\n",
    "y_hat = tf.nn.softmax(c0 + Z2@C)\n",
    "\n",
    "# train\n",
    "net5_size = session.run(size)\n",
    "net5_accuracy = train(session, x, y, y_hat, 7e-3, 30)"
   ]
  },
  {
   "cell_type": "code",
   "execution_count": 15,
   "metadata": {},
   "outputs": [
    {
     "name": "stdout",
     "output_type": "stream",
     "text": [
      "         Network Architecture   Weights   % Correct\n",
      "---------------------------------------------------\n",
      "Net-1: Single layer network        2570       91.9%\n",
      "Net-2: Two layer network           3214       94.4%\n",
      "Net-3: Locally connected           1226       94.4%\n",
      "Net-4: Constrained network 1       1132       96.9%\n",
      "Net-5: Constrained network 2       1060       98.8%\n"
     ]
    }
   ],
   "source": [
    "# PAGE 407. TABLE 11.1. Test set performance of five different neural networks\n",
    "#           on a handwritten digit classification example (Le Cun, 1989).\n",
    "architectures = [\n",
    "    'Net-1: Single layer network',\n",
    "    'Net-2: Two layer network',\n",
    "    'Net-3: Locally connected',\n",
    "    'Net-4: Constrained network 1',\n",
    "    'Net-5: Constrained network 2']\n",
    "sizes = [net1_size, net2_size, net3_size, net4_size, net5_size]\n",
    "test_scores = [net1_accuracy, net2_accuracy, net3_accuracy,\n",
    "               net4_accuracy, net5_accuracy]\n",
    "best_scores = [max(score) for score in test_scores]\n",
    "\n",
    "print('         Network Architecture   Weights   % Correct')\n",
    "print('---------------------------------------------------')\n",
    "for n, s, b in zip(architectures, sizes, best_scores):\n",
    "    print(f'{n:<28} {s:>10} {100*b:>10.1f}%')"
   ]
  },
  {
   "cell_type": "code",
   "execution_count": 16,
   "metadata": {},
   "outputs": [
    {
     "data": {
      "image/png": "[encoded data removed]",
      "text/plain": [
       "<matplotlib.figure.Figure at 0x165f631e470>"
      ]
     },
     "metadata": {},
     "output_type": "display_data"
    }
   ],
   "source": [
    "# PAGE 406. FIGURE 11.11. Test performance curves, as a function of the number\n",
    "#           of training epochs, for the five networks of Table 11.1 applied to\n",
    "#           the ZIP code data. (Le Cun, 1989)\n",
    "fig, ax = plt.subplots(figsize=(5.13, 3.53), dpi=150)\n",
    "x_vals = range(30)\n",
    "lines = zip(\n",
    "    test_scores, ['red', 'green', 'blue', 'orange', 'purple'], architectures)\n",
    "for scores, color, arc in lines:\n",
    "    ax.plot(x_vals, [100*s for s in scores], linewidth=0.8, color=color,\n",
    "            label=arc[:5])\n",
    "ax.set_xlabel('Training Epochs', color=GRAY4, fontsize=8)\n",
    "ax.set_ylabel('% Correct on Test Data', color=GRAY4, fontsize=8)\n",
    "ax.set_ylim(58, 102)\n",
    "for i in ax.get_yticklabels() + ax.get_xticklabels():\n",
    "    i.set_fontsize(6)\n",
    "_ = ax.legend(loc='lower right', prop={'size': 8})"
   ]
  },
  {
   "cell_type": "markdown",
   "metadata": {},
   "source": [
    "# (ZIP Code 2)\n",
    "Normalized handwritten digits, automatically scanned from envelopes by the U.S. Postal Service. The original scanned digits are binary and of different sizes and orientations; the images here have been deslanted and size normalized, resulting in 16 x 16 grayscale images (Le Cun et al., 1990).\n",
    "\n",
    "The data is in a numpy compressed file, and each row consists of the digit id (0-9) followed by the 256 grayscale values. The last column contains is_test flag 0 for train and 1 for test observations.\n",
    "\n",
    "There are 7291 training observations and 2007 test observations.\n",
    "\n",
    "The test set is notoriously \"difficult\", and a 2.5% error rate is excellent. These data were kindly made available by the neural network group at AT&T research labs (thanks to Yann Le Cunn).\n",
    "\n",
    "http://yann.lecun.com/exdb/publis/pdf/lecun-89.pdf\n",
    "\n",
    "http://yann.lecun.com/exdb/publis/pdf/lecun-89e.pdf\n",
    "\n",
    "http://yann.lecun.com/exdb/publis/pdf/lecun-99.pdf"
   ]
  },
  {
   "cell_type": "code",
   "execution_count": 1,
   "metadata": {
    "collapsed": true
   },
   "outputs": [],
   "source": [
    "import pandas as pd\n",
    "from matplotlib import transforms, pyplot as plt\n",
    "from sklearn.preprocessing import OneHotEncoder\n",
    "import numpy as np\n",
    "\n",
    "%matplotlib inline\n",
    "\n",
    "# define plots common properties and color constants\n",
    "plt.rcParams['font.family'] = 'Arial'\n",
    "plt.rcParams['axes.linewidth'] = 0.5\n",
    "GRAY1, GRAY4, GRAY7 = '#231F20', '#646369', '#929497'"
   ]
  },
  {
   "cell_type": "markdown",
   "metadata": {},
   "source": [
    "## Load and Prepare Data"
   ]
  },
  {
   "cell_type": "code",
   "execution_count": 2,
   "metadata": {
    "collapsed": true
   },
   "outputs": [],
   "source": [
    "# PAGE 404. Figure 11.9 shows some examples of normalized handwritten digits,\n",
    "#           automatically scanned from envelopes by the U.S. Postal Service.\n",
    "#           The original scanned digits are binary and of different sizes and\n",
    "#           orientations; the images shown here have been deslanted and size\n",
    "#           normalized, resulting in 16× 16 grayscale images (Le Cun et al.,\n",
    "#           1990). These 256 pixel values are used as inputs to the neural\n",
    "#           network classifier.\n",
    "\n",
    "# load numpy array from the compressed file\n",
    "arr = np.load('../data/zip.npy.npz')['arr_0']\n",
    "# do train-test split by the last column\n",
    "train, test = arr[arr[:, -1] == 0], arr[arr[:, -1] == 1]\n",
    "X_train, X_test = train[:, 1:-1], test[:, 1:-1]\n",
    "y_train, y_test = train[:, 0].astype(int), test[:, 0].astype(int)\n",
    "\n",
    "# do one hot labels encoding\n",
    "ohe = OneHotEncoder(categories='auto')\n",
    "Y_train_one_hot = ohe.fit_transform(y_train.reshape(-1, 1)).toarray()\n",
    "Y_test_one_hot = ohe.fit_transform(y_test.reshape(-1, 1)).toarray()"
   ]
  },
  {
   "cell_type": "code",
   "execution_count": 3,
   "metadata": {},
   "outputs": [
    {
     "data": {
      "image/png": "[encoded data removed]",
      "text/plain": [
       "<Figure size 605x363 with 1 Axes>"
      ]
     },
     "metadata": {},
     "output_type": "display_data"
    }
   ],
   "source": [
    "# PAGE 404. FIGURE 11.9. Examples of training cases from ZIP code data. Each\n",
    "#           image is a 16 × 16 8-bit grayscale representation of a handwritten\n",
    "#           digit.\n",
    "w = 20  # pixels for one digit\n",
    "result = np.ones(shape=(4+w*5, 4+w*10))\n",
    "for d in range(10):\n",
    "    d_idx = np.squeeze(np.argwhere(y_train == d))\n",
    "    d_idx = np.random.choice(d_idx, 5, replace=False)\n",
    "    for i, idx in enumerate(d_idx):\n",
    "        result[i*w+4:i*w+20, d*w+4:d*w+20] = -X_train[idx].reshape((16, 16))\n",
    "fig, ax = plt.subplots(figsize=(5.5, 3.3), dpi=110)\n",
    "ax.imshow(result, cmap=\"gray\")\n",
    "ax.set_aspect('equal', 'datalim')\n",
    "ax.tick_params(bottom=False, left=False, labelleft=False, labelbottom=False)\n",
    "for spine in ax.spines.values():\n",
    "    spine.set_visible(False)"
   ]
  }
 ],
 "metadata": {
  "kernelspec": {
   "display_name": "Python [conda env:Python64]",
   "language": "python",
   "name": "conda-env-Python64-py"
  },
  "language_info": {
   "codemirror_mode": {
    "name": "ipython",
    "version": 3
   },
   "file_extension": ".py",
   "mimetype": "text/x-python",
   "name": "python",
   "nbconvert_exporter": "python",
   "pygments_lexer": "ipython3",
   "version": "3.6.3"
  }
 },
 "nbformat": 4,
 "nbformat_minor": 2
}
