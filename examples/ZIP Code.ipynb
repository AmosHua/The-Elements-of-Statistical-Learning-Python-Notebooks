{
 "cells": [
  {
   "cell_type": "code",
   "execution_count": 1,
   "metadata": {
    "collapsed": true
   },
   "outputs": [],
   "source": [
    "import numpy as np\n",
    "from PIL import Image\n",
    "from matplotlib import transforms, pyplot as plt\n",
    "from sklearn.preprocessing import OneHotEncoder\n",
    "from sklearn.model_selection import train_test_split\n",
    "\n",
    "%matplotlib inline\n",
    "\n",
    "# define plots common properties and color constants\n",
    "plt.rcParams['font.family'] = 'Arial'\n",
    "plt.rcParams['axes.linewidth'] = 0.5\n",
    "GRAY1, GRAY4, GRAY7 = '#231F20', '#646369', '#929497'"
   ]
  },
  {
   "cell_type": "code",
   "execution_count": 2,
   "metadata": {},
   "outputs": [
    {
     "data": {
      "image/png": "[encoded data removed]",
      "text/plain": [
       "<PIL.BmpImagePlugin.BmpImageFile image mode=1 size=167x169 at 0x1FF85150CF8>"
      ]
     },
     "execution_count": 2,
     "metadata": {},
     "output_type": "execute_result"
    }
   ],
   "source": [
    "img = Image.open('../data/numbers2.bmp')\n",
    "img"
   ]
  },
  {
   "cell_type": "code",
   "execution_count": 3,
   "metadata": {
    "collapsed": true
   },
   "outputs": [],
   "source": [
    "img = np.array(img).astype(int)"
   ]
  },
  {
   "cell_type": "code",
   "execution_count": 4,
   "metadata": {},
   "outputs": [],
   "source": [
    "X = np.zeros(shape=(480, 16, 16, 1))\n",
    "y = np.zeros(shape=480)\n",
    "example_idx = 0\n",
    "for i in range(10):\n",
    "    si, fi = i*17, i*17+16\n",
    "    for j in range(12):\n",
    "        sj, fj = j*14, j*14+13\n",
    "        crop = 1-img[si:fi, sj:fj]\n",
    "        for k in range(4):\n",
    "            X[example_idx, 0:16, k:k+13, 0] = crop\n",
    "            y[example_idx] = i\n",
    "            example_idx += 1"
   ]
  },
  {
   "cell_type": "code",
   "execution_count": 5,
   "metadata": {},
   "outputs": [],
   "source": [
    "ohe = OneHotEncoder(categories='auto')\n",
    "Y = ohe.fit_transform(y.reshape(-1, 1)).toarray()\n",
    "X_train, X_test, Y_train, Y_test = train_test_split(X, Y, train_size=320, random_state=10)"
   ]
  },
  {
   "cell_type": "code",
   "execution_count": 6,
   "metadata": {
    "collapsed": true
   },
   "outputs": [],
   "source": [
    "import tensorflow as tf\n",
    "from sklearn.metrics import accuracy_score"
   ]
  },
  {
   "cell_type": "code",
   "execution_count": 7,
   "metadata": {
    "collapsed": true
   },
   "outputs": [],
   "source": [
    "# all nets will use the same loss function and optimization step\n",
    "def build_optimizer_step(learning_rate, y_true, y_hat):\n",
    "    cross_entropy = y_true*tf.log(y_hat)\n",
    "    loss = tf.reduce_mean(-tf.reduce_sum(cross_entropy, reduction_indices=1))\n",
    "    opt = tf.train.AdamOptimizer(learning_rate).minimize(loss)\n",
    "    return opt"
   ]
  },
  {
   "cell_type": "code",
   "execution_count": 8,
   "metadata": {
    "collapsed": true
   },
   "outputs": [],
   "source": [
    "# Let's write a generic training procedure. we will use stochastic \n",
    "# gradient descent, providing data for training in batches\n",
    "def train(session, x_tensor, y_tensor, y_hat_tensor, optimizer_step, n_epochs):\n",
    "    accuracy = []\n",
    "    session.run(tf.global_variables_initializer())\n",
    "    \n",
    "    for e in range(n_epochs):\n",
    "        for b in range(X_train.shape[0]):\n",
    "            session.run(optimizer_step, {x_tensor: X_train[b:b+1], y_tensor: Y_train[b:b+1]})\n",
    "        y_test_hat = np.argmax(session.run(y_hat_tensor, {x_tensor: X_test}), axis=1)\n",
    "        accuracy.append(accuracy_score(np.argmax(Y_test, axis=1), y_test_hat))\n",
    "    return accuracy"
   ]
  },
  {
   "cell_type": "code",
   "execution_count": 9,
   "metadata": {
    "collapsed": true
   },
   "outputs": [],
   "source": [
    "session = tf.Session()\n",
    "# use xavier initializer for weights' starting values\n",
    "initializer = tf.contrib.layers.xavier_initializer()"
   ]
  },
  {
   "cell_type": "code",
   "execution_count": 10,
   "metadata": {
    "collapsed": true
   },
   "outputs": [],
   "source": [
    "# define placeholders for features and targets\n",
    "x = tf.placeholder(tf.float64, shape=[None, 16, 16, 1])\n",
    "y = tf.placeholder(tf.float64, shape=[None, 10])\n",
    "\n",
    "# parameters\n",
    "A = tf.Variable(initializer([256, 10], dtype=tf.float64))\n",
    "a0 = tf.Variable(initializer([1, 10], dtype=tf.float64))\n",
    "# number of trainable parameters calculation\n",
    "parms = [A, a0]\n",
    "size = tf.reduce_sum([tf.size(p) for p in parms])\n",
    "\n",
    "# neural network computation graph\n",
    "y_hat = tf.nn.softmax(a0 + tf.reshape(x, [-1, 256]) @ A)"
   ]
  },
  {
   "cell_type": "code",
   "execution_count": 11,
   "metadata": {},
   "outputs": [],
   "source": [
    "net1_size = session.run(size)\n",
    "net1_accuracy = train(session, x, y, y_hat, build_optimizer_step(5e-3, y, y_hat), 100)"
   ]
  },
  {
   "cell_type": "code",
   "execution_count": 12,
   "metadata": {
    "collapsed": true
   },
   "outputs": [],
   "source": [
    "# define placeholders for features and targets\n",
    "x = tf.placeholder(tf.float64, shape=[None, 16, 16, 1])\n",
    "y = tf.placeholder(tf.float64, shape=[None, 10])\n",
    "\n",
    "n_hidden = 12\n",
    "\n",
    "# parameters\n",
    "A = tf.Variable(initializer([256, n_hidden], dtype=tf.float64))\n",
    "a0 = tf.Variable(initializer([1, n_hidden], dtype=tf.float64))\n",
    "B = tf.Variable(initializer([n_hidden, 10], dtype=tf.float64))\n",
    "b0 = tf.Variable(initializer([10], dtype=tf.float64))\n",
    "# number of trainable parameters calculation\n",
    "parms = [A, a0, B, b0]\n",
    "size = tf.reduce_sum([tf.size(p) for p in parms])\n",
    "\n",
    "# hidden layer\n",
    "Z = tf.nn.tanh(a0 + tf.reshape(x, [-1, 256])@A)\n",
    "y_hat = tf.nn.softmax(b0 + Z@B)"
   ]
  },
  {
   "cell_type": "code",
   "execution_count": 13,
   "metadata": {
    "collapsed": true
   },
   "outputs": [],
   "source": [
    "net2_size = session.run(size)\n",
    "net2_accuracy = train(session, x, y, y_hat, build_optimizer_step(5e-3, y, y_hat), 100)"
   ]
  },
  {
   "cell_type": "code",
   "execution_count": 14,
   "metadata": {
    "collapsed": true
   },
   "outputs": [],
   "source": [
    "# define placeholders for features and targets\n",
    "x = tf.placeholder(tf.float64, shape=[None, 16, 16, 1])\n",
    "y = tf.placeholder(tf.float64, shape=[None, 10])\n",
    "\n",
    "# parameters\n",
    "A = tf.Variable(initializer([1, 8, 8, 9], dtype=tf.float64))\n",
    "a0 = tf.Variable(initializer([1, 8, 8], dtype=tf.float64))\n",
    "B = tf.Variable(initializer([1, 4, 4, 25], dtype=tf.float64))\n",
    "b0 = tf.Variable(initializer([1, 4, 4], dtype=tf.float64))\n",
    "C = tf.Variable(initializer([16, 10], dtype=tf.float64))\n",
    "c0 = tf.Variable(initializer([10], dtype=tf.float64))\n",
    "# number of trainable parameters calculation\n",
    "parms = [A, a0, B, b0, C, c0]\n",
    "size = tf.reduce_sum([tf.size(p) for p in parms])\n",
    "\n",
    "patches1 = tf.extract_image_patches(\n",
    "    images=x,\n",
    "    ksizes=[1, 3, 3, 1],\n",
    "    strides=[1, 2, 2, 1],\n",
    "    rates=[1, 1, 1, 1],\n",
    "    padding='SAME'\n",
    ")\n",
    "\n",
    "Z1 = tf.expand_dims(tf.nn.tanh(tf.reduce_sum(patches1 * A, axis=3)+a0), -1)\n",
    "\n",
    "patches2 = tf.extract_image_patches(\n",
    "    images=Z1,\n",
    "    ksizes=[1, 5, 5, 1],\n",
    "    strides=[1, 1, 1, 1],\n",
    "    rates=[1, 1, 1, 1],\n",
    "    padding='VALID'\n",
    ")\n",
    "\n",
    "Z2 = tf.reshape(\n",
    "    tf.nn.tanh(tf.reduce_sum(patches2 * B, axis=3)+b0),\n",
    "    [-1, 16])\n",
    "\n",
    "y_hat = tf.nn.softmax(c0 + Z2@C)"
   ]
  },
  {
   "cell_type": "code",
   "execution_count": 15,
   "metadata": {
    "collapsed": true
   },
   "outputs": [],
   "source": [
    "net3_size = session.run(size)\n",
    "net3_accuracy = train(session, x, y, y_hat, build_optimizer_step(5e-3, y, y_hat), 100)"
   ]
  },
  {
   "cell_type": "code",
   "execution_count": 16,
   "metadata": {
    "collapsed": true
   },
   "outputs": [],
   "source": [
    "x = tf.placeholder(tf.float64, shape=[None, 16, 16, 1])\n",
    "y = tf.placeholder(tf.float64, shape=[None, 10])\n",
    "\n",
    "# parameters\n",
    "A = tf.Variable(initializer([3, 3, 1, 2], dtype=tf.float64))\n",
    "a0 = tf.Variable(initializer([1, 8, 8, 2], dtype=tf.float64))\n",
    "B = tf.Variable(initializer([1, 4, 4, 50], dtype=tf.float64))\n",
    "b0 = tf.Variable(initializer([1, 4, 4], dtype=tf.float64))\n",
    "C = tf.Variable(initializer([16, 10], dtype=tf.float64))\n",
    "c0 = tf.Variable(initializer([10], dtype=tf.float64))\n",
    "# number of trainable parameters calculation\n",
    "parms = [A, a0, B, b0, C, c0]\n",
    "size = tf.reduce_sum([tf.size(p) for p in parms])\n",
    "\n",
    "Z1 = tf.nn.tanh(\n",
    "    tf.nn.conv2d(\n",
    "        input=x,\n",
    "        filter=A,\n",
    "        strides=[1, 2, 2, 1],\n",
    "        padding='SAME'\n",
    "    ) + a0)\n",
    "\n",
    "patches = tf.extract_image_patches(\n",
    "    images=Z1,\n",
    "    ksizes=[1, 5, 5, 1],\n",
    "    strides=[1, 1, 1, 1],\n",
    "    rates=[1, 1, 1, 1],\n",
    "    padding='VALID'\n",
    ")\n",
    "\n",
    "Z2 = tf.reshape(tf.nn.tanh(tf.reduce_sum(patches*B, axis=3)+b0), [-1, 16])\n",
    "\n",
    "y_hat = tf.nn.softmax(c0 + Z2@C)"
   ]
  },
  {
   "cell_type": "code",
   "execution_count": 17,
   "metadata": {
    "collapsed": true
   },
   "outputs": [],
   "source": [
    "net4_size = session.run(size)\n",
    "net4_accuracy = train(session, x, y, y_hat, build_optimizer_step(5e-3, y, y_hat), 100)"
   ]
  },
  {
   "cell_type": "code",
   "execution_count": 18,
   "metadata": {},
   "outputs": [],
   "source": [
    "x = tf.placeholder(tf.float64, shape=[None, 16, 16, 1])\n",
    "y = tf.placeholder(tf.float64, shape=[None, 10])\n",
    "\n",
    "# parameters\n",
    "A = tf.Variable(initializer([3, 3, 1, 2], dtype=tf.float64))\n",
    "a0 = tf.Variable(initializer([1, 8, 8, 2], dtype=tf.float64))\n",
    "B = tf.Variable(initializer([5, 5, 2, 4], dtype=tf.float64))\n",
    "b0 = tf.Variable(initializer([1, 4, 4, 4], dtype=tf.float64))\n",
    "C = tf.Variable(initializer([64, 10], dtype=tf.float64))\n",
    "c0 = tf.Variable(initializer([10], dtype=tf.float64))\n",
    "# number of trainable parameters calculation\n",
    "parms = [A, a0, B, b0, C, c0]\n",
    "size = tf.reduce_sum([tf.size(p) for p in parms])\n",
    "\n",
    "Z1 = tf.nn.tanh(\n",
    "    tf.nn.conv2d(\n",
    "        input=x,\n",
    "        filter=A,\n",
    "        strides=[1, 2, 2, 1],\n",
    "        padding='SAME'\n",
    "    ) + a0)\n",
    "\n",
    "Z2 = tf.reshape(\n",
    "    tf.nn.tanh(\n",
    "        tf.nn.conv2d(\n",
    "            input=Z1,\n",
    "            filter=B,\n",
    "            strides=[1, 1, 1, 1],\n",
    "            padding='VALID') + b0),\n",
    "    [-1, 64])\n",
    "\n",
    "y_hat = tf.nn.softmax(c0 + Z2@C)"
   ]
  },
  {
   "cell_type": "code",
   "execution_count": 21,
   "metadata": {
    "collapsed": true
   },
   "outputs": [],
   "source": [
    "net5_size = session.run(size)\n",
    "net5_accuracy = train(session, x, y, y_hat, build_optimizer_step(5e-3, y, y_hat), 100)"
   ]
  },
  {
   "cell_type": "code",
   "execution_count": 22,
   "metadata": {},
   "outputs": [
    {
     "data": {
      "text/plain": [
       "(0.875, 0.875, 0.94375, 0.925, 0.975)"
      ]
     },
     "execution_count": 22,
     "metadata": {},
     "output_type": "execute_result"
    }
   ],
   "source": [
    "#plt.plot(range(50), net4_accuracy)\n",
    "#plt.plot(range(100), net5_accuracy)\n",
    "max(net1_accuracy), max(net2_accuracy), max(net3_accuracy), max(net4_accuracy), max(net5_accuracy)"
   ]
  },
  {
   "cell_type": "markdown",
   "metadata": {},
   "source": [
    "# ZIP Code\n",
    "Normalized handwritten digits, automatically scanned from envelopes by the U.S. Postal Service. The original scanned digits are binary and of different sizes and orientations; the images here have been deslanted and size normalized, resulting in 16 x 16 grayscale images (Le Cun et al., 1990).\n",
    "\n",
    "The data is in a numpy compressed file, and each row consists of the digit id (0-9) followed by the 256 grayscale values. The last column contains is_test flag 0 for train and 1 for test observations.\n",
    "\n",
    "There are 7291 training observations and 2007 test observations.\n",
    "\n",
    "The test set is notoriously \"difficult\", and a 2.5% error rate is excellent. These data were kindly made available by the neural network group at AT&T research labs (thanks to Yann Le Cunn).\n",
    "\n",
    "http://yann.lecun.com/exdb/publis/pdf/lecun-89.pdf\n",
    "\n",
    "http://yann.lecun.com/exdb/publis/pdf/lecun-89e.pdf\n",
    "\n",
    "http://yann.lecun.com/exdb/publis/pdf/lecun-99.pdf"
   ]
  },
  {
   "cell_type": "code",
   "execution_count": 1,
   "metadata": {
    "collapsed": true
   },
   "outputs": [],
   "source": [
    "import pandas as pd\n",
    "from matplotlib import transforms, pyplot as plt\n",
    "from sklearn.preprocessing import OneHotEncoder\n",
    "import numpy as np\n",
    "\n",
    "%matplotlib inline\n",
    "\n",
    "# define plots common properties and color constants\n",
    "plt.rcParams['font.family'] = 'Arial'\n",
    "plt.rcParams['axes.linewidth'] = 0.5\n",
    "GRAY1, GRAY4, GRAY7 = '#231F20', '#646369', '#929497'"
   ]
  },
  {
   "cell_type": "markdown",
   "metadata": {},
   "source": [
    "## Load and Prepare Data"
   ]
  },
  {
   "cell_type": "code",
   "execution_count": 2,
   "metadata": {
    "collapsed": true
   },
   "outputs": [],
   "source": [
    "# PAGE 404. Figure 11.9 shows some examples of normalized handwritten digits,\n",
    "#           automatically scanned from envelopes by the U.S. Postal Service.\n",
    "#           The original scanned digits are binary and of different sizes and\n",
    "#           orientations; the images shown here have been deslanted and size\n",
    "#           normalized, resulting in 16× 16 grayscale images (Le Cun et al.,\n",
    "#           1990). These 256 pixel values are used as inputs to the neural\n",
    "#           network classifier.\n",
    "\n",
    "# load numpy array from the compressed file\n",
    "arr = np.load('../data/zip.npy.npz')['arr_0']\n",
    "# do train-test split by the last column\n",
    "train, test = arr[arr[:, -1] == 0], arr[arr[:, -1] == 1]\n",
    "X_train, X_test = train[:, 1:-1], test[:, 1:-1]\n",
    "y_train, y_test = train[:, 0].astype(int), test[:, 0].astype(int)\n",
    "\n",
    "# do one hot labels encoding\n",
    "ohe = OneHotEncoder(categories='auto')\n",
    "Y_train_one_hot = ohe.fit_transform(y_train.reshape(-1, 1)).toarray()\n",
    "Y_test_one_hot = ohe.fit_transform(y_test.reshape(-1, 1)).toarray()"
   ]
  },
  {
   "cell_type": "code",
   "execution_count": 15,
   "metadata": {},
   "outputs": [
    {
     "data": {
      "image/png": "[encoded data removed]",
      "text/plain": [
       "<matplotlib.figure.Figure at 0x2452a971438>"
      ]
     },
     "metadata": {},
     "output_type": "display_data"
    }
   ],
   "source": [
    "# PAGE 404. FIGURE 11.9. Examples of training cases from ZIP code data. Each\n",
    "#           image is a 16 × 16 8-bit grayscale representation of a handwritten\n",
    "#           digit.\n",
    "w = 20  # pixels for one digit\n",
    "result = np.ones(shape=(4+w*5, 4+w*10))\n",
    "for d in range(10):\n",
    "    d_idx = np.squeeze(np.argwhere(y_train == d))\n",
    "    d_idx = np.random.choice(d_idx, 5, replace=False)\n",
    "    for i, idx in enumerate(d_idx):\n",
    "        result[i*w+4:i*w+20, d*w+4:d*w+20] = -X_train[idx].reshape((16, 16))\n",
    "fig, ax = plt.subplots(figsize=(5.5, 3.3), dpi=110)\n",
    "ax.imshow(result, cmap=\"gray\")\n",
    "ax.set_aspect('equal', 'datalim')\n",
    "ax.tick_params(bottom=False, left=False, labelleft=False, labelbottom=False)\n",
    "for spine in ax.spines.values():\n",
    "    spine.set_visible(False)"
   ]
  },
  {
   "cell_type": "markdown",
   "metadata": {},
   "source": [
    "## Training\n",
    "The book deliberately uses a subsample of modest size (320 numbers in the training set and 160 numbers in the test set) to emphasize the effects. The exact numbers used are unknown, so I took all the available training and test data. I reproduced the exact architecture of neural networks Net-1 - Net-5 even though it is not a modern approach. As a result, I did not get the effect of overfitting, and there is also no big difference in the classification accuracy. Simple neural networks do not behave as badly as in a book. And Net-5 did not show the same good performance as in the book."
   ]
  },
  {
   "cell_type": "code",
   "execution_count": 4,
   "metadata": {
    "collapsed": true
   },
   "outputs": [],
   "source": [
    "import tensorflow as tf\n",
    "from sklearn.metrics import accuracy_score"
   ]
  },
  {
   "cell_type": "code",
   "execution_count": 5,
   "metadata": {
    "collapsed": true
   },
   "outputs": [],
   "source": [
    "# all nets will use the same loss function and optimization step\n",
    "def build_optimizer_step(learning_rate, y_true, y_hat):\n",
    "    cross_entropy = y_true*tf.log(y_hat)\n",
    "    loss = tf.reduce_mean(-tf.reduce_sum(cross_entropy, reduction_indices=1))\n",
    "    opt = tf.train.AdamOptimizer(learning_rate).minimize(loss)\n",
    "    return opt"
   ]
  },
  {
   "cell_type": "code",
   "execution_count": 6,
   "metadata": {
    "collapsed": true
   },
   "outputs": [],
   "source": [
    "# Let's write a generic training procedure. we will use stochastic \n",
    "# gradient descent, providing data for training in batches\n",
    "def train(session, y_hat_tensor, optimizer_step,\n",
    "          n_epochs, n_batches,\n",
    "          X_tensor, Y_tensor,\n",
    "          X_train, Y_train, fd_test):\n",
    "    accuracy = []\n",
    "    batches = np.random.randint(0, n_batches, size=X_train.shape[0])\n",
    "    session.run(tf.global_variables_initializer())\n",
    "    \n",
    "    for e in range(n_epochs):\n",
    "        for b in range(n_batches):\n",
    "            b_idx = np.where(batches == b)\n",
    "            fd_train = {X_tensor: X_train[b_idx], Y_tensor: Y_train[b_idx]}\n",
    "            session.run(optimizer_step, fd_train)\n",
    "            y_test_hat = np.argmax(session.run(y_hat_tensor, fd_test), axis=1)\n",
    "        accuracy.append(accuracy_score(y_test, y_test_hat))\n",
    "    return accuracy"
   ]
  },
  {
   "cell_type": "code",
   "execution_count": 7,
   "metadata": {
    "collapsed": true
   },
   "outputs": [],
   "source": [
    "session = tf.Session()\n",
    "# use xavier initializer for weights' starting values\n",
    "initializer = tf.contrib.layers.xavier_initializer()"
   ]
  },
  {
   "cell_type": "markdown",
   "metadata": {
    "collapsed": true
   },
   "source": [
    "## Net-1\n",
    "No hidden layer, equivalent to multinomial logistic regression."
   ]
  },
  {
   "cell_type": "code",
   "execution_count": 8,
   "metadata": {
    "collapsed": true
   },
   "outputs": [],
   "source": [
    "# define placeholders for features and targets\n",
    "x = tf.placeholder(tf.float64, shape=[None, 256])\n",
    "y = tf.placeholder(tf.float64, shape=[None, 10])\n",
    "\n",
    "# parameters\n",
    "A = tf.Variable(initializer([256, 10], dtype=tf.float64))\n",
    "a0 = tf.Variable(initializer([1, 10], dtype=tf.float64))\n",
    "# number of trainable parameters calculation\n",
    "parms = [A, a0]\n",
    "size = tf.reduce_sum([tf.size(p) for p in parms])\n",
    "\n",
    "# neural network computation graph\n",
    "y_hat = tf.nn.softmax(a0 + x @ A)"
   ]
  },
  {
   "cell_type": "code",
   "execution_count": 9,
   "metadata": {
    "collapsed": true
   },
   "outputs": [],
   "source": [
    "net1_size = session.run(size)\n",
    "net1_accuracy = train(\n",
    "    session, y_hat, build_optimizer_step(1e-2, y, y_hat),\n",
    "    30, 100,\n",
    "    x, y,\n",
    "    X_train, Y_train_one_hot,\n",
    "    {x: X_test}\n",
    ")"
   ]
  },
  {
   "cell_type": "markdown",
   "metadata": {},
   "source": [
    "## Net-2\n",
    "One hidden layer, 12 hidden units fully connected."
   ]
  },
  {
   "cell_type": "code",
   "execution_count": 10,
   "metadata": {
    "collapsed": true
   },
   "outputs": [],
   "source": [
    "# define placeholders for features and targets\n",
    "x = tf.placeholder(tf.float64, shape=[None, 256])\n",
    "y = tf.placeholder(tf.float64, shape=[None, 10])\n",
    "\n",
    "n_hidden = 12\n",
    "\n",
    "# parameters\n",
    "A = tf.Variable(initializer([256, n_hidden], dtype=tf.float64))\n",
    "a0 = tf.Variable(initializer([1, n_hidden], dtype=tf.float64))\n",
    "B = tf.Variable(initializer([n_hidden, 10], dtype=tf.float64))\n",
    "b0 = tf.Variable(initializer([10], dtype=tf.float64))\n",
    "# number of trainable parameters calculation\n",
    "parms = [A, a0, B, b0]\n",
    "size = tf.reduce_sum([tf.size(p) for p in parms])\n",
    "\n",
    "# hidden layer\n",
    "Z = tf.nn.sigmoid(a0 + x@A)\n",
    "y_hat = tf.nn.softmax(b0 + Z@B)"
   ]
  },
  {
   "cell_type": "code",
   "execution_count": 12,
   "metadata": {
    "collapsed": true
   },
   "outputs": [],
   "source": [
    "net2_size = session.run(size)\n",
    "net2_accuracy = train(\n",
    "    session, y_hat, build_optimizer_step(1e-2, y, y_hat),\n",
    "    30, 100,\n",
    "    x, y,\n",
    "    X_train, Y_train_one_hot,\n",
    "    {x: X_test}\n",
    ")"
   ]
  },
  {
   "cell_type": "markdown",
   "metadata": {},
   "source": [
    "## Net-3\n",
    "Two hidden layers locally connected."
   ]
  },
  {
   "cell_type": "code",
   "execution_count": 12,
   "metadata": {
    "collapsed": true
   },
   "outputs": [],
   "source": [
    "# define placeholders for features and targets\n",
    "X = tf.placeholder(tf.float64, shape=[None, 16, 16, 1])\n",
    "y = tf.placeholder(tf.float64, shape=[None, 10])\n",
    "\n",
    "# parameters\n",
    "A = tf.Variable(initializer([1, 8, 8, 9], dtype=tf.float64))\n",
    "a0 = tf.Variable(initializer([1, 8, 8], dtype=tf.float64))\n",
    "B = tf.Variable(initializer([1, 4, 4, 25], dtype=tf.float64))\n",
    "b0 = tf.Variable(initializer([1, 4, 4], dtype=tf.float64))\n",
    "C = tf.Variable(initializer([16, 10], dtype=tf.float64))\n",
    "c0 = tf.Variable(initializer([10], dtype=tf.float64))\n",
    "# number of trainable parameters calculation\n",
    "parms = [A, a0, B, b0, C, c0]\n",
    "size = tf.reduce_sum([tf.size(p) for p in parms])\n",
    "\n",
    "patches1 = tf.extract_image_patches(\n",
    "    images=X,\n",
    "    ksizes=[1, 3, 3, 1],\n",
    "    strides=[1, 2, 2, 1],\n",
    "    rates=[1, 1, 1, 1],\n",
    "    padding='SAME'\n",
    ")\n",
    "\n",
    "Z1 = tf.expand_dims(tf.nn.sigmoid(tf.reduce_sum(patches1 * A, axis=3)+a0), -1)\n",
    "\n",
    "patches2 = tf.extract_image_patches(\n",
    "    images=Z1,\n",
    "    ksizes=[1, 5, 5, 1],\n",
    "    strides=[1, 1, 1, 1],\n",
    "    rates=[1, 1, 1, 1],\n",
    "    padding='VALID'\n",
    ")\n",
    "\n",
    "Z2 = tf.reshape(\n",
    "    tf.nn.sigmoid(tf.reduce_sum(patches2 * B, axis=3)+b0),\n",
    "    [-1, 16])\n",
    "\n",
    "y_hat = tf.nn.softmax(c0 + Z2@C)"
   ]
  },
  {
   "cell_type": "code",
   "execution_count": 13,
   "metadata": {
    "collapsed": true
   },
   "outputs": [],
   "source": [
    "net3_size = session.run(size)\n",
    "net3_accuracy = train(\n",
    "    session,\n",
    "    y_hat,\n",
    "    build_optimizer_step(1e-2, y, y_hat),\n",
    "    {X: X_train.reshape((X_train.shape[0], 16, 16, 1)), y: Y_train_one_hot},\n",
    "    {X: X_test.reshape((X_test.shape[0], 16, 16, 1))}\n",
    ")"
   ]
  },
  {
   "cell_type": "markdown",
   "metadata": {},
   "source": [
    "## Net-4\n",
    "Two hidden layers, locally connected with weight sharing."
   ]
  },
  {
   "cell_type": "code",
   "execution_count": 14,
   "metadata": {
    "collapsed": true
   },
   "outputs": [],
   "source": [
    "X = tf.placeholder(tf.float64, shape=[None, 16, 16, 1])\n",
    "y = tf.placeholder(tf.float64, shape=[None, 10])\n",
    "\n",
    "# parameters\n",
    "A = tf.Variable(initializer([3, 3, 1, 2], dtype=tf.float64))\n",
    "a0 = tf.Variable(initializer([1, 8, 8, 2], dtype=tf.float64))\n",
    "B = tf.Variable(initializer([1, 4, 4, 50], dtype=tf.float64))\n",
    "b0 = tf.Variable(initializer([1, 4, 4], dtype=tf.float64))\n",
    "C = tf.Variable(initializer([16, 10], dtype=tf.float64))\n",
    "c0 = tf.Variable(initializer([10], dtype=tf.float64))\n",
    "# number of trainable parameters calculation\n",
    "parms = [A, a0, B, b0, C, c0]\n",
    "size = tf.reduce_sum([tf.size(p) for p in parms])\n",
    "\n",
    "Z1 = tf.nn.sigmoid(\n",
    "    tf.nn.conv2d(\n",
    "        input=X,\n",
    "        filter=A,\n",
    "        strides=[1, 2, 2, 1],\n",
    "        padding='SAME'\n",
    "    ) + a0)\n",
    "\n",
    "patches = tf.extract_image_patches(\n",
    "    images=Z1,\n",
    "    ksizes=[1, 5, 5, 1],\n",
    "    strides=[1, 1, 1, 1],\n",
    "    rates=[1, 1, 1, 1],\n",
    "    padding='VALID'\n",
    ")\n",
    "\n",
    "Z2 = tf.reshape(tf.nn.sigmoid(tf.reduce_sum(patches*B, axis=3)+b0), [-1, 16])\n",
    "\n",
    "y_hat = tf.nn.softmax(c0 + Z2@C)"
   ]
  },
  {
   "cell_type": "code",
   "execution_count": 15,
   "metadata": {
    "collapsed": true
   },
   "outputs": [],
   "source": [
    "net4_size = session.run(size)\n",
    "net4_accuracy = train(\n",
    "    session,\n",
    "    y_hat,\n",
    "    build_optimizer_step(1.4e-2, y, y_hat),\n",
    "    {X: X_train.reshape((X_train.shape[0], 16, 16, 1)), y: Y_train_one_hot},\n",
    "    {X: X_test.reshape((X_test.shape[0], 16, 16, 1))}\n",
    ")"
   ]
  },
  {
   "cell_type": "markdown",
   "metadata": {},
   "source": [
    "## Net-5\n",
    "Two hidden layers, locally connected, two levels of weight sharing."
   ]
  },
  {
   "cell_type": "code",
   "execution_count": 8,
   "metadata": {
    "collapsed": true
   },
   "outputs": [],
   "source": [
    "X = tf.placeholder(tf.float64, shape=[None, 16, 16, 1])\n",
    "y = tf.placeholder(tf.float64, shape=[None, 10])\n",
    "\n",
    "# parameters\n",
    "A = tf.Variable(initializer([3, 3, 1, 2], dtype=tf.float64))\n",
    "a0 = tf.Variable(initializer([1, 8, 8, 2], dtype=tf.float64))\n",
    "B = tf.Variable(initializer([5, 5, 2, 4], dtype=tf.float64))\n",
    "b0 = tf.Variable(initializer([1, 4, 4, 4], dtype=tf.float64))\n",
    "C = tf.Variable(initializer([64, 10], dtype=tf.float64))\n",
    "c0 = tf.Variable(initializer([10], dtype=tf.float64))\n",
    "# number of trainable parameters calculation\n",
    "parms = [A, a0, B, b0, C, c0]\n",
    "size = tf.reduce_sum([tf.size(p) for p in parms])\n",
    "\n",
    "Z1 = tf.nn.relu(\n",
    "    tf.nn.conv2d(\n",
    "        input=X,\n",
    "        filter=A,\n",
    "        strides=[1, 2, 2, 1],\n",
    "        padding='SAME'\n",
    "    ) + a0)\n",
    "\n",
    "Z2 = tf.reshape(\n",
    "    tf.nn.relu(\n",
    "        tf.nn.conv2d(\n",
    "            input=Z1,\n",
    "            filter=B,\n",
    "            strides=[1, 1, 1, 1],\n",
    "            padding='VALID') + b0),\n",
    "    [-1, 64])\n",
    "\n",
    "y_hat = tf.nn.softmax(c0 + Z2@C)"
   ]
  },
  {
   "cell_type": "code",
   "execution_count": 9,
   "metadata": {},
   "outputs": [
    {
     "name": "stdout",
     "output_type": "stream",
     "text": [
      "0 0.6522172396611858\n",
      "1 0.8016940707523668\n",
      "2 0.8400597907324364\n",
      "3 0.8550074738415545\n",
      "4 0.8659691081215745\n",
      "5 0.8709516691579472\n",
      "6 0.8804185351270553\n",
      "7 0.885401096163428\n",
      "8 0.8898854010961634\n",
      "9 0.8943697060288989\n",
      "10 0.8973592426507224\n",
      "11 0.9023418036870952\n",
      "12 0.9053313403089188\n",
      "13 0.9088191330343797\n",
      "14 0.9098156452416543\n",
      "15 0.9128051818634778\n",
      "16 0.9123069257598405\n",
      "17 0.9138016940707524\n",
      "18 0.9152964623816642\n",
      "19 0.9157947184853015\n",
      "20 0.9157947184853015\n",
      "21 0.916791230692576\n",
      "22 0.9157947184853015\n",
      "23 0.9157947184853015\n",
      "24 0.9157947184853015\n",
      "25 0.916791230692576\n",
      "26 0.9192825112107623\n",
      "27 0.9202790234180369\n",
      "28 0.9212755356253114\n",
      "29 0.9217737917289487\n",
      "30 0.9217737917289487\n",
      "31 0.9217737917289487\n",
      "32 0.9227703039362232\n",
      "33 0.9237668161434978\n",
      "34 0.9237668161434978\n",
      "35 0.9237668161434978\n",
      "36 0.9227703039362232\n",
      "37 0.9227703039362232\n",
      "38 0.9237668161434978\n",
      "39 0.9232685600398605\n",
      "40 0.9237668161434978\n",
      "41 0.9237668161434978\n",
      "42 0.9237668161434978\n",
      "43 0.9227703039362232\n",
      "44 0.922272047832586\n",
      "45 0.922272047832586\n",
      "46 0.9227703039362232\n",
      "47 0.924265072247135\n",
      "48 0.9247633283507724\n",
      "49 0.9232685600398605\n",
      "50 0.9232685600398605\n",
      "51 0.9247633283507724\n",
      "52 0.9252615844544095\n",
      "53 0.924265072247135\n",
      "54 0.924265072247135\n",
      "55 0.9237668161434978\n",
      "56 0.924265072247135\n",
      "57 0.9237668161434978\n",
      "58 0.9237668161434978\n",
      "59 0.9237668161434978\n",
      "60 0.924265072247135\n",
      "61 0.924265072247135\n",
      "62 0.9247633283507724\n",
      "63 0.9247633283507724\n",
      "64 0.9252615844544095\n",
      "65 0.9252615844544095\n",
      "66 0.924265072247135\n",
      "67 0.9237668161434978\n",
      "68 0.9227703039362232\n",
      "69 0.9237668161434978\n",
      "70 0.924265072247135\n",
      "71 0.924265072247135\n",
      "72 0.924265072247135\n",
      "73 0.9237668161434978\n",
      "74 0.924265072247135\n",
      "75 0.9247633283507724\n",
      "76 0.924265072247135\n",
      "77 0.9237668161434978\n",
      "78 0.9247633283507724\n",
      "79 0.9247633283507724\n",
      "80 0.9247633283507724\n",
      "81 0.9247633283507724\n",
      "82 0.924265072247135\n",
      "83 0.924265072247135\n",
      "84 0.924265072247135\n",
      "85 0.924265072247135\n",
      "86 0.924265072247135\n",
      "87 0.9237668161434978\n",
      "88 0.9237668161434978\n",
      "89 0.9232685600398605\n",
      "90 0.9237668161434978\n"
     ]
    },
    {
     "ename": "KeyboardInterrupt",
     "evalue": "",
     "output_type": "error",
     "traceback": [
      "\u001b[1;31m---------------------------------------------------------------------------\u001b[0m",
      "\u001b[1;31mKeyboardInterrupt\u001b[0m                         Traceback (most recent call last)",
      "\u001b[1;32m<ipython-input-9-0bba518cc585>\u001b[0m in \u001b[0;36m<module>\u001b[1;34m()\u001b[0m\n\u001b[0;32m      5\u001b[0m     \u001b[0mX\u001b[0m\u001b[1;33m,\u001b[0m \u001b[0my\u001b[0m\u001b[1;33m,\u001b[0m\u001b[1;33m\u001b[0m\u001b[0m\n\u001b[0;32m      6\u001b[0m     \u001b[0mX_train\u001b[0m\u001b[1;33m.\u001b[0m\u001b[0mreshape\u001b[0m\u001b[1;33m(\u001b[0m\u001b[1;33m(\u001b[0m\u001b[0mX_train\u001b[0m\u001b[1;33m.\u001b[0m\u001b[0mshape\u001b[0m\u001b[1;33m[\u001b[0m\u001b[1;36m0\u001b[0m\u001b[1;33m]\u001b[0m\u001b[1;33m,\u001b[0m \u001b[1;36m16\u001b[0m\u001b[1;33m,\u001b[0m \u001b[1;36m16\u001b[0m\u001b[1;33m,\u001b[0m \u001b[1;36m1\u001b[0m\u001b[1;33m)\u001b[0m\u001b[1;33m)\u001b[0m\u001b[1;33m,\u001b[0m \u001b[0mY_train_one_hot\u001b[0m\u001b[1;33m,\u001b[0m\u001b[1;33m\u001b[0m\u001b[0m\n\u001b[1;32m----> 7\u001b[1;33m     \u001b[1;33m{\u001b[0m\u001b[0mX\u001b[0m\u001b[1;33m:\u001b[0m \u001b[0mX_test\u001b[0m\u001b[1;33m.\u001b[0m\u001b[0mreshape\u001b[0m\u001b[1;33m(\u001b[0m\u001b[1;33m(\u001b[0m\u001b[0mX_test\u001b[0m\u001b[1;33m.\u001b[0m\u001b[0mshape\u001b[0m\u001b[1;33m[\u001b[0m\u001b[1;36m0\u001b[0m\u001b[1;33m]\u001b[0m\u001b[1;33m,\u001b[0m \u001b[1;36m16\u001b[0m\u001b[1;33m,\u001b[0m \u001b[1;36m16\u001b[0m\u001b[1;33m,\u001b[0m \u001b[1;36m1\u001b[0m\u001b[1;33m)\u001b[0m\u001b[1;33m)\u001b[0m\u001b[1;33m}\u001b[0m\u001b[1;33m\u001b[0m\u001b[0m\n\u001b[0m\u001b[0;32m      8\u001b[0m )\n\u001b[0;32m      9\u001b[0m \u001b[1;31m#net5_accuracy = train(\u001b[0m\u001b[1;33m\u001b[0m\u001b[1;33m\u001b[0m\u001b[0m\n",
      "\u001b[1;32m<ipython-input-6-4d17421edf7b>\u001b[0m in \u001b[0;36mtrain\u001b[1;34m(session, y_hat_tensor, optimizer_step, n_epochs, n_batches, X_tensor, Y_tensor, X_train, Y_train, fd_test)\u001b[0m\n\u001b[0;32m     14\u001b[0m             \u001b[0mfd_train\u001b[0m \u001b[1;33m=\u001b[0m \u001b[1;33m{\u001b[0m\u001b[0mX_tensor\u001b[0m\u001b[1;33m:\u001b[0m \u001b[0mX_train\u001b[0m\u001b[1;33m[\u001b[0m\u001b[0mb_idx\u001b[0m\u001b[1;33m]\u001b[0m\u001b[1;33m,\u001b[0m \u001b[0mY_tensor\u001b[0m\u001b[1;33m:\u001b[0m \u001b[0mY_train\u001b[0m\u001b[1;33m[\u001b[0m\u001b[0mb_idx\u001b[0m\u001b[1;33m]\u001b[0m\u001b[1;33m}\u001b[0m\u001b[1;33m\u001b[0m\u001b[0m\n\u001b[0;32m     15\u001b[0m             \u001b[0msession\u001b[0m\u001b[1;33m.\u001b[0m\u001b[0mrun\u001b[0m\u001b[1;33m(\u001b[0m\u001b[0moptimizer_step\u001b[0m\u001b[1;33m,\u001b[0m \u001b[0mfd_train\u001b[0m\u001b[1;33m)\u001b[0m\u001b[1;33m\u001b[0m\u001b[0m\n\u001b[1;32m---> 16\u001b[1;33m             \u001b[0my_test_hat\u001b[0m \u001b[1;33m=\u001b[0m \u001b[0mnp\u001b[0m\u001b[1;33m.\u001b[0m\u001b[0margmax\u001b[0m\u001b[1;33m(\u001b[0m\u001b[0msession\u001b[0m\u001b[1;33m.\u001b[0m\u001b[0mrun\u001b[0m\u001b[1;33m(\u001b[0m\u001b[0my_hat_tensor\u001b[0m\u001b[1;33m,\u001b[0m \u001b[0mfd_test\u001b[0m\u001b[1;33m)\u001b[0m\u001b[1;33m,\u001b[0m \u001b[0maxis\u001b[0m\u001b[1;33m=\u001b[0m\u001b[1;36m1\u001b[0m\u001b[1;33m)\u001b[0m\u001b[1;33m\u001b[0m\u001b[0m\n\u001b[0m\u001b[0;32m     17\u001b[0m         \u001b[0maccuracy\u001b[0m\u001b[1;33m.\u001b[0m\u001b[0mappend\u001b[0m\u001b[1;33m(\u001b[0m\u001b[0maccuracy_score\u001b[0m\u001b[1;33m(\u001b[0m\u001b[0my_test\u001b[0m\u001b[1;33m,\u001b[0m \u001b[0my_test_hat\u001b[0m\u001b[1;33m)\u001b[0m\u001b[1;33m)\u001b[0m\u001b[1;33m\u001b[0m\u001b[0m\n\u001b[0;32m     18\u001b[0m         \u001b[0mprint\u001b[0m\u001b[1;33m(\u001b[0m\u001b[0me\u001b[0m\u001b[1;33m,\u001b[0m \u001b[0maccuracy\u001b[0m\u001b[1;33m[\u001b[0m\u001b[1;33m-\u001b[0m\u001b[1;36m1\u001b[0m\u001b[1;33m]\u001b[0m\u001b[1;33m)\u001b[0m\u001b[1;33m\u001b[0m\u001b[0m\n",
      "\u001b[1;32mC:\\Python64\\lib\\site-packages\\tensorflow\\python\\client\\session.py\u001b[0m in \u001b[0;36mrun\u001b[1;34m(self, fetches, feed_dict, options, run_metadata)\u001b[0m\n\u001b[0;32m    927\u001b[0m     \u001b[1;32mtry\u001b[0m\u001b[1;33m:\u001b[0m\u001b[1;33m\u001b[0m\u001b[0m\n\u001b[0;32m    928\u001b[0m       result = self._run(None, fetches, feed_dict, options_ptr,\n\u001b[1;32m--> 929\u001b[1;33m                          run_metadata_ptr)\n\u001b[0m\u001b[0;32m    930\u001b[0m       \u001b[1;32mif\u001b[0m \u001b[0mrun_metadata\u001b[0m\u001b[1;33m:\u001b[0m\u001b[1;33m\u001b[0m\u001b[0m\n\u001b[0;32m    931\u001b[0m         \u001b[0mproto_data\u001b[0m \u001b[1;33m=\u001b[0m \u001b[0mtf_session\u001b[0m\u001b[1;33m.\u001b[0m\u001b[0mTF_GetBuffer\u001b[0m\u001b[1;33m(\u001b[0m\u001b[0mrun_metadata_ptr\u001b[0m\u001b[1;33m)\u001b[0m\u001b[1;33m\u001b[0m\u001b[0m\n",
      "\u001b[1;32mC:\\Python64\\lib\\site-packages\\tensorflow\\python\\client\\session.py\u001b[0m in \u001b[0;36m_run\u001b[1;34m(self, handle, fetches, feed_dict, options, run_metadata)\u001b[0m\n\u001b[0;32m   1150\u001b[0m     \u001b[1;32mif\u001b[0m \u001b[0mfinal_fetches\u001b[0m \u001b[1;32mor\u001b[0m \u001b[0mfinal_targets\u001b[0m \u001b[1;32mor\u001b[0m \u001b[1;33m(\u001b[0m\u001b[0mhandle\u001b[0m \u001b[1;32mand\u001b[0m \u001b[0mfeed_dict_tensor\u001b[0m\u001b[1;33m)\u001b[0m\u001b[1;33m:\u001b[0m\u001b[1;33m\u001b[0m\u001b[0m\n\u001b[0;32m   1151\u001b[0m       results = self._do_run(handle, final_targets, final_fetches,\n\u001b[1;32m-> 1152\u001b[1;33m                              feed_dict_tensor, options, run_metadata)\n\u001b[0m\u001b[0;32m   1153\u001b[0m     \u001b[1;32melse\u001b[0m\u001b[1;33m:\u001b[0m\u001b[1;33m\u001b[0m\u001b[0m\n\u001b[0;32m   1154\u001b[0m       \u001b[0mresults\u001b[0m \u001b[1;33m=\u001b[0m \u001b[1;33m[\u001b[0m\u001b[1;33m]\u001b[0m\u001b[1;33m\u001b[0m\u001b[0m\n",
      "\u001b[1;32mC:\\Python64\\lib\\site-packages\\tensorflow\\python\\client\\session.py\u001b[0m in \u001b[0;36m_do_run\u001b[1;34m(self, handle, target_list, fetch_list, feed_dict, options, run_metadata)\u001b[0m\n\u001b[0;32m   1326\u001b[0m     \u001b[1;32mif\u001b[0m \u001b[0mhandle\u001b[0m \u001b[1;32mis\u001b[0m \u001b[1;32mNone\u001b[0m\u001b[1;33m:\u001b[0m\u001b[1;33m\u001b[0m\u001b[0m\n\u001b[0;32m   1327\u001b[0m       return self._do_call(_run_fn, feeds, fetches, targets, options,\n\u001b[1;32m-> 1328\u001b[1;33m                            run_metadata)\n\u001b[0m\u001b[0;32m   1329\u001b[0m     \u001b[1;32melse\u001b[0m\u001b[1;33m:\u001b[0m\u001b[1;33m\u001b[0m\u001b[0m\n\u001b[0;32m   1330\u001b[0m       \u001b[1;32mreturn\u001b[0m \u001b[0mself\u001b[0m\u001b[1;33m.\u001b[0m\u001b[0m_do_call\u001b[0m\u001b[1;33m(\u001b[0m\u001b[0m_prun_fn\u001b[0m\u001b[1;33m,\u001b[0m \u001b[0mhandle\u001b[0m\u001b[1;33m,\u001b[0m \u001b[0mfeeds\u001b[0m\u001b[1;33m,\u001b[0m \u001b[0mfetches\u001b[0m\u001b[1;33m)\u001b[0m\u001b[1;33m\u001b[0m\u001b[0m\n",
      "\u001b[1;32mC:\\Python64\\lib\\site-packages\\tensorflow\\python\\client\\session.py\u001b[0m in \u001b[0;36m_do_call\u001b[1;34m(self, fn, *args)\u001b[0m\n\u001b[0;32m   1332\u001b[0m   \u001b[1;32mdef\u001b[0m \u001b[0m_do_call\u001b[0m\u001b[1;33m(\u001b[0m\u001b[0mself\u001b[0m\u001b[1;33m,\u001b[0m \u001b[0mfn\u001b[0m\u001b[1;33m,\u001b[0m \u001b[1;33m*\u001b[0m\u001b[0margs\u001b[0m\u001b[1;33m)\u001b[0m\u001b[1;33m:\u001b[0m\u001b[1;33m\u001b[0m\u001b[0m\n\u001b[0;32m   1333\u001b[0m     \u001b[1;32mtry\u001b[0m\u001b[1;33m:\u001b[0m\u001b[1;33m\u001b[0m\u001b[0m\n\u001b[1;32m-> 1334\u001b[1;33m       \u001b[1;32mreturn\u001b[0m \u001b[0mfn\u001b[0m\u001b[1;33m(\u001b[0m\u001b[1;33m*\u001b[0m\u001b[0margs\u001b[0m\u001b[1;33m)\u001b[0m\u001b[1;33m\u001b[0m\u001b[0m\n\u001b[0m\u001b[0;32m   1335\u001b[0m     \u001b[1;32mexcept\u001b[0m \u001b[0merrors\u001b[0m\u001b[1;33m.\u001b[0m\u001b[0mOpError\u001b[0m \u001b[1;32mas\u001b[0m \u001b[0me\u001b[0m\u001b[1;33m:\u001b[0m\u001b[1;33m\u001b[0m\u001b[0m\n\u001b[0;32m   1336\u001b[0m       \u001b[0mmessage\u001b[0m \u001b[1;33m=\u001b[0m \u001b[0mcompat\u001b[0m\u001b[1;33m.\u001b[0m\u001b[0mas_text\u001b[0m\u001b[1;33m(\u001b[0m\u001b[0me\u001b[0m\u001b[1;33m.\u001b[0m\u001b[0mmessage\u001b[0m\u001b[1;33m)\u001b[0m\u001b[1;33m\u001b[0m\u001b[0m\n",
      "\u001b[1;32mC:\\Python64\\lib\\site-packages\\tensorflow\\python\\client\\session.py\u001b[0m in \u001b[0;36m_run_fn\u001b[1;34m(feed_dict, fetch_list, target_list, options, run_metadata)\u001b[0m\n\u001b[0;32m   1317\u001b[0m       \u001b[0mself\u001b[0m\u001b[1;33m.\u001b[0m\u001b[0m_extend_graph\u001b[0m\u001b[1;33m(\u001b[0m\u001b[1;33m)\u001b[0m\u001b[1;33m\u001b[0m\u001b[0m\n\u001b[0;32m   1318\u001b[0m       return self._call_tf_sessionrun(\n\u001b[1;32m-> 1319\u001b[1;33m           options, feed_dict, fetch_list, target_list, run_metadata)\n\u001b[0m\u001b[0;32m   1320\u001b[0m \u001b[1;33m\u001b[0m\u001b[0m\n\u001b[0;32m   1321\u001b[0m     \u001b[1;32mdef\u001b[0m \u001b[0m_prun_fn\u001b[0m\u001b[1;33m(\u001b[0m\u001b[0mhandle\u001b[0m\u001b[1;33m,\u001b[0m \u001b[0mfeed_dict\u001b[0m\u001b[1;33m,\u001b[0m \u001b[0mfetch_list\u001b[0m\u001b[1;33m)\u001b[0m\u001b[1;33m:\u001b[0m\u001b[1;33m\u001b[0m\u001b[0m\n",
      "\u001b[1;32mC:\\Python64\\lib\\site-packages\\tensorflow\\python\\client\\session.py\u001b[0m in \u001b[0;36m_call_tf_sessionrun\u001b[1;34m(self, options, feed_dict, fetch_list, target_list, run_metadata)\u001b[0m\n\u001b[0;32m   1405\u001b[0m     return tf_session.TF_SessionRun_wrapper(\n\u001b[0;32m   1406\u001b[0m         \u001b[0mself\u001b[0m\u001b[1;33m.\u001b[0m\u001b[0m_session\u001b[0m\u001b[1;33m,\u001b[0m \u001b[0moptions\u001b[0m\u001b[1;33m,\u001b[0m \u001b[0mfeed_dict\u001b[0m\u001b[1;33m,\u001b[0m \u001b[0mfetch_list\u001b[0m\u001b[1;33m,\u001b[0m \u001b[0mtarget_list\u001b[0m\u001b[1;33m,\u001b[0m\u001b[1;33m\u001b[0m\u001b[0m\n\u001b[1;32m-> 1407\u001b[1;33m         run_metadata)\n\u001b[0m\u001b[0;32m   1408\u001b[0m \u001b[1;33m\u001b[0m\u001b[0m\n\u001b[0;32m   1409\u001b[0m   \u001b[1;32mdef\u001b[0m \u001b[0m_call_tf_sessionprun\u001b[0m\u001b[1;33m(\u001b[0m\u001b[0mself\u001b[0m\u001b[1;33m,\u001b[0m \u001b[0mhandle\u001b[0m\u001b[1;33m,\u001b[0m \u001b[0mfeed_dict\u001b[0m\u001b[1;33m,\u001b[0m \u001b[0mfetch_list\u001b[0m\u001b[1;33m)\u001b[0m\u001b[1;33m:\u001b[0m\u001b[1;33m\u001b[0m\u001b[0m\n",
      "\u001b[1;31mKeyboardInterrupt\u001b[0m: "
     ]
    }
   ],
   "source": [
    "net5_size = session.run(size)\n",
    "net5_accuracy = train(\n",
    "    session, y_hat, build_optimizer_step(1e-3, y, y_hat),\n",
    "    1000, 100,\n",
    "    X, y,\n",
    "    X_train.reshape((X_train.shape[0], 16, 16, 1)), Y_train_one_hot,\n",
    "    {X: X_test.reshape((X_test.shape[0], 16, 16, 1))}\n",
    ")\n",
    "#net5_accuracy = train(\n",
    "#    session, \n",
    "#    y_hat,\n",
    "#    build_optimizer_step(1.4e-2, y, y_hat),\n",
    "#    {X: X_train.reshape((X_train.shape[0], 16, 16, 1)), y: Y_train_one_hot},\n",
    "#    {X: X_test.reshape((X_test.shape[0], 16, 16, 1))}\n",
    "#)"
   ]
  },
  {
   "cell_type": "code",
   "execution_count": 29,
   "metadata": {},
   "outputs": [
    {
     "name": "stdout",
     "output_type": "stream",
     "text": [
      "Net-1: Single layer network          2570       91.6%\n",
      "Net-2: Two layer network             3214       91.4%\n",
      "Net-3: Locally connected             1226       91.7%\n",
      "Net-4: Constrained network 1         1132       91.9%\n",
      "Net-5: Constrained network 2         1060       92.9%\n"
     ]
    }
   ],
   "source": [
    "architectures = [\n",
    "    'Net-1: Single layer network',\n",
    "    'Net-2: Two layer network',\n",
    "    'Net-3: Locally connected',\n",
    "    'Net-4: Constrained network 1',\n",
    "    'Net-5: Constrained network 2']\n",
    "sizes = [net1_size, net2_size, net3_size, net4_size, net5_size]\n",
    "test_scores = [net1_accuracy, net2_accuracy, net3_accuracy,\n",
    "               net4_accuracy, net5_accuracy]\n",
    "best_scores = [max(score) for score in test_scores]\n",
    "\n",
    "for n, s, b in zip(architectures, sizes, best_scores):\n",
    "    print(f'{n:<30} {s:>10} {100*b:>10.1f}%')"
   ]
  },
  {
   "cell_type": "code",
   "execution_count": 13,
   "metadata": {},
   "outputs": [
    {
     "data": {
      "text/plain": [
       "[<matplotlib.lines.Line2D at 0x1d6f1a09780>]"
      ]
     },
     "execution_count": 13,
     "metadata": {},
     "output_type": "execute_result"
    },
    {
     "data": {
      "image/png": "[encoded data removed]",
      "text/plain": [
       "<matplotlib.figure.Figure at 0x1d6eee175c0>"
      ]
     },
     "metadata": {},
     "output_type": "display_data"
    }
   ],
   "source": [
    "plt.plot(range(1000), net1_accuracy)\n",
    "plt.plot(range(1000), net2_accuracy)\n",
    "plt.plot(range(1000), net3_accuracy)"
   ]
  },
  {
   "cell_type": "code",
   "execution_count": null,
   "metadata": {
    "collapsed": true
   },
   "outputs": [],
   "source": []
  }
 ],
 "metadata": {
  "kernelspec": {
   "display_name": "Python [conda env:Python64]",
   "language": "python",
   "name": "conda-env-Python64-py"
  },
  "language_info": {
   "codemirror_mode": {
    "name": "ipython",
    "version": 3
   },
   "file_extension": ".py",
   "mimetype": "text/x-python",
   "name": "python",
   "nbconvert_exporter": "python",
   "pygments_lexer": "ipython3",
   "version": "3.6.3"
  }
 },
 "nbformat": 4,
 "nbformat_minor": 2
}
