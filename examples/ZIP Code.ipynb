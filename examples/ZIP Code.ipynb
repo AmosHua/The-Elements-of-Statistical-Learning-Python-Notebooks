{
 "cells": [
  {
   "cell_type": "markdown",
   "metadata": {},
   "source": [
    "# ZIP Code\n",
    "Normalized handwritten digits, automatically scanned from envelopes by the U.S. Postal Service. The original scanned digits are binary and of different sizes and orientations; the images here have been deslanted and size normalized, resulting in 16 x 16 grayscale images (Le Cun et al., 1990).\n",
    "\n",
    "The data is in a numpy compressed file, and each row consists of the digit id (0-9) followed by the 256 grayscale values. The last column contains is_test flag 0 for train and 1 for test observations.\n",
    "\n",
    "There are 7291 training observations and 2007 test observations.\n",
    "\n",
    "The test set is notoriously \"difficult\", and a 2.5% error rate is excellent. These data were kindly made available by the neural network group at AT&T research labs (thanks to Yann Le Cunn)."
   ]
  },
  {
   "cell_type": "code",
   "execution_count": 1,
   "metadata": {},
   "outputs": [],
   "source": [
    "import pandas as pd\n",
    "from matplotlib import transforms, pyplot as plt\n",
    "import numpy as np\n",
    "\n",
    "%matplotlib inline\n",
    "\n",
    "# define plots common properties and color constants\n",
    "plt.rcParams['font.family'] = 'Arial'\n",
    "plt.rcParams['axes.linewidth'] = 0.5\n",
    "GRAY1, GRAY4, GRAY7 = '#231F20', '#646369', '#929497'"
   ]
  },
  {
   "cell_type": "markdown",
   "metadata": {},
   "source": [
    "## Load and Prepare Data"
   ]
  },
  {
   "cell_type": "code",
   "execution_count": 2,
   "metadata": {
    "collapsed": true
   },
   "outputs": [],
   "source": [
    "# load numpy array from the compressed file\n",
    "arr = np.load('../data/zip.npy.npz')['arr_0']\n",
    "# do train-test split by the last column\n",
    "train, test = arr[arr[:, -1] == 0], arr[arr[:, -1] == 1]\n",
    "X_train, X_test = train[:, 1:-1], test[:, 1:-1]\n",
    "y_train, y_test = train[:, 0].astype(int), test[:, 0].astype(int)"
   ]
  },
  {
   "cell_type": "code",
   "execution_count": 3,
   "metadata": {},
   "outputs": [
    {
     "data": {
      "image/png": "[encoded data removed]",
      "text/plain": [
       "<matplotlib.figure.Figure at 0x20a2f6cca20>"
      ]
     },
     "metadata": {},
     "output_type": "display_data"
    }
   ],
   "source": [
    "# PAGE 404. FIGURE 11.9. Examples of training cases from ZIP code data. Each\n",
    "#           image is a 16 × 16 8-bit grayscale representation of a handwritten\n",
    "#           digit.\n",
    "w = 20  # pixels for one digit\n",
    "result = np.ones(shape=(4+w*5, 4+w*10))\n",
    "for d in range(10):\n",
    "    d_idx = np.squeeze(np.argwhere(y_train == d))\n",
    "    d_idx = np.random.choice(d_idx, 5, replace=False)\n",
    "    for i, idx in enumerate(d_idx):\n",
    "        result[i*w+4:i*w+20, d*w+4:d*w+20] = -X_train[idx].reshape((16, 16))\n",
    "_ = plt.imshow(result, cmap=\"gray\")"
   ]
  },
  {
   "cell_type": "markdown",
   "metadata": {
    "collapsed": true
   },
   "source": [
    "## Net-1\n",
    "No hidden layer, equivalent to multinomial logistic regression."
   ]
  },
  {
   "cell_type": "code",
   "execution_count": 4,
   "metadata": {},
   "outputs": [],
   "source": [
    "import tensorflow as tf\n",
    "from sklearn.preprocessing import OneHotEncoder\n",
    "from sklearn.metrics import accuracy_score\n",
    "import math\n",
    "\n",
    "tf.logging.set_verbosity(tf.logging.ERROR)"
   ]
  },
  {
   "cell_type": "code",
   "execution_count": 5,
   "metadata": {},
   "outputs": [],
   "source": [
    "ohe = OneHotEncoder(categories='auto')\n",
    "Y_train_one_hot = ohe.fit_transform(y_train.reshape(-1, 1)).toarray()\n",
    "Y_test_one_hot = ohe.fit_transform(y_test.reshape(-1, 1)).toarray()"
   ]
  },
  {
   "cell_type": "code",
   "execution_count": 6,
   "metadata": {},
   "outputs": [
    {
     "name": "stdout",
     "output_type": "stream",
     "text": [
      "\n",
      "WARNING: The TensorFlow contrib module will not be included in TensorFlow 2.0.\n",
      "For more information, please see:\n",
      "  * https://github.com/tensorflow/community/blob/master/rfcs/20180907-contrib-sunset.md\n",
      "  * https://github.com/tensorflow/addons\n",
      "If you depend on functionality not listed there, please file an issue.\n",
      "\n"
     ]
    }
   ],
   "source": [
    "session = tf.Session()\n",
    "initializer = tf.contrib.layers.xavier_initializer()\n",
    "x = tf.placeholder(tf.float64, shape=[None, 256])\n",
    "y = tf.placeholder(tf.float64, shape=[None, 10])"
   ]
  },
  {
   "cell_type": "code",
   "execution_count": 7,
   "metadata": {},
   "outputs": [
    {
     "name": "stdout",
     "output_type": "stream",
     "text": [
      "\n",
      "WARNING: The TensorFlow contrib module will not be included in TensorFlow 2.0.\n",
      "For more information, please see:\n",
      "  * https://github.com/tensorflow/community/blob/master/rfcs/20180907-contrib-sunset.md\n",
      "  * https://github.com/tensorflow/addons\n",
      "If you depend on functionality not listed there, please file an issue.\n",
      "\n"
     ]
    }
   ],
   "source": [
    "A = tf.Variable(initializer([256, 10], dtype=tf.float64))\n",
    "a0 = tf.Variable(initializer([1, 10], dtype=tf.float64))\n",
    "T = a0 + x @ A\n",
    "y_hat = tf.nn.softmax(T)\n",
    "cross_entropy = y*tf.log(y_hat)\n",
    "loss = tf.reduce_mean(-tf.reduce_sum(cross_entropy, reduction_indices = 1))"
   ]
  },
  {
   "cell_type": "code",
   "execution_count": 8,
   "metadata": {},
   "outputs": [],
   "source": [
    "adm = tf.train.AdamOptimizer(1e-2).minimize(loss)"
   ]
  },
  {
   "cell_type": "code",
   "execution_count": 7,
   "metadata": {
    "collapsed": true
   },
   "outputs": [],
   "source": [
    "train_feed_dict = {x: X_train, y: Y_train_one_hot}\n",
    "test_feed_dict = {x: X_test}"
   ]
  },
  {
   "cell_type": "code",
   "execution_count": 8,
   "metadata": {
    "collapsed": true
   },
   "outputs": [],
   "source": [
    "# let's write a generic training procedure \n",
    "def train(optimizer_step):\n",
    "    accuracy = []\n",
    "    session.run(tf.global_variables_initializer())\n",
    "    for e in range(1000):\n",
    "        session.run(optimizer_step, train_feed_dict)\n",
    "        y_test_hat = np.argmax(session.run(y_hat, test_feed_dict), axis=1)\n",
    "        accuracy.append(accuracy_score(y_test, y_test_hat))\n",
    "    return accuracy"
   ]
  },
  {
   "cell_type": "code",
   "execution_count": 20,
   "metadata": {},
   "outputs": [],
   "source": [
    "accuracy1 = train(adm)"
   ]
  },
  {
   "cell_type": "code",
   "execution_count": 21,
   "metadata": {},
   "outputs": [
    {
     "data": {
      "text/plain": [
       "[<matplotlib.lines.Line2D at 0x1e151364198>]"
      ]
     },
     "execution_count": 21,
     "metadata": {},
     "output_type": "execute_result"
    },
    {
     "data": {
      "image/png": "[encoded data removed]",
      "text/plain": [
       "<matplotlib.figure.Figure at 0x1e150c3de80>"
      ]
     },
     "metadata": {},
     "output_type": "display_data"
    }
   ],
   "source": [
    "plt.plot(range(1000), accuracy1)"
   ]
  },
  {
   "cell_type": "markdown",
   "metadata": {},
   "source": [
    "## Net-2\n",
    "One hidden layer, 12 hidden units fully connected."
   ]
  },
  {
   "cell_type": "code",
   "execution_count": 9,
   "metadata": {
    "collapsed": true
   },
   "outputs": [],
   "source": [
    "n_hidden = 12\n",
    "\n",
    "A = tf.Variable(initializer([256, n_hidden], dtype=tf.float64))\n",
    "a0 = tf.Variable(initializer([1, n_hidden], dtype=tf.float64))\n",
    "B = tf.Variable(initializer([n_hidden, 10], dtype=tf.float64))\n",
    "b0 = tf.Variable(initializer([10], dtype=tf.float64))\n",
    "\n",
    "Z = tf.nn.sigmoid(a0 + x@A)\n",
    "T = b0 + Z@B\n",
    "\n",
    "y_hat = tf.nn.softmax(T)\n",
    "\n",
    "cross_entropy = y*tf.log(y_hat)\n",
    "loss = tf.reduce_mean(-tf.reduce_sum(cross_entropy, reduction_indices = 1))\n",
    "adm = tf.train.AdamOptimizer(1e-2).minimize(loss)"
   ]
  },
  {
   "cell_type": "code",
   "execution_count": 10,
   "metadata": {
    "collapsed": true
   },
   "outputs": [],
   "source": [
    "accuracy2 = train(adm)"
   ]
  },
  {
   "cell_type": "code",
   "execution_count": 11,
   "metadata": {},
   "outputs": [
    {
     "data": {
      "text/plain": [
       "[<matplotlib.lines.Line2D at 0x20a413559e8>]"
      ]
     },
     "execution_count": 11,
     "metadata": {},
     "output_type": "execute_result"
    },
    {
     "data": {
      "image/png": "[encoded data removed]",
      "text/plain": [
       "<matplotlib.figure.Figure at 0x20a410f05c0>"
      ]
     },
     "metadata": {},
     "output_type": "display_data"
    }
   ],
   "source": [
    "plt.plot(range(1000), accuracy2)"
   ]
  },
  {
   "cell_type": "code",
   "execution_count": null,
   "metadata": {
    "collapsed": true
   },
   "outputs": [],
   "source": []
  }
 ],
 "metadata": {
  "kernelspec": {
   "display_name": "Python [conda env:Python64]",
   "language": "python",
   "name": "conda-env-Python64-py"
  },
  "language_info": {
   "codemirror_mode": {
    "name": "ipython",
    "version": 3
   },
   "file_extension": ".py",
   "mimetype": "text/x-python",
   "name": "python",
   "nbconvert_exporter": "python",
   "pygments_lexer": "ipython3",
   "version": "3.6.3"
  }
 },
 "nbformat": 4,
 "nbformat_minor": 2
}
