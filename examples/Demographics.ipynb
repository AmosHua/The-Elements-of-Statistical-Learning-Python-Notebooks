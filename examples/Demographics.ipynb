{
 "cells": [
  {
   "cell_type": "markdown",
   "metadata": {},
   "source": [
    "# Demographics Data\n",
    "\n",
    "Marketing Database.\n",
    "\n",
    "Source: Impact Resources, Inc., Columbus, OH (1987). \n",
    "\n",
    "A total of N=9409 questionnaires containg 502 questions were filled out by shopping mall customers in the San Francisco Bay area. \n",
    "\n",
    "The dataset is an extract from this survey. It consists of 14 demographic attributes. The dataset is a good mixture of categorical and continuos variables with a lot of missing data. This is characteristic \n",
    "for data mining applications. \n",
    "\n",
    "Variables:\n",
    "\n",
    "|         |                                                                  |\n",
    "|---------|------------------------------------------------------------------|\n",
    "|income   |ANNUAL INCOME OF HOUSEHOLD<br>(PERSONAL INCOME IF SINGLE)         |\n",
    "|sex      |SEX                                                               |\n",
    "|mar-stat |MARITAL STATUS                                                    |\n",
    "|age      |AGE                                                               |\n",
    "|edu      |EDUCATION                                                         |\n",
    "|occup    |OCCUPATION                                                        |\n",
    "|yrs-BA   |HOW LONG HAVE YOU LIVED IN THE<br>SAN FRAN./OAKLAND/SAN JOSE AREA?|\n",
    "|mar-dlinc|DUAL INCOMES (IF MARRIED)                                         |\n",
    "|num-hsld |PERSONS IN YOUR HOUSEHOLD                                         |\n",
    "|children |PERSONS IN HOUSEHOLD UNDER 18                                     |\n",
    "|hsld-stat|HOUSEHOLDER STATUS                                                |\n",
    "|typ-home |TYPE OF HOME                                                      |\n",
    "|ethnic   |ETHNIC CLASSIFICATION                                             |\n",
    "|lang     |WHAT LANGUAGE IS SPOKEN MOST<br>OFTEN IN YOUR HOME?               |"
   ]
  },
  {
   "cell_type": "code",
   "execution_count": 1,
   "metadata": {
    "collapsed": true
   },
   "outputs": [],
   "source": [
    "import pandas as pd\n",
    "from matplotlib import transforms, pyplot as plt\n",
    "import numpy as np\n",
    "\n",
    "%matplotlib inline\n",
    "\n",
    "# define plots common properties and color constants\n",
    "plt.rcParams['font.family'] = 'Arial'\n",
    "plt.rcParams['axes.linewidth'] = 0.5\n",
    "GRAY1, GRAY4, GRAY7 = '#231F20', '#646369', '#929497'"
   ]
  },
  {
   "cell_type": "markdown",
   "metadata": {},
   "source": [
    "## Load and Prepare Data"
   ]
  },
  {
   "cell_type": "code",
   "execution_count": 2,
   "metadata": {},
   "outputs": [
    {
     "data": {
      "text/html": [
       "<div>\n",
       "<style>\n",
       "    .dataframe thead tr:only-child th {\n",
       "        text-align: right;\n",
       "    }\n",
       "\n",
       "    .dataframe thead th {\n",
       "        text-align: left;\n",
       "    }\n",
       "\n",
       "    .dataframe tbody tr th {\n",
       "        vertical-align: top;\n",
       "    }\n",
       "</style>\n",
       "<table border=\"1\" class=\"dataframe\">\n",
       "  <thead>\n",
       "    <tr style=\"text-align: right;\">\n",
       "      <th></th>\n",
       "      <th>income</th>\n",
       "      <th>sex</th>\n",
       "      <th>mar-stat</th>\n",
       "      <th>age</th>\n",
       "      <th>edu</th>\n",
       "      <th>occup</th>\n",
       "      <th>yrs-BA</th>\n",
       "      <th>mar-dlinc</th>\n",
       "      <th>num-hsld</th>\n",
       "      <th>children</th>\n",
       "      <th>hsld-stat</th>\n",
       "      <th>typ-home</th>\n",
       "      <th>ethnic</th>\n",
       "      <th>lang</th>\n",
       "    </tr>\n",
       "  </thead>\n",
       "  <tbody>\n",
       "    <tr>\n",
       "      <th>0</th>\n",
       "      <td>$75,000 or more</td>\n",
       "      <td>Female</td>\n",
       "      <td>Married</td>\n",
       "      <td>45 thru 54</td>\n",
       "      <td>1 to 3 years of college</td>\n",
       "      <td>Homemaker</td>\n",
       "      <td>More than ten years</td>\n",
       "      <td>No</td>\n",
       "      <td>Three</td>\n",
       "      <td>None</td>\n",
       "      <td>Own</td>\n",
       "      <td>House</td>\n",
       "      <td>White</td>\n",
       "      <td>NaN</td>\n",
       "    </tr>\n",
       "    <tr>\n",
       "      <th>1</th>\n",
       "      <td>$75,000 or more</td>\n",
       "      <td>Male</td>\n",
       "      <td>Married</td>\n",
       "      <td>45 thru 54</td>\n",
       "      <td>College graduate</td>\n",
       "      <td>Homemaker</td>\n",
       "      <td>More than ten years</td>\n",
       "      <td>No</td>\n",
       "      <td>Five</td>\n",
       "      <td>Two</td>\n",
       "      <td>Own</td>\n",
       "      <td>House</td>\n",
       "      <td>White</td>\n",
       "      <td>English</td>\n",
       "    </tr>\n",
       "  </tbody>\n",
       "</table>\n",
       "</div>"
      ],
      "text/plain": [
       "            income     sex mar-stat         age                      edu  \\\n",
       "0  $75,000 or more  Female  Married  45 thru 54  1 to 3 years of college   \n",
       "1  $75,000 or more    Male  Married  45 thru 54         College graduate   \n",
       "\n",
       "       occup               yrs-BA mar-dlinc num-hsld children hsld-stat  \\\n",
       "0  Homemaker  More than ten years        No    Three     None       Own   \n",
       "1  Homemaker  More than ten years        No     Five      Two       Own   \n",
       "\n",
       "  typ-home ethnic     lang  \n",
       "0    House  White      NaN  \n",
       "1    House  White  English  "
      ]
     },
     "execution_count": 2,
     "metadata": {},
     "output_type": "execute_result"
    }
   ],
   "source": [
    "df = pd.read_csv(\"../data/Demographis.txt\", sep=';')\n",
    "df.head(2)"
   ]
  },
  {
   "cell_type": "markdown",
   "metadata": {},
   "source": [
    "### Treat Missing Values"
   ]
  },
  {
   "cell_type": "code",
   "execution_count": 3,
   "metadata": {
    "collapsed": true
   },
   "outputs": [],
   "source": [
    "from sklearn.impute import SimpleImputer"
   ]
  },
  {
   "cell_type": "code",
   "execution_count": 4,
   "metadata": {
    "collapsed": true
   },
   "outputs": [],
   "source": [
    "# replace missing values with most frequent observations\n",
    "imputer = SimpleImputer(strategy=\"most_frequent\")\n",
    "df = pd.DataFrame(imputer.fit_transform(df), columns=df.columns)"
   ]
  },
  {
   "cell_type": "markdown",
   "metadata": {},
   "source": [
    "### Treat Ordered Categorical Features"
   ]
  },
  {
   "cell_type": "code",
   "execution_count": 5,
   "metadata": {
    "collapsed": true
   },
   "outputs": [],
   "source": [
    "# Convert ordered categorical (ordinal) features to quantitative.\n",
    "# The values of this type of variable are often represented\n",
    "# as contiguous integers (1-N), but I prefer 'natural' values.\n",
    "# It doesn't affect the result, but the plots are easier to read\n",
    "income_cats = {\n",
    "    'Less than $10,000':  5000,  '$10,000 to $14,999': 12500,\n",
    "    '$15,000 to $19,999': 17500, '$20,000 to $24,999': 22500,\n",
    "    '$25,000 to $29,999': 27500, '$30,000 to $39,999': 35000,\n",
    "    '$40,000 to $49,999': 45000, '$50,000 to $74,999': 62500,\n",
    "    '$75,000 or more': 100000}\n",
    "\n",
    "age_cats = {\n",
    "    '14 thru 17': 15, '18 thru 24': 21, '25 thru 34': 30,\n",
    "    '35 thru 44': 40, '45 thru 54': 50, '55 thru 64': 60,\n",
    "    '65 and Over': 70}\n",
    "\n",
    "yrs_BA_cats = {\n",
    "    'Less than one year': 0.5, 'One to three years': 2,\n",
    "    'Four to six years': 5,    'Seven to ten years': 8,\n",
    "    'More than ten years': 15}\n",
    "\n",
    "num_hsld_cats = {\n",
    "    'One': 1, 'Two': 2,   'Three': 3, 'Four': 4, 'Five': 5,\n",
    "    'Six': 6, 'Seven': 7, 'Eight': 8, 'Nine or more': 10}\n",
    "\n",
    "children_cats = {\n",
    "    'None': 0, 'One': 1, 'Two': 2,   'Three': 3, 'Four': 4,\n",
    "    'Five': 5, 'Six': 6, 'Seven': 7, 'Eight': 8, 'Nine or more': 10}\n",
    "\n",
    "# do replacement\n",
    "df.replace({\n",
    "    'income': income_cats,\n",
    "    'age': age_cats,\n",
    "    'yrs-BA': yrs_BA_cats,\n",
    "    'num-hsld': num_hsld_cats,\n",
    "    'children': children_cats\n",
    "}, inplace=True)"
   ]
  },
  {
   "cell_type": "markdown",
   "metadata": {},
   "source": [
    "### Train-Test Split"
   ]
  },
  {
   "cell_type": "code",
   "execution_count": 6,
   "metadata": {
    "collapsed": true
   },
   "outputs": [],
   "source": [
    "from sklearn.model_selection import train_test_split"
   ]
  },
  {
   "cell_type": "code",
   "execution_count": 7,
   "metadata": {
    "collapsed": true
   },
   "outputs": [],
   "source": [
    "target = 'occup'\n",
    "features = [\n",
    "    'income', 'sex', 'mar-stat', 'age', 'edu', 'yrs-BA', 'mar-dlinc',\n",
    "    'num-hsld', 'children', 'hsld-stat', 'typ-home', 'ethnic', 'lang']\n",
    "cat_features = [\n",
    "    'sex', 'mar-stat', 'mar-dlinc', 'edu',\n",
    "    'hsld-stat', 'ethnic', 'lang', 'typ-home']\n",
    "\n",
    "X, y = df[features].values, df[target].values\n",
    "\n",
    "# PAGE 379. We randomly divided the data into a training set (80%) \n",
    "#           and test set (20%)\n",
    "X_train, X_test, y_train, y_test = train_test_split(\n",
    "    X, y, test_size=0.2, random_state=1)"
   ]
  },
  {
   "cell_type": "markdown",
   "metadata": {
    "collapsed": true
   },
   "source": [
    "## Base Model"
   ]
  },
  {
   "cell_type": "code",
   "execution_count": 8,
   "metadata": {
    "collapsed": true
   },
   "outputs": [],
   "source": [
    "from sklearn.dummy import DummyClassifier\n",
    "from sklearn.metrics import accuracy_score"
   ]
  },
  {
   "cell_type": "code",
   "execution_count": 9,
   "metadata": {},
   "outputs": [
    {
     "name": "stdout",
     "output_type": "stream",
     "text": [
      "The null error rate 0.69\n"
     ]
    }
   ],
   "source": [
    "# PAGE 379. ...the null rate of 69% obtained by predicting the most\n",
    "#           numerous class Prof/Man (Professional/Managerial).\n",
    "dummy_clf = DummyClassifier(\n",
    "    strategy='most_frequent'\n",
    ").fit(X_train, y_train)\n",
    "y_test_hat = dummy_clf.predict(X_test)\n",
    "dummy_error_rate = 1 - accuracy_score(y_test, y_test_hat)\n",
    "print(f'The null error rate {dummy_error_rate:.2f}')"
   ]
  },
  {
   "cell_type": "markdown",
   "metadata": {},
   "source": [
    "## Boosting over Decision Trees"
   ]
  },
  {
   "cell_type": "code",
   "execution_count": 13,
   "metadata": {
    "collapsed": true
   },
   "outputs": [],
   "source": [
    "from catboost import Pool, CatBoostClassifier\n",
    "from sklearn.metrics import confusion_matrix"
   ]
  },
  {
   "cell_type": "code",
   "execution_count": 11,
   "metadata": {
    "collapsed": true
   },
   "outputs": [],
   "source": [
    "# CatBoost uses the indices of categorical features\n",
    "cat_features_idx = [features.index(f) for f in cat_features]\n",
    "\n",
    "train_dataset = Pool(data=X_train,\n",
    "                     label=y_train,\n",
    "                     cat_features=cat_features_idx)\n",
    "\n",
    "eval_dataset = Pool(data=X_test,\n",
    "                    label=y_test,\n",
    "                    cat_features=cat_features_idx)"
   ]
  },
  {
   "cell_type": "code",
   "execution_count": 12,
   "metadata": {
    "collapsed": true
   },
   "outputs": [],
   "source": [
    "model = CatBoostClassifier(\n",
    "    iterations=350,\n",
    "    learning_rate=0.035,\n",
    "    loss_function='MultiClass',\n",
    "    eval_metric='Accuracy'\n",
    ").fit(\n",
    "    train_dataset,\n",
    "    use_best_model=True,\n",
    "    eval_set=eval_dataset,\n",
    "    verbose=False,\n",
    "    plot=False  # set it True to track training progress\n",
    ")"
   ]
  },
  {
   "cell_type": "markdown",
   "metadata": {
    "collapsed": true
   },
   "source": [
    "### Model Performance"
   ]
  },
  {
   "cell_type": "code",
   "execution_count": 33,
   "metadata": {},
   "outputs": [],
   "source": [
    "# PAGE 379. The overall error rate is 42.5% ... The four best predicted\n",
    "#           classes are seen to be Retired, Student, Prof/Man, and Homemaker.\n",
    "y_test_hat = model.predict(X_test)\n",
    "overall_error_rate = 1 - accuracy_score(y_test, y_test_hat)\n",
    "occupations = list(set(y))\n",
    "cm = confusion_matrix(y_test, y_test_hat, labels=occupations)\n",
    "occup_error_rates = 1 - cm.diagonal()/cm.sum(axis=1)\n",
    "errors = sorted(zip(occup_error_rates, occupations))"
   ]
  },
  {
   "cell_type": "code",
   "execution_count": 34,
   "metadata": {},
   "outputs": [
    {
     "data": {
      "image/png": "[encoded data removed]",
      "text/plain": [
       "<matplotlib.figure.Figure at 0x1a8177e4240>"
      ]
     },
     "metadata": {},
     "output_type": "display_data"
    }
   ],
   "source": [
    "# PAGE 381. FIGURE 10.22. Error rate for each occupation in the demographics\n",
    "#           data.\n",
    "yticks = np.arange(len(errors))\n",
    "yticklabels = [e[1] for e in errors][::-1]\n",
    "bars_sizes = [100*e[0] for e in errors][::-1]\n",
    "\n",
    "fig, ax = plt.subplots(figsize=(4.3, 3), dpi=150)\n",
    "bars = ax.barh(yticks, bars_sizes, height=0.8, color='green')\n",
    "plt.setp(ax, yticks=yticks, yticklabels=yticklabels)\n",
    "ax.set_xlim([0, 100])\n",
    "ax.set_ylim([-0.5, 8.5])\n",
    "for e in ax.get_yticklabels()+ax.get_xticklabels():\n",
    "    e.set_fontsize(6)\n",
    "    e.set_color(GRAY1)\n",
    "ax.tick_params(left=False)\n",
    "ax.spines['right'].set_visible(False)\n",
    "ax.spines['top'].set_visible(False)\n",
    "offset = transforms.ScaledTranslation(0, -0.07, fig.dpi_scale_trans)\n",
    "for e in ax.get_xticklabels() + ax.xaxis.get_ticklines() + \\\n",
    "         [ax.spines['bottom']]:\n",
    "    e.set_transform(e.get_transform() + offset)\n",
    "ax.spines['bottom'].set_bounds(0, 100)\n",
    "ax.text(31, 9, f'Overall Error Rate = {overall_error_rate:.3f}',\n",
    "        color=GRAY4, fontsize=7)\n",
    "_ = ax.set_xlabel('Error Rate', color=GRAY4, fontsize=7)"
   ]
  },
  {
   "cell_type": "markdown",
   "metadata": {
    "collapsed": true
   },
   "source": [
    "### Relative Importance of the Predictors"
   ]
  },
  {
   "cell_type": "code",
   "execution_count": 36,
   "metadata": {},
   "outputs": [],
   "source": [
    "# PAGE 380. Figure 10.23 shows the relative predictor variable\n",
    "#           importances as averaged over all classes (10.46).\n",
    "importance = np.array(model.get_feature_importance())\n",
    "max_importance = np.max(importance)\n",
    "relative_importance = sorted(zip(100*importance/max_importance, features))"
   ]
  },
  {
   "cell_type": "code",
   "execution_count": 39,
   "metadata": {},
   "outputs": [
    {
     "data": {
      "image/png": "[encoded data removed]",
      "text/plain": [
       "<matplotlib.figure.Figure at 0x1a8144fde10>"
      ]
     },
     "metadata": {},
     "output_type": "display_data"
    }
   ],
   "source": [
    "# PAGE 381. FIGURE 10.23. Relative importance of the predictors as\n",
    "#           averaged over all classes for the demographics data.\n",
    "yticks = np.arange(len(relative_importance))\n",
    "yticklabels = [ri[1] for ri in relative_importance][::-1]\n",
    "bars_sizes = [ri[0] for ri in relative_importance][::-1]\n",
    "\n",
    "fig, ax = plt.subplots(figsize=(4.3, 3), dpi=150)\n",
    "bars = ax.barh(yticks, bars_sizes, height=0.8, color='red')\n",
    "plt.setp(ax, yticks=yticks, yticklabels=yticklabels)\n",
    "ax.set_xlim([0, 100])\n",
    "ax.set_ylim([-0.5, len(relative_importance) - 0.5])\n",
    "for e in ax.get_yticklabels()+ax.get_xticklabels():\n",
    "    e.set_fontsize(6)\n",
    "    e.set_color(GRAY1)\n",
    "ax.tick_params(left=False)\n",
    "ax.spines['right'].set_visible(False)\n",
    "ax.spines['top'].set_visible(False)\n",
    "offset = transforms.ScaledTranslation(0, -0.07, fig.dpi_scale_trans)\n",
    "for e in ax.get_xticklabels() + ax.xaxis.get_ticklines() + \\\n",
    "         [ax.spines['bottom']]:\n",
    "    e.set_transform(e.get_transform() + offset)\n",
    "ax.spines['bottom'].set_bounds(0, 100)\n",
    "_ = ax.set_xlabel('Relative Importance', color=GRAY4, fontsize=7)"
   ]
  },
  {
   "cell_type": "code",
   "execution_count": null,
   "metadata": {
    "collapsed": true
   },
   "outputs": [],
   "source": []
  }
 ],
 "metadata": {
  "kernelspec": {
   "display_name": "Python [conda env:Python64]",
   "language": "python",
   "name": "conda-env-Python64-py"
  },
  "language_info": {
   "codemirror_mode": {
    "name": "ipython",
    "version": 3
   },
   "file_extension": ".py",
   "mimetype": "text/x-python",
   "name": "python",
   "nbconvert_exporter": "python",
   "pygments_lexer": "ipython3",
   "version": "3.6.3"
  }
 },
 "nbformat": 4,
 "nbformat_minor": 2
}
