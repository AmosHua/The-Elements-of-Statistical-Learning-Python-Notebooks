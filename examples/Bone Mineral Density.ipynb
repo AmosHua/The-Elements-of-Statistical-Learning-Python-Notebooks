{
 "cells": [
  {
   "cell_type": "markdown",
   "metadata": {},
   "source": [
    "# Bone Mineral Density\n",
    "Relative spinal bone mineral density measurements on 261 North American adolescents.  The response is relative change in spinal BMD (the difference in spnbmd taken on two consecutive visits, divided by the average) over two consecutive visits, typically about one year apart. The age is the average age over the two visits.\n",
    "\n",
    "Variables:\n",
    "\n",
    "|        |                                                       |\n",
    "|--------|-------------------------------------------------------|\n",
    "|idnum   |identifies the child, and hence the repeat measurements|\n",
    "|age     |average age of child when measurements were taken      |\n",
    "|gender  |male or female                                         |\n",
    "|spnbmd  |Relative Spinal bone mineral density measurement       |"
   ]
  },
  {
   "cell_type": "code",
   "execution_count": 1,
   "metadata": {
    "collapsed": true
   },
   "outputs": [],
   "source": [
    "import pandas as pd\n",
    "from matplotlib import pyplot as plt\n",
    "import numpy as np\n",
    "%matplotlib inline"
   ]
  },
  {
   "cell_type": "code",
   "execution_count": 2,
   "metadata": {},
   "outputs": [
    {
     "data": {
      "text/html": [
       "<div>\n",
       "<style>\n",
       "    .dataframe thead tr:only-child th {\n",
       "        text-align: right;\n",
       "    }\n",
       "\n",
       "    .dataframe thead th {\n",
       "        text-align: left;\n",
       "    }\n",
       "\n",
       "    .dataframe tbody tr th {\n",
       "        vertical-align: top;\n",
       "    }\n",
       "</style>\n",
       "<table border=\"1\" class=\"dataframe\">\n",
       "  <thead>\n",
       "    <tr style=\"text-align: right;\">\n",
       "      <th></th>\n",
       "      <th>idnum</th>\n",
       "      <th>age</th>\n",
       "      <th>gender</th>\n",
       "      <th>spnbmd</th>\n",
       "    </tr>\n",
       "  </thead>\n",
       "  <tbody>\n",
       "    <tr>\n",
       "      <th>0</th>\n",
       "      <td>1</td>\n",
       "      <td>11.70</td>\n",
       "      <td>male</td>\n",
       "      <td>0.018081</td>\n",
       "    </tr>\n",
       "    <tr>\n",
       "      <th>1</th>\n",
       "      <td>1</td>\n",
       "      <td>12.70</td>\n",
       "      <td>male</td>\n",
       "      <td>0.060109</td>\n",
       "    </tr>\n",
       "    <tr>\n",
       "      <th>2</th>\n",
       "      <td>1</td>\n",
       "      <td>13.75</td>\n",
       "      <td>male</td>\n",
       "      <td>0.005858</td>\n",
       "    </tr>\n",
       "    <tr>\n",
       "      <th>3</th>\n",
       "      <td>2</td>\n",
       "      <td>13.25</td>\n",
       "      <td>male</td>\n",
       "      <td>0.010264</td>\n",
       "    </tr>\n",
       "    <tr>\n",
       "      <th>4</th>\n",
       "      <td>2</td>\n",
       "      <td>14.30</td>\n",
       "      <td>male</td>\n",
       "      <td>0.210526</td>\n",
       "    </tr>\n",
       "  </tbody>\n",
       "</table>\n",
       "</div>"
      ],
      "text/plain": [
       "   idnum    age gender    spnbmd\n",
       "0      1  11.70   male  0.018081\n",
       "1      1  12.70   male  0.060109\n",
       "2      1  13.75   male  0.005858\n",
       "3      2  13.25   male  0.010264\n",
       "4      2  14.30   male  0.210526"
      ]
     },
     "execution_count": 2,
     "metadata": {},
     "output_type": "execute_result"
    }
   ],
   "source": [
    "df = pd.read_csv(\"../data/Bone Mineral Density.txt\", sep='\\t')\n",
    "df_male = df[df.gender == 'male']\n",
    "df_female = df[df.gender == 'female']\n",
    "df.head()"
   ]
  },
  {
   "cell_type": "markdown",
   "metadata": {},
   "source": [
    "## Smoothing Splines\n",
    "Unfortunately, I did not find any Python library for smoothing splines of a similar implementation from the book. Let's implement it ourselves. To automate differentiation and integration, we will use the symbolic computation library sympy. It works extremely slowly for our task. A quick but less clear implementation can be found in this jupyter notebook \"5 Basis Expansions and Regularization/4 Smoothing Splines.ipynb\"."
   ]
  },
  {
   "cell_type": "code",
   "execution_count": 3,
   "metadata": {
    "collapsed": true
   },
   "outputs": [],
   "source": [
    "from sympy import *"
   ]
  },
  {
   "cell_type": "code",
   "execution_count": 4,
   "metadata": {
    "collapsed": true
   },
   "outputs": [],
   "source": [
    "# PAGE 145. A natural cubic spline with K knots is represented by K basis functions.\n",
    "def buid_basis_functions(knots):\n",
    "    x_min, x_max = min(knots), max(knots)\n",
    "    x = symbols('x')\n",
    "    dK_1 = (x-knots[-2])**3/(knots[-1] - knots[-2])\n",
    "    h = [S.One, x]\n",
    "    for i in range(knots.shape[0] - 2):\n",
    "        n = (x - knots[i])**3/(knots[-1] - knots[i])\n",
    "        h.append(Piecewise(\n",
    "            (0, x < knots[i]), \n",
    "            (n-dK_1, x > knots[-2]),\n",
    "            (n, True)))\n",
    "    return h\n",
    "\n",
    "# PAGE 146. Each basis function is evaluated at each of the N samples, \n",
    "#           resulting in a N × df basis matrix H.\n",
    "def calc_basis_matrix(basis_functions, x):\n",
    "    H = np.zeros((x.shape[0], len(basis_functions)))\n",
    "    for i in range(H.shape[0]):\n",
    "        for j in range(H.shape[1]):\n",
    "            H[i, j] = basis_functions[j].evalf(subs={'x': x[i]})\n",
    "    return H\n",
    "\n",
    "# PAGE 152. The solution is easily seen to be (5.12) a generalized ridge regression.\n",
    "def calc_omega_matrix(basis_functions, knots):\n",
    "    s = len(basis_functions)\n",
    "    basis_functions_diffs = [bs.diff('x', 2) for bs in basis_functions]\n",
    "    O = np.zeros((s, s))\n",
    "    for i in range(s):\n",
    "        for j in range(s):\n",
    "            if j > i or i <= 1 or j <= 1:\n",
    "                continue\n",
    "            bs_i, bs_j = basis_functions_diffs[i], basis_functions_diffs[j]\n",
    "            # NOTE: sympy has errors when integrating piecewise functions\n",
    "            #       please, be carefull\n",
    "            O[i, j] = integrate(bs_i*bs_j, \n",
    "                                ('x', max(knots[i-2], knots[j-2]), knots[-1]))\n",
    "            O[j, i] = O[i, j]\n",
    "    return O"
   ]
  },
  {
   "cell_type": "code",
   "execution_count": 5,
   "metadata": {
    "collapsed": true
   },
   "outputs": [],
   "source": [
    "# given data frame with male/female samples, calculates matrices H, Ω\n",
    "# and matrices for plotting\n",
    "def calc_matrices(df):\n",
    "    x, y = df.age.values, df.spnbmd.values\n",
    "    knots = np.unique(x)\n",
    "    x_plot = np.linspace(knots[0], knots[-1], 100)\n",
    "    h = buid_basis_functions(knots)\n",
    "    H = calc_basis_matrix(h, x)\n",
    "    H_plot = calc_basis_matrix(h, x_plot)\n",
    "    O = calc_omega_matrix(h, knots)\n",
    "    return H, O, H_plot, x_plot"
   ]
  },
  {
   "cell_type": "code",
   "execution_count": 6,
   "metadata": {
    "collapsed": true
   },
   "outputs": [],
   "source": [
    "H_male, O_male, H_plot_male, x_plot_male = calc_matrices(df_male)\n",
    "H_female, O_female, H_plot_female, x_plot_female = calc_matrices(df_female)"
   ]
  },
  {
   "cell_type": "code",
   "execution_count": 7,
   "metadata": {
    "collapsed": true
   },
   "outputs": [],
   "source": [
    "# PAGE 153. By analogy we define the effective degrees of freedom of a \n",
    "#           smoothing spline to be df_l=trace(S_l)\n",
    "def calc_degress_of_freedom(H, O, l):\n",
    "    Sl = H @ np.linalg.inv(H.T @ H + l*O) @ H.T\n",
    "    return np.trace(Sl)\n",
    "\n",
    "# PAGE 152. The solution is easily seen to be (5.12) a generalized ridge \n",
    "#           regression. The fitted smoothing spline is given by (5.13).\n",
    "def calc_model_parameters(H, O, l, y):\n",
    "    theta = np.linalg.inv(H.T @ H + l*O) @ H.T @ y\n",
    "    return theta"
   ]
  },
  {
   "cell_type": "code",
   "execution_count": 8,
   "metadata": {},
   "outputs": [
    {
     "name": "stdout",
     "output_type": "stream",
     "text": [
      "MALE DF=12.17\n",
      "FEMALE DF=12.81\n"
     ]
    }
   ],
   "source": [
    "# NOTE: In the book, they have 12 degrees of freedom with the lambda\n",
    "#       equals to 0.00022. But that number didn't work for me.\n",
    "l = 0.00022*3600\n",
    "print(f'MALE DF={calc_degress_of_freedom(H_male, O_male, l):.2f}')\n",
    "print(f'FEMALE DF={calc_degress_of_freedom(H_female, O_female, l):.2f}')\n",
    "theta_male = calc_model_parameters(H_male, O_male, l, df_male.spnbmd.values)\n",
    "theta_female = calc_model_parameters(H_female, O_female, l, df_female.spnbmd.values)"
   ]
  },
  {
   "cell_type": "code",
   "execution_count": 9,
   "metadata": {
    "collapsed": true
   },
   "outputs": [],
   "source": [
    "y_plot_male = H_plot_male @ theta_male\n",
    "y_plot_female = H_plot_female @ theta_female"
   ]
  },
  {
   "cell_type": "code",
   "execution_count": 10,
   "metadata": {},
   "outputs": [
    {
     "data": {
      "image/png": "[encoded data removed]",
      "text/plain": [
       "<matplotlib.figure.Figure at 0x1d8f1cc5208>"
      ]
     },
     "metadata": {},
     "output_type": "display_data"
    }
   ],
   "source": [
    "# PAGE 152. FIGURE 5.6. The response is the relative change in bone mineral density measured \n",
    "#           at the spine in adolescents, as a function of age. A separate smoothing spline\n",
    "#           was fit to the males and females, with λ ≈ 0.00022. This choice corresponds to\n",
    "#           about 12 degrees of freedom. \n",
    "#           The data are color coded by gender, and two separate curves were fit. This simple\n",
    "#           summary reinforces the evidence in the data that the growth spurt for\n",
    "#           females precedes that for males by about two years.    \n",
    "plt.rcParams['font.family'] = 'Arial'\n",
    "plt.rcParams['axes.linewidth'] = 0.5\n",
    "RED, BLUE, GRAY4 = '#FF5865', '#0000FF', '#646369'\n",
    "fig, ax1 = plt.subplots(figsize=(5.15,3.94), dpi=150)\n",
    "ax1.plot(x_plot_male, y_plot_male, color=BLUE, linewidth=1, label='Male')\n",
    "ax1.plot(x_plot_female, y_plot_female, color=RED, linewidth=1, label='Female')\n",
    "ax1.scatter(df_male.age.values, df_male.spnbmd.values, color=BLUE, s=1)\n",
    "ax1.scatter(df_female.age.values, df_female.spnbmd.values, color=RED, s=1)\n",
    "for i in ax1.get_yticklabels() + ax1.get_xticklabels():\n",
    "    i.set_fontsize(7)    \n",
    "ax1.axhline(y=0, c=GRAY4, linewidth=0.5, linestyle='--')\n",
    "ax1.set_xlabel('Age', color=GRAY4, fontsize=8)\n",
    "ax1.set_ylabel('Relative Change in Spinal BMD', color=GRAY4, fontsize=8)\n",
    "_ = ax1.legend(loc='upper right', prop={'size': 8})"
   ]
  },
  {
   "cell_type": "code",
   "execution_count": null,
   "metadata": {
    "collapsed": true
   },
   "outputs": [],
   "source": []
  }
 ],
 "metadata": {
  "kernelspec": {
   "display_name": "Python [conda env:Python64]",
   "language": "python",
   "name": "conda-env-Python64-py"
  },
  "language_info": {
   "codemirror_mode": {
    "name": "ipython",
    "version": 3
   },
   "file_extension": ".py",
   "mimetype": "text/x-python",
   "name": "python",
   "nbconvert_exporter": "python",
   "pygments_lexer": "ipython3",
   "version": "3.6.3"
  }
 },
 "nbformat": 4,
 "nbformat_minor": 2
}
