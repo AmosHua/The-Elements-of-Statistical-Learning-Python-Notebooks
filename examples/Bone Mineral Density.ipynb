{
 "cells": [
  {
   "cell_type": "markdown",
   "metadata": {},
   "source": [
    "# Bone Mineral Density\n",
    "Relative spinal bone mineral density measurements on 261 North American adolescents.  The response is relative change in spinal BMD (the difference in spnbmd taken on two consecutive visits, divided by the average) over two consecutive visits, typically about one year apart. The age is the average age over the two visits.\n",
    "\n",
    "Variables:\n",
    "\n",
    "|        |                                                       |\n",
    "|--------|-------------------------------------------------------|\n",
    "|idnum   |identifies the child, and hence the repeat measurements|\n",
    "|age     |average age of child when measurements were taken      |\n",
    "|gender  |male or female                                         |\n",
    "|spnbmd  |Relative Spinal bone mineral density measurement       |"
   ]
  },
  {
   "cell_type": "code",
   "execution_count": 1,
   "metadata": {
    "collapsed": true
   },
   "outputs": [],
   "source": [
    "import pandas as pd\n",
    "from matplotlib import pyplot as plt\n",
    "import numpy as np\n",
    "%matplotlib inline"
   ]
  },
  {
   "cell_type": "code",
   "execution_count": 2,
   "metadata": {},
   "outputs": [
    {
     "data": {
      "text/html": [
       "<div>\n",
       "<style>\n",
       "    .dataframe thead tr:only-child th {\n",
       "        text-align: right;\n",
       "    }\n",
       "\n",
       "    .dataframe thead th {\n",
       "        text-align: left;\n",
       "    }\n",
       "\n",
       "    .dataframe tbody tr th {\n",
       "        vertical-align: top;\n",
       "    }\n",
       "</style>\n",
       "<table border=\"1\" class=\"dataframe\">\n",
       "  <thead>\n",
       "    <tr style=\"text-align: right;\">\n",
       "      <th></th>\n",
       "      <th>idnum</th>\n",
       "      <th>age</th>\n",
       "      <th>gender</th>\n",
       "      <th>spnbmd</th>\n",
       "    </tr>\n",
       "  </thead>\n",
       "  <tbody>\n",
       "    <tr>\n",
       "      <th>0</th>\n",
       "      <td>1</td>\n",
       "      <td>11.70</td>\n",
       "      <td>male</td>\n",
       "      <td>0.018081</td>\n",
       "    </tr>\n",
       "    <tr>\n",
       "      <th>1</th>\n",
       "      <td>1</td>\n",
       "      <td>12.70</td>\n",
       "      <td>male</td>\n",
       "      <td>0.060109</td>\n",
       "    </tr>\n",
       "    <tr>\n",
       "      <th>2</th>\n",
       "      <td>1</td>\n",
       "      <td>13.75</td>\n",
       "      <td>male</td>\n",
       "      <td>0.005858</td>\n",
       "    </tr>\n",
       "    <tr>\n",
       "      <th>3</th>\n",
       "      <td>2</td>\n",
       "      <td>13.25</td>\n",
       "      <td>male</td>\n",
       "      <td>0.010264</td>\n",
       "    </tr>\n",
       "    <tr>\n",
       "      <th>4</th>\n",
       "      <td>2</td>\n",
       "      <td>14.30</td>\n",
       "      <td>male</td>\n",
       "      <td>0.210526</td>\n",
       "    </tr>\n",
       "  </tbody>\n",
       "</table>\n",
       "</div>"
      ],
      "text/plain": [
       "   idnum    age gender    spnbmd\n",
       "0      1  11.70   male  0.018081\n",
       "1      1  12.70   male  0.060109\n",
       "2      1  13.75   male  0.005858\n",
       "3      2  13.25   male  0.010264\n",
       "4      2  14.30   male  0.210526"
      ]
     },
     "execution_count": 2,
     "metadata": {},
     "output_type": "execute_result"
    }
   ],
   "source": [
    "df = pd.read_csv(\"../data/Bone Mineral Density.txt\", sep='\\t')\n",
    "df_male = df[df.gender == 'male']\n",
    "df_female = df[df.gender == 'female']\n",
    "df.head()"
   ]
  },
  {
   "cell_type": "code",
   "execution_count": 3,
   "metadata": {
    "collapsed": true
   },
   "outputs": [],
   "source": [
    "from sympy import *"
   ]
  },
  {
   "cell_type": "code",
   "execution_count": 4,
   "metadata": {
    "collapsed": true
   },
   "outputs": [],
   "source": [
    "def buid_basis_functions(knots):\n",
    "    x_min, x_max = min(knots), max(knots)\n",
    "    x = symbols('x')\n",
    "    dK_1 = (x-knots[-2])**3/(knots[-1] - knots[-2])\n",
    "    h = [S.One, x]\n",
    "    for i in range(knots.shape[0] - 2):\n",
    "        n = (x - knots[i])**3/(knots[-1] - knots[i])\n",
    "        h.append(Piecewise(\n",
    "            (0, x < knots[i]), \n",
    "            (n-dK_1, x > knots[-2]),\n",
    "            (n, True)))\n",
    "    return h\n",
    "\n",
    "def calc_basis_matrix(basis_functions, x):\n",
    "    H = np.zeros((x.shape[0], len(basis_functions)))\n",
    "    for i in range(H.shape[0]):\n",
    "        for j in range(H.shape[1]):\n",
    "            H[i, j] = basis_functions[j].evalf(subs={'x': x[i]})\n",
    "    return H\n",
    "\n",
    "# incorrect integral calculation, check 2x4\n",
    "def calc_omega_matrix(basis_functions, knots):\n",
    "    s = len(basis_functions)\n",
    "    basis_functions_diffs = [bs.diff('x', 2) for bs in basis_functions]\n",
    "    O = np.zeros((s, s))\n",
    "    for i in range(s):\n",
    "        for j in range(s):\n",
    "            if j > i or i <= 1 or j <= 1:\n",
    "                continue\n",
    "            bs_i, bs_j = basis_functions_diffs[i], basis_functions_diffs[j]\n",
    "            # sympy has errors in integrating piecewise functions\n",
    "            # please, be carefull\n",
    "            O[i, j] = integrate(bs_i*bs_j, \n",
    "                                ('x', max(knots[i-2], knots[j-2]), knots[-1]))\n",
    "            O[j, i] = O[i, j]\n",
    "    return O"
   ]
  },
  {
   "cell_type": "code",
   "execution_count": 5,
   "metadata": {
    "collapsed": true
   },
   "outputs": [],
   "source": [
    "def calc_matrices(df):\n",
    "    x, y = df.age.values, df.spnbmd.values\n",
    "    knots = np.unique(x)\n",
    "    x_plot = np.linspace(knots[0], knots[-1], 100)\n",
    "    h = buid_basis_functions(knots)\n",
    "    H = calc_basis_matrix(h, x)\n",
    "    H_plot = calc_basis_matrix(h, x_plot)\n",
    "    O = calc_omega_matrix(h, knots)\n",
    "    return H, O, H_plot, x_plot"
   ]
  },
  {
   "cell_type": "code",
   "execution_count": null,
   "metadata": {
    "collapsed": true
   },
   "outputs": [],
   "source": [
    "H_male, O_male, H_plot_male, x_plot_male = calc_matrices(df_male)\n",
    "H_female, O_female, H_plot_female, x_plot_female = calc_matrices(df_female)"
   ]
  },
  {
   "cell_type": "code",
   "execution_count": null,
   "metadata": {
    "collapsed": true
   },
   "outputs": [],
   "source": [
    "def calc_degress_of_freedom(H, O, l):\n",
    "    Sl = H @ np.linalg.inv(H.T @ H + l*O) @ H.T\n",
    "    return np.trace(Sl)\n",
    "\n",
    "def calc_model_parameters(H, O, l, y):\n",
    "    theta = np.linalg.inv(H.T @ H + l*O) @ H.T @ y\n",
    "    return theta"
   ]
  },
  {
   "cell_type": "code",
   "execution_count": null,
   "metadata": {},
   "outputs": [],
   "source": [
    "l = 0.00022*3600\n",
    "print(f'MALE DF={calc_degress_of_freedom(H_male, O_male, l):.2f}')\n",
    "print(f'FEMALE DF={calc_degress_of_freedom(H_female, O_female, l):.2f}')\n",
    "theta_male = calc_model_parameters(H_male, O_male, l, df_male.spnbmd.values)\n",
    "theta_female = calc_model_parameters(H_female, O_female, l, df_female.spnbmd.values)"
   ]
  },
  {
   "cell_type": "code",
   "execution_count": null,
   "metadata": {
    "collapsed": true
   },
   "outputs": [],
   "source": [
    "y_plot_male = H_plot_male @ theta_male\n",
    "y_plot_female = H_plot_female @ theta_female"
   ]
  },
  {
   "cell_type": "code",
   "execution_count": null,
   "metadata": {},
   "outputs": [],
   "source": [
    "plt.figure(figsize=(7.5,5.7))\n",
    "plt.plot(x_plot_male, y_plot_male, color='blue')\n",
    "plt.plot(x_plot_female, y_plot_female, color='red')\n",
    "plt.scatter(df_male.age.values, df_male.spnbmd.values, color='blue', s=0.5)\n",
    "plt.scatter(df_female.age.values, df_female.spnbmd.values, color='red', s=0.5)"
   ]
  },
  {
   "cell_type": "code",
   "execution_count": null,
   "metadata": {
    "collapsed": true
   },
   "outputs": [],
   "source": []
  }
 ],
 "metadata": {
  "kernelspec": {
   "display_name": "Python [conda env:Python64]",
   "language": "python",
   "name": "conda-env-Python64-py"
  },
  "language_info": {
   "codemirror_mode": {
    "name": "ipython",
    "version": 3
   },
   "file_extension": ".py",
   "mimetype": "text/x-python",
   "name": "python",
   "nbconvert_exporter": "python",
   "pygments_lexer": "ipython3",
   "version": "3.6.3"
  }
 },
 "nbformat": 4,
 "nbformat_minor": 2
}
