{
 "cells": [
  {
   "cell_type": "code",
   "execution_count": 30,
   "metadata": {},
   "outputs": [],
   "source": [
    "import pandas as pd\n",
    "from matplotlib import pyplot as plt\n",
    "import numpy as np\n",
    "import statsmodels.api as sm\n",
    "import seaborn as sns\n",
    "%matplotlib inline"
   ]
  },
  {
   "cell_type": "code",
   "execution_count": 14,
   "metadata": {},
   "outputs": [
    {
     "data": {
      "text/html": [
       "<div>\n",
       "<style>\n",
       "    .dataframe thead tr:only-child th {\n",
       "        text-align: right;\n",
       "    }\n",
       "\n",
       "    .dataframe thead th {\n",
       "        text-align: left;\n",
       "    }\n",
       "\n",
       "    .dataframe tbody tr th {\n",
       "        vertical-align: top;\n",
       "    }\n",
       "</style>\n",
       "<table border=\"1\" class=\"dataframe\">\n",
       "  <thead>\n",
       "    <tr style=\"text-align: right;\">\n",
       "      <th></th>\n",
       "      <th>idnum</th>\n",
       "      <th>age</th>\n",
       "      <th>gender</th>\n",
       "      <th>spnbmd</th>\n",
       "    </tr>\n",
       "  </thead>\n",
       "  <tbody>\n",
       "    <tr>\n",
       "      <th>0</th>\n",
       "      <td>1</td>\n",
       "      <td>11.70</td>\n",
       "      <td>male</td>\n",
       "      <td>0.018081</td>\n",
       "    </tr>\n",
       "    <tr>\n",
       "      <th>1</th>\n",
       "      <td>1</td>\n",
       "      <td>12.70</td>\n",
       "      <td>male</td>\n",
       "      <td>0.060109</td>\n",
       "    </tr>\n",
       "    <tr>\n",
       "      <th>2</th>\n",
       "      <td>1</td>\n",
       "      <td>13.75</td>\n",
       "      <td>male</td>\n",
       "      <td>0.005858</td>\n",
       "    </tr>\n",
       "    <tr>\n",
       "      <th>3</th>\n",
       "      <td>2</td>\n",
       "      <td>13.25</td>\n",
       "      <td>male</td>\n",
       "      <td>0.010264</td>\n",
       "    </tr>\n",
       "    <tr>\n",
       "      <th>4</th>\n",
       "      <td>2</td>\n",
       "      <td>14.30</td>\n",
       "      <td>male</td>\n",
       "      <td>0.210526</td>\n",
       "    </tr>\n",
       "  </tbody>\n",
       "</table>\n",
       "</div>"
      ],
      "text/plain": [
       "   idnum    age gender    spnbmd\n",
       "0      1  11.70   male  0.018081\n",
       "1      1  12.70   male  0.060109\n",
       "2      1  13.75   male  0.005858\n",
       "3      2  13.25   male  0.010264\n",
       "4      2  14.30   male  0.210526"
      ]
     },
     "execution_count": 14,
     "metadata": {},
     "output_type": "execute_result"
    }
   ],
   "source": [
    "df = pd.read_csv(\"../data/Bone Mineral Density.txt\", sep='\\t')\n",
    "df.head()"
   ]
  },
  {
   "cell_type": "code",
   "execution_count": 15,
   "metadata": {
    "collapsed": true
   },
   "outputs": [],
   "source": [
    "x_male = df[df.gender == 'male'].age.values\n",
    "y_male = df[df.gender == 'male'].spnbmd.values\n",
    "x_female = df[df.gender == 'female'].age.values\n",
    "y_female = df[df.gender == 'female'].spnbmd.values\n",
    "x_min, x_max = df.age.min(), df.age.max()"
   ]
  },
  {
   "cell_type": "code",
   "execution_count": 16,
   "metadata": {
    "collapsed": true
   },
   "outputs": [],
   "source": [
    "def dk(x, xi_k, xi_K):\n",
    "    return (max(0, x-xi_k)**3) / (xi_K-xi_k)\n",
    "\n",
    "def do_nc_expansion(x, xis):\n",
    "    X = np.zeros(shape=(x.shape[0], len(xis)))\n",
    "    for i in range(X.shape[0]):\n",
    "        X[i, 0] = 1\n",
    "        X[i, 1] = x[i]\n",
    "        for k in range(2, len(xis)):\n",
    "            X[i, k] = dk(x[i], xis[k-2], xis[-1]) - dk(x[i], xis[-2], xis[-1])\n",
    "    return X"
   ]
  },
  {
   "cell_type": "code",
   "execution_count": 17,
   "metadata": {
    "collapsed": true
   },
   "outputs": [],
   "source": [
    "x_unique_male = np.unique(x_male)\n",
    "N_male = do_nc_expansion(x_male, x_unique_male)\n",
    "x_unique_female = np.unique(x_female)\n",
    "N_female = do_nc_expansion(x_female, x_unique_female)"
   ]
  },
  {
   "cell_type": "code",
   "execution_count": 18,
   "metadata": {
    "collapsed": true
   },
   "outputs": [],
   "source": [
    "ls_male = sm.OLS(y_male, N_male).fit_regularized(alpha=0.00022, L1_wt=0)\n",
    "ls_female = sm.OLS(y_female, N_female).fit_regularized(alpha=0.00022, L1_wt=0)"
   ]
  },
  {
   "cell_type": "code",
   "execution_count": 19,
   "metadata": {},
   "outputs": [
    {
     "data": {
      "text/plain": [
       "[<matplotlib.lines.Line2D at 0x1fac2ab1c88>]"
      ]
     },
     "execution_count": 19,
     "metadata": {},
     "output_type": "execute_result"
    },
    {
     "data": {
      "image/png": "[encoded data removed]",
      "text/plain": [
       "<matplotlib.figure.Figure at 0x1fac28b39b0>"
      ]
     },
     "metadata": {},
     "output_type": "display_data"
    }
   ],
   "source": [
    "plt.figure(figsize=(7.5,5.7))\n",
    "x = np.linspace(x_min, x_max, 100)\n",
    "y_male_hat = ls_male.predict(do_nc_expansion(x, x_unique_male))\n",
    "y_female_hat = ls_female.predict(do_nc_expansion(x, x_unique_female))\n",
    "plt.scatter(x_male, y_male, s=0.5, color='blue')\n",
    "plt.plot(x, y_male_hat, color='blue')\n",
    "plt.scatter(x_female, y_female, s=0.5, color='red')\n",
    "plt.plot(x, y_female_hat, color='red')"
   ]
  },
  {
   "cell_type": "code",
   "execution_count": 20,
   "metadata": {
    "collapsed": true
   },
   "outputs": [],
   "source": [
    "def a_ij(i, j, a):\n",
    "    return (a[-1]-a[i]) * (a[-1]-a[j])\n",
    "def integral_formula(x, i, j, a):\n",
    "    return (1/a_ij(i, j, a)) * (1/3*(x**3) - 1/2*(x**2)*(a[i]+a[j])+x*a[i]*a[j])\n",
    "def integral_value(i, j, a):\n",
    "    xs, xf = a[max(i, j)], a[-1]\n",
    "    return integral_formula(xf, i, j, a) - integral_formula(xs, i, j, a)\n",
    "def N_ij(i, j, k, a):\n",
    "    return 36*(integral_value(i, j, a) - integral_value(i, k-1, a) - integral_value(j, k-1, a) + integral_value(k-1, k-1, a))"
   ]
  },
  {
   "cell_type": "code",
   "execution_count": 21,
   "metadata": {},
   "outputs": [],
   "source": [
    "def calc_O(x_unique, N):\n",
    "    O = np.zeros(shape=(N.shape[1], N.shape[1]))\n",
    "    k = x_unique.shape[0]-1\n",
    "    for i in range(O.shape[0]):\n",
    "        for j in range(O.shape[1]):\n",
    "            if i <= 1 or j <= 1:\n",
    "                continue\n",
    "            O[i, j] = N_ij(i-2, j-2, k, x_unique)    \n",
    "    return O"
   ]
  },
  {
   "cell_type": "code",
   "execution_count": 22,
   "metadata": {},
   "outputs": [],
   "source": [
    "O_male = calc_O(x_unique_male, N_male)\n",
    "O_female = calc_O(x_unique_female, N_female)"
   ]
  },
  {
   "cell_type": "code",
   "execution_count": 23,
   "metadata": {},
   "outputs": [],
   "source": [
    "theta_male_hat = np.linalg.inv(N_male.T @ N_male + 0.00022*3600*O_male) @ N_male.T @ y_male\n",
    "y_male_hat = do_nc_expansion(x, x_unique_male) @ theta_male_hat\n",
    "theta_female_hat = np.linalg.inv(N_female.T @ N_female + 0.00022*3600*O_female) @ N_female.T @ y_female\n",
    "y_female_hat = do_nc_expansion(x, x_unique_female) @ theta_female_hat"
   ]
  },
  {
   "cell_type": "code",
   "execution_count": 24,
   "metadata": {},
   "outputs": [
    {
     "data": {
      "text/plain": [
       "[<matplotlib.lines.Line2D at 0x1fac2b2a588>]"
      ]
     },
     "execution_count": 24,
     "metadata": {},
     "output_type": "execute_result"
    },
    {
     "data": {
      "image/png": "[encoded data removed]",
      "text/plain": [
       "<matplotlib.figure.Figure at 0x1fac2ad38d0>"
      ]
     },
     "metadata": {},
     "output_type": "display_data"
    }
   ],
   "source": [
    "plt.figure(figsize=(7.5,5.7))\n",
    "plt.scatter(x_male, y_male, s=0.5, color='blue')\n",
    "plt.plot(x, y_male_hat, color='blue')\n",
    "plt.scatter(x_female, y_female, s=0.5, color='red')\n",
    "plt.plot(x, y_female_hat, color='red')"
   ]
  },
  {
   "cell_type": "code",
   "execution_count": 25,
   "metadata": {
    "collapsed": true
   },
   "outputs": [],
   "source": [
    "Sl = N_male @ np.linalg.inv(N_male.T @ N_male + 0.00022*3600*O_male) @ N_male.T"
   ]
  },
  {
   "cell_type": "code",
   "execution_count": 29,
   "metadata": {},
   "outputs": [
    {
     "data": {
      "text/plain": [
       "12.174112995996126"
      ]
     },
     "execution_count": 29,
     "metadata": {},
     "output_type": "execute_result"
    }
   ],
   "source": [
    "np.trace(Sl)"
   ]
  },
  {
   "cell_type": "code",
   "execution_count": null,
   "metadata": {
    "collapsed": true
   },
   "outputs": [],
   "source": []
  }
 ],
 "metadata": {
  "kernelspec": {
   "display_name": "Python [conda env:Python64]",
   "language": "python",
   "name": "conda-env-Python64-py"
  },
  "language_info": {
   "codemirror_mode": {
    "name": "ipython",
    "version": 3
   },
   "file_extension": ".py",
   "mimetype": "text/x-python",
   "name": "python",
   "nbconvert_exporter": "python",
   "pygments_lexer": "ipython3",
   "version": "3.6.3"
  }
 },
 "nbformat": 4,
 "nbformat_minor": 2
}
