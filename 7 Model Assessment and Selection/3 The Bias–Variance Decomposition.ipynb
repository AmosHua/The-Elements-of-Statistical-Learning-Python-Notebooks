{
 "cells": [
  {
   "cell_type": "code",
   "execution_count": 9,
   "metadata": {
    "collapsed": true
   },
   "outputs": [],
   "source": [
    "import numpy as np\n",
    "from numpy.random import uniform\n",
    "from matplotlib import pyplot as plt\n",
    "from sklearn import neighbors\n",
    "from itertools import combinations\n",
    "%matplotlib inline"
   ]
  },
  {
   "cell_type": "code",
   "execution_count": 2,
   "metadata": {},
   "outputs": [],
   "source": [
    "test_size = 10000\n",
    "trials = 100\n",
    "X_test = uniform(0, 1, size=(test_size, 20))\n",
    "Y1_test= (X_test[:,0]>0.5) + np.zeros(test_size)\n",
    "Y2_test = (np.sum(X_test[:,:10], axis=1)>5) + np.zeros(test_size)"
   ]
  },
  {
   "cell_type": "code",
   "execution_count": 3,
   "metadata": {
    "collapsed": true
   },
   "outputs": [],
   "source": [
    "k_means_gen_erros = {k: [] for k in [50, 40, 30, 20, 10, 7, 3, 1]}"
   ]
  },
  {
   "cell_type": "code",
   "execution_count": 4,
   "metadata": {},
   "outputs": [],
   "source": [
    "for k in k_means_gen_erros:\n",
    "    for t in range(trials):\n",
    "        X = uniform(0, 1, size=(80, 20))\n",
    "        Y1= (X[:,0]>0.5) + np.zeros(80)\n",
    "        knn = neighbors.KNeighborsRegressor(k)\n",
    "        predict = knn.fit(X, Y1).predict(X_test)\n",
    "        k_means_gen_erros[k].append(np.mean((Y1_test - predict) ** 2))\n",
    "    break"
   ]
  },
  {
   "cell_type": "code",
   "execution_count": 5,
   "metadata": {},
   "outputs": [],
   "source": [
    "k_means_pred_errors = []\n",
    "k_means_bias = []\n",
    "k_means_variance = []\n",
    "\n",
    "for k in sorted(k_means_gen_erros):\n",
    "    tmp = np.zeros((test_size, trials))\n",
    "    err = []\n",
    "    for t in range(trials):\n",
    "        X = uniform(0, 1, size=(80, 20))\n",
    "        Y1= (X[:,0]>0.5) + np.zeros(80)\n",
    "        knn = neighbors.KNeighborsRegressor(k)\n",
    "        predict = knn.fit(X, Y1).predict(X_test)\n",
    "        tmp[:,t] = predict\n",
    "        err.append(np.mean((Y1_test - predict)**2))\n",
    "    bias, variance = np.mean((np.mean(tmp, axis=1) - Y1_test)**2), np.mean(np.var(tmp, axis=1))\n",
    "    k_means_pred_errors.append(np.mean(err))\n",
    "    k_means_bias.append(bias)\n",
    "    k_means_variance.append(variance)"
   ]
  },
  {
   "cell_type": "code",
   "execution_count": 6,
   "metadata": {},
   "outputs": [
    {
     "data": {
      "text/plain": [
       "(0, 0.4)"
      ]
     },
     "execution_count": 6,
     "metadata": {},
     "output_type": "execute_result"
    },
    {
     "data": {
      "image/png": "[encoded data removed]",
      "text/plain": [
       "<matplotlib.figure.Figure at 0x1d1a2014a90>"
      ]
     },
     "metadata": {},
     "output_type": "display_data"
    }
   ],
   "source": [
    "plt.plot(sorted(k_means_gen_erros), k_means_pred_errors)\n",
    "plt.plot(sorted(k_means_gen_erros), k_means_bias)\n",
    "plt.plot(sorted(k_means_gen_erros), k_means_variance)\n",
    "plt.gca().invert_xaxis()\n",
    "plt.ylim(0, 0.4)"
   ]
  },
  {
   "cell_type": "code",
   "execution_count": 35,
   "metadata": {},
   "outputs": [],
   "source": [
    "p = 18\n",
    "X_test_ = np.hstack((np.ones(shape=(X_test.shape[0], 1)), X_test))"
   ]
  },
  {
   "cell_type": "code",
   "execution_count": 36,
   "metadata": {},
   "outputs": [],
   "source": [
    "lr_pred_errors = []\n",
    "\n",
    "for t in range(trials):\n",
    "    X = uniform(0, 1, size=(80, 20))\n",
    "    Y2 = (np.sum(X[:,:10], axis=1)>5) + np.zeros(80)\n",
    "    X = np.hstack((np.ones(shape=(80, 1)), X))\n",
    "\n",
    "    best_combination, best_beta, min_error = None, None, np.inf\n",
    "    for predictors in combinations(list(range(1, 21)), p):\n",
    "        predictors = [0] + list(predictors)\n",
    "        X_ = X[:,predictors]\n",
    "        beta = np.linalg.inv(X_.T @ X_) @ X_.T @ Y2\n",
    "        y_hat = X_ @ beta\n",
    "        error = np.mean((Y2 - y_hat) ** 2)\n",
    "        if error < min_error:\n",
    "            best_combination = predictors\n",
    "            min_error = error\n",
    "            best_beta = beta\n",
    "    y_hat = X_test_[:,best_combination] @ best_beta\n",
    "    lr_pred_errors.append(np.mean((Y2_test - y_hat)**2))"
   ]
  },
  {
   "cell_type": "code",
   "execution_count": 37,
   "metadata": {},
   "outputs": [
    {
     "data": {
      "text/plain": [
       "0.12132272780442374"
      ]
     },
     "execution_count": 37,
     "metadata": {},
     "output_type": "execute_result"
    }
   ],
   "source": [
    "np.mean(lr_pred_errors)"
   ]
  },
  {
   "cell_type": "code",
   "execution_count": null,
   "metadata": {
    "collapsed": true
   },
   "outputs": [],
   "source": []
  }
 ],
 "metadata": {
  "kernelspec": {
   "display_name": "Python [conda env:Python64]",
   "language": "python",
   "name": "conda-env-Python64-py"
  },
  "language_info": {
   "codemirror_mode": {
    "name": "ipython",
    "version": 3
   },
   "file_extension": ".py",
   "mimetype": "text/x-python",
   "name": "python",
   "nbconvert_exporter": "python",
   "pygments_lexer": "ipython3",
   "version": "3.6.3"
  }
 },
 "nbformat": 4,
 "nbformat_minor": 2
}
